{
 "cells": [
  {
   "cell_type": "code",
   "execution_count": null,
   "id": "f5bfc9aa-a14b-4806-9e10-eca1262f9e61",
   "metadata": {
    "tags": []
   },
   "outputs": [],
   "source": [
    "import numpy as np \n",
    "import pandas as pd \n",
    "import matplotlib.pyplot as plt\n",
    "import seaborn as sns\n",
    "\n",
    "from scipy.stats import uniform\n",
    "from scipy import interp\n",
    "from sklearn.feature_extraction.text import CountVectorizer\n",
    "from sklearn import feature_extraction, linear_model, model_selection, preprocessing\n",
    "from sklearn.model_selection import train_test_split, RandomizedSearchCV, StratifiedKFold\n",
    "from sklearn.feature_extraction.text import TfidfTransformer\n",
    "from sklearn.pipeline import Pipeline\n",
    "\n",
    "#predictive model\n",
    "from xgboost import XGBClassifier\n",
    "from sklearn.ensemble import RandomForestClassifier\n",
    "\n",
    "#metrics\n",
    "from sklearn.metrics import accuracy_score, classification_report, confusion_matrix, roc_curve, auc, roc_auc_score, confusion_matrix"
   ]
  },
  {
   "cell_type": "code",
   "execution_count": null,
   "id": "c1fb6973-052a-47b4-8467-35f482932766",
   "metadata": {
    "tags": []
   },
   "outputs": [],
   "source": [
    "df = pd.read_csv(\"../../data/processed/cleaned_reviews.csv\")\n",
    "df.head()"
   ]
  },
  {
   "cell_type": "code",
   "execution_count": null,
   "id": "7827813b-d1e9-44ff-91fe-8412aff978ea",
   "metadata": {
    "tags": []
   },
   "outputs": [],
   "source": [
    "#split the data\n",
    "X = df['clean_reviews']\n",
    "y = [1 if label =='positive' else 0 for label in df['Sentiment']]\n",
    "X_train, X_test, y_train, y_test = train_test_split(X, y, test_size=0.2, random_state=101)"
   ]
  },
  {
   "cell_type": "code",
   "execution_count": null,
   "id": "9fac2b36-96a5-4d58-92ad-e7cd91f94cca",
   "metadata": {
    "tags": []
   },
   "outputs": [],
   "source": [
    "#RandomSearchCV\n",
    "# define the parameters to tune\n",
    "param_dist = {\"learning_rate\": uniform(0, 2),\n",
    "              \"gamma\": uniform(1, 0.000001),\n",
    "              \"max_depth\": range(1,50),\n",
    "              \"n_estimators\": range(1,300),\n",
    "              \"min_child_weight\": range(1,10),\n",
    "              'n_jobs': range(1,5),\n",
    "              'subsample':[i/10.0 for i in range(6,10)],\n",
    "              'colsample_bytree':[i/10.0 for i in range(6,10)]}\n",
    "#instance of RandomSearchCV\n",
    "rs = RandomizedSearchCV(XGBClassifier(), param_distributions=param_dist, n_iter=3) #25 iterations"
   ]
  },
  {
   "cell_type": "code",
   "execution_count": null,
   "id": "22657720-e7a8-4108-8ed9-a29f7d5ff1fd",
   "metadata": {
    "tags": []
   },
   "outputs": [],
   "source": [
    "model  = Pipeline([\n",
    "    ('count', CountVectorizer()),\n",
    "    ('tfidf', TfidfTransformer()),\n",
    "    ('model', rs)\n",
    "])"
   ]
  },
  {
   "cell_type": "code",
   "execution_count": null,
   "id": "6cf7f4a7-b392-499e-a95e-db8f3d917df2",
   "metadata": {
    "tags": []
   },
   "outputs": [],
   "source": [
    "#fit the data\n",
    "model.fit(X_train, y_train)"
   ]
  },
  {
   "cell_type": "code",
   "execution_count": null,
   "id": "1d96f7d8-dd49-48cc-81d7-907d6b7dc6f3",
   "metadata": {
    "tags": []
   },
   "outputs": [],
   "source": [
    "#predict the test data\n",
    "predictions=model.predict(X_test)"
   ]
  },
  {
   "cell_type": "code",
   "execution_count": null,
   "id": "be8f1734-b40d-406c-bf37-33901a077af8",
   "metadata": {
    "tags": []
   },
   "outputs": [],
   "source": [
    "auc = roc_auc_score(y_test, predictions)\n",
    "print(\"Model AUC ROC : \", auc)"
   ]
  },
  {
   "cell_type": "code",
   "execution_count": null,
   "id": "ae7f03c7-c9f3-49a0-9278-1b455e09bab8",
   "metadata": {
    "tags": []
   },
   "outputs": [],
   "source": [
    "print('Model Accuracy: ', round(accuracy_score(y_test, predictions)*100,2), '%')"
   ]
  },
  {
   "cell_type": "code",
   "execution_count": null,
   "id": "b5326e6a-1ede-48b3-a0d6-22c32bc0323b",
   "metadata": {
    "tags": []
   },
   "outputs": [],
   "source": [
    "print(classification_report(y_test, predictions))"
   ]
  },
  {
   "cell_type": "code",
   "execution_count": null,
   "id": "233d9b49-e8e9-4bdf-adfc-60652242775e",
   "metadata": {
    "tags": []
   },
   "outputs": [],
   "source": [
    "tn, fp, fn, tp = confusion_matrix(y_test, predictions).ravel()\n",
    "# Error rate : \n",
    "err_rate = (fp + fn) / (tp + tn + fn + fp)\n",
    "print(\"Error rate  : \", err_rate)\n",
    "# Accuracy : \n",
    "acc_ = (tp + tn) / (tp + tn + fn + fp)\n",
    "print(\"Accuracy  : \", acc_)\n",
    "# Sensitivity : \n",
    "sens_ = tp / (tp + fn)\n",
    "print(\"Sensitivity  : \", sens_)\n",
    "# Specificity \n",
    "sp_ = tn / (tn + fp)\n",
    "print(\"Specificity  : \", sens_)\n",
    "# False positive rate (FPR)\n",
    "FPR = fp / (tn + fp)\n",
    "print(\"False positive rate  : \", FPR)"
   ]
  },
  {
   "cell_type": "markdown",
   "id": "55284098-61de-4fe5-a41e-eae87f1c3a86",
   "metadata": {},
   "source": [
    "Basic XGBoost model with pre-processed data and hyper-parameter tuning\n",
    "\n",
    "Model accuracy 83.93%\n",
    "\n",
    "Model AUC ROC: 0.768\n",
    "\n",
    "Next steps:\n",
    "- After feature engineering ,we will have additional features (Topic Labels etc) to train"
   ]
  }
 ],
 "metadata": {
  "kernelspec": {
   "display_name": "Python 3 (ipykernel)",
   "language": "python",
   "name": "python3"
  },
  "language_info": {
   "codemirror_mode": {
    "name": "ipython",
    "version": 3
   },
   "file_extension": ".py",
   "mimetype": "text/x-python",
   "name": "python",
   "nbconvert_exporter": "python",
   "pygments_lexer": "ipython3",
   "version": "3.10.9"
  }
 },
 "nbformat": 4,
 "nbformat_minor": 5
}
