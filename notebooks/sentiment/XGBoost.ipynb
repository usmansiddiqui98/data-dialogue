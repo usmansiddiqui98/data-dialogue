{
 "cells": [
  {
   "cell_type": "code",
   "execution_count": null,
   "id": "f5bfc9aa-a14b-4806-9e10-eca1262f9e61",
   "metadata": {
    "tags": []
   },
   "outputs": [],
   "source": [
    "import numpy as np \n",
    "from numpy import argmax\n",
    "import pandas as pd \n",
    "import matplotlib.pyplot as plt\n",
    "import seaborn as sns\n",
    "import joblib\n",
    "\n",
    "from scipy.stats import uniform\n",
    "from scipy import interp\n",
    "from sklearn.feature_extraction.text import CountVectorizer\n",
    "from sklearn import feature_extraction, linear_model, model_selection, preprocessing\n",
    "from sklearn.model_selection import train_test_split, RandomizedSearchCV, StratifiedKFold\n",
    "from sklearn.feature_extraction.text import TfidfTransformer\n",
    "from sklearn.pipeline import Pipeline\n",
    "\n",
    "#predictive model\n",
    "from xgboost import XGBClassifier\n",
    "from sklearn.ensemble import RandomForestClassifier\n",
    "\n",
    "#metrics\n",
    "from sklearn.metrics import accuracy_score, classification_report, confusion_matrix, roc_curve, auc, roc_auc_score, precision_recall_curve"
   ]
  },
  {
   "cell_type": "code",
   "execution_count": null,
   "id": "c1fb6973-052a-47b4-8467-35f482932766",
   "metadata": {
    "tags": []
   },
   "outputs": [],
   "source": [
    "# df = pd.read_csv(\"../../data/processed/cleaned_reviews.csv\")\n",
    "df = pd.read_csv(\"../../data/processed/clean_reviews_w_topics.csv\")\n",
    "df.head()"
   ]
  },
  {
   "cell_type": "code",
   "execution_count": null,
   "id": "7827813b-d1e9-44ff-91fe-8412aff978ea",
   "metadata": {
    "tags": []
   },
   "outputs": [],
   "source": [
    "#split the data\n",
    "# X = df['clean_reviews']\n",
    "X = df['cleaned_text']\n",
    "y = [1 if label =='positive' else 0 for label in df['sentiment']]\n",
    "X_train, X_test, y_train, y_test = train_test_split(X, y, test_size=0.2, random_state=101)"
   ]
  },
  {
   "cell_type": "code",
   "execution_count": null,
   "id": "280af0b0-c433-4043-8d1b-348a1e370e3d",
   "metadata": {
    "tags": []
   },
   "outputs": [],
   "source": [
    "# scale_pos_weight\n",
    "print((len(y_train)-sum(y_train))/sum(y_train))"
   ]
  },
  {
   "cell_type": "markdown",
   "id": "0e9d84f2-4344-4aed-ad2c-a6c0a5b0761b",
   "metadata": {},
   "source": [
    "# Parameter Tuning #1"
   ]
  },
  {
   "cell_type": "code",
   "execution_count": null,
   "id": "9fac2b36-96a5-4d58-92ad-e7cd91f94cca",
   "metadata": {
    "tags": []
   },
   "outputs": [],
   "source": [
    "#RandomSearchCV\n",
    "# define the parameters to tune\n",
    "param_dist = {\"learning_rate\": uniform(0, 2),\n",
    "              \"gamma\": uniform(1, 0.000001),\n",
    "              \"max_depth\": range(1,50),\n",
    "              \"n_estimators\": range(1,300),\n",
    "              \"min_child_weight\": range(1,10),\n",
    "              'n_jobs': range(1,5),\n",
    "              'subsample':[i/10.0 for i in range(6,10)],\n",
    "              'colsample_bytree':[i/10.0 for i in range(6,10)]}\n",
    "#instance of RandomSearchCV\n",
    "rs = RandomizedSearchCV(XGBClassifier(), param_distributions=param_dist, n_iter=3) #25 iterations"
   ]
  },
  {
   "cell_type": "code",
   "execution_count": null,
   "id": "08e7bbf3-63f2-4535-862d-6c151171455a",
   "metadata": {
    "tags": []
   },
   "outputs": [],
   "source": [
    "model  = Pipeline([\n",
    "    ('count', CountVectorizer()),\n",
    "    ('tfidf', TfidfTransformer()),\n",
    "    ('model', rs)\n",
    "])"
   ]
  },
  {
   "cell_type": "code",
   "execution_count": null,
   "id": "d07507e0-97af-4c92-b107-870ae75ee4c8",
   "metadata": {
    "tags": []
   },
   "outputs": [],
   "source": [
    "#fit the data\n",
    "model.fit(X_train, y_train)"
   ]
  },
  {
   "cell_type": "markdown",
   "id": "bce63628-69f0-44cb-b423-589e856f8f05",
   "metadata": {},
   "source": [
    "# Parameter Tuning #2"
   ]
  },
  {
   "cell_type": "code",
   "execution_count": null,
   "id": "55d1240f-17ef-40ab-89b5-7910cdd725ff",
   "metadata": {
    "tags": []
   },
   "outputs": [],
   "source": [
    "# RandomSearchCV + Stratified K Fold for cross validation\n",
    "params = {\n",
    "        'n_estimators': [i for i in range(100, 1000)],\n",
    "        'max_depth': [i for i in range(3, 10)],\n",
    "        'min_child_weight': [i for i in range(1, 10)],\n",
    "        'subsample': [i/100 for i in range(60, 100)],\n",
    "        'learning_rate': [i/1000.0 for i in range(100,1000,25)],\n",
    "        'colsample_bytree':[i/10.0 for i in range(6,10)]\n",
    "        }\n",
    "\n",
    "clf = XGBClassifier(scale_pos_weight=3.5, eval_metric=\"aucpr\")\n",
    "\n",
    "folds = 15\n",
    "param_comb = 5\n",
    "skf = StratifiedKFold(n_splits=folds, shuffle = True, random_state = 1002)\n",
    "\n",
    "random_search = RandomizedSearchCV(clf, \n",
    "                                   param_distributions=params, \n",
    "                                   n_iter=param_comb, \n",
    "                                   scoring ='f1',\n",
    "                                   n_jobs=4, \n",
    "                                   cv=skf.split(X_train,y_train), \n",
    "                                   verbose=3, \n",
    "                                  )\n",
    "\n",
    "model  = Pipeline([\n",
    "    ('count', CountVectorizer()),\n",
    "    ('tfidf', TfidfTransformer()),\n",
    "    ('model', random_search)\n",
    "])\n",
    "\n",
    "#fit the data\n",
    "model.fit(X_train, y_train)"
   ]
  },
  {
   "cell_type": "code",
   "execution_count": null,
   "id": "a9e96499-0cf5-4e92-8917-04a7a49d905d",
   "metadata": {
    "tags": []
   },
   "outputs": [],
   "source": [
    "# save best parameters\n",
    "# joblib.dump(model.named_steps.model.best_estimator_, 'xgboost_best_model.pkl')"
   ]
  },
  {
   "cell_type": "markdown",
   "id": "2380c323-b8ba-4a68-9943-9cb21b16bef2",
   "metadata": {},
   "source": [
    "# Load Saved Model"
   ]
  },
  {
   "cell_type": "code",
   "execution_count": null,
   "id": "42d2a2e0-2c5f-46c0-9344-0f8248c9b252",
   "metadata": {
    "tags": []
   },
   "outputs": [],
   "source": [
    "saved_model = joblib.load('xgboost_best_model.pkl')"
   ]
  },
  {
   "cell_type": "code",
   "execution_count": null,
   "id": "692f4619-2272-492a-b270-85b06bc695aa",
   "metadata": {
    "tags": []
   },
   "outputs": [],
   "source": [
    "model  = Pipeline([\n",
    "    ('count', CountVectorizer()),\n",
    "    ('tfidf', TfidfTransformer()),\n",
    "    ('model', saved_model)\n",
    "])\n",
    "\n",
    "model.fit(X_train, y_train)"
   ]
  },
  {
   "cell_type": "markdown",
   "id": "762de244-7b2e-4c0f-883a-494d63407ac1",
   "metadata": {},
   "source": [
    "# Model Evaluation"
   ]
  },
  {
   "cell_type": "code",
   "execution_count": null,
   "id": "1d96f7d8-dd49-48cc-81d7-907d6b7dc6f3",
   "metadata": {
    "tags": []
   },
   "outputs": [],
   "source": [
    "#predict the test data\n",
    "predictions=model.predict(X_test)"
   ]
  },
  {
   "cell_type": "code",
   "execution_count": null,
   "id": "be8f1734-b40d-406c-bf37-33901a077af8",
   "metadata": {
    "tags": []
   },
   "outputs": [],
   "source": [
    "auc = roc_auc_score(y_test, predictions)\n",
    "print(\"Model AUC ROC : \", auc)"
   ]
  },
  {
   "cell_type": "code",
   "execution_count": null,
   "id": "ae7f03c7-c9f3-49a0-9278-1b455e09bab8",
   "metadata": {
    "tags": []
   },
   "outputs": [],
   "source": [
    "print('Model Accuracy: ', round(accuracy_score(y_test, predictions)*100,2), '%')"
   ]
  },
  {
   "cell_type": "code",
   "execution_count": null,
   "id": "b5326e6a-1ede-48b3-a0d6-22c32bc0323b",
   "metadata": {
    "tags": []
   },
   "outputs": [],
   "source": [
    "print(classification_report(y_test, predictions))"
   ]
  },
  {
   "cell_type": "code",
   "execution_count": null,
   "id": "233d9b49-e8e9-4bdf-adfc-60652242775e",
   "metadata": {
    "tags": []
   },
   "outputs": [],
   "source": [
    "tn, fp, fn, tp = confusion_matrix(y_test, predictions).ravel()\n",
    "# Error rate : \n",
    "err_rate = (fp + fn) / (tp + tn + fn + fp)\n",
    "print(\"Error rate  : \", err_rate)\n",
    "# Accuracy : \n",
    "acc_ = (tp + tn) / (tp + tn + fn + fp)\n",
    "print(\"Accuracy  : \", acc_)\n",
    "# Sensitivity : \n",
    "sens_ = tp / (tp + fn)\n",
    "print(\"Sensitivity  : \", sens_)\n",
    "# Specificity \n",
    "sp_ = tn / (tn + fp)\n",
    "print(\"Specificity  : \", sens_)\n",
    "# False positive rate (FPR)\n",
    "FPR = fp / (tn + fp)\n",
    "print(\"False positive rate  : \", FPR)"
   ]
  },
  {
   "cell_type": "markdown",
   "id": "143593cb-9404-445a-8b63-2d7197d929b2",
   "metadata": {},
   "source": [
    "# Optimal Threshold Probability"
   ]
  },
  {
   "cell_type": "code",
   "execution_count": null,
   "id": "dfe56f8e-e6a8-4877-a24a-20397b5039ae",
   "metadata": {
    "tags": []
   },
   "outputs": [],
   "source": [
    "def Find_Optimal_Threshold(target, predicted):\n",
    "    # calculate precision-recall roc curves\n",
    "    precision, recall, thresholds = precision_recall_curve(target, predicted)\n",
    "    # convert to f score\n",
    "    fscore = (2 * precision * recall) / (precision + recall)\n",
    "    # locate the index of the largest f score\n",
    "    ix = argmax(fscore)\n",
    "    print('Best Threshold=%f, F-Score=%.3f' % (thresholds[ix], fscore[ix]))\n",
    "\n",
    "    return thresholds[ix]"
   ]
  },
  {
   "cell_type": "code",
   "execution_count": null,
   "id": "ad600f42-3b32-44b5-a3fe-302a1a02a026",
   "metadata": {
    "tags": []
   },
   "outputs": [],
   "source": [
    "prob_test = model.predict_proba(X_test)[:,1]\n",
    "prob_train = model.predict_proba(X_train)[:,1]\n",
    "\n",
    "predicted_test = []\n",
    "\n",
    "threshold_train = Find_Optimal_Threshold(y_train, prob_train)\n",
    "print('threshold is: ', threshold_train)\n",
    "\n",
    "for i in prob_test:\n",
    "    if i > 0.65:\n",
    "        predicted_test.append(1)\n",
    "    else:\n",
    "        predicted_test.append(0)"
   ]
  },
  {
   "cell_type": "code",
   "execution_count": null,
   "id": "f4b1309d-100b-461b-9846-480424e15f2f",
   "metadata": {
    "tags": []
   },
   "outputs": [],
   "source": [
    "auc = roc_auc_score(y_test, predicted_test)\n",
    "print(\"Model AUC ROC : \", auc)"
   ]
  },
  {
   "cell_type": "code",
   "execution_count": null,
   "id": "c78c71bf-4c5a-4487-bcf5-3bd00cd98a3f",
   "metadata": {
    "tags": []
   },
   "outputs": [],
   "source": [
    "print('Model Accuracy: ', round(accuracy_score(y_test, predicted_test)*100,2), '%')"
   ]
  },
  {
   "cell_type": "code",
   "execution_count": null,
   "id": "7e40b8e0-eb56-4868-a861-c1c92a244594",
   "metadata": {
    "tags": []
   },
   "outputs": [],
   "source": [
    "print(classification_report(y_test, predicted_test))"
   ]
  },
  {
   "cell_type": "code",
   "execution_count": null,
   "id": "b48afdeb-0d51-451d-9940-9b1c94f45a89",
   "metadata": {
    "tags": []
   },
   "outputs": [],
   "source": [
    "tn, fp, fn, tp = confusion_matrix(y_test, predicted_test).ravel()\n",
    "# Error rate : \n",
    "err_rate = (fp + fn) / (tp + tn + fn + fp)\n",
    "print(\"Error rate  : \", err_rate)\n",
    "# Accuracy : \n",
    "acc_ = (tp + tn) / (tp + tn + fn + fp)\n",
    "print(\"Accuracy  : \", acc_)\n",
    "# Sensitivity : \n",
    "sens_ = tp / (tp + fn)\n",
    "print(\"Sensitivity  : \", sens_)\n",
    "# Specificity \n",
    "sp_ = tn / (tn + fp)\n",
    "print(\"Specificity  : \", sens_)\n",
    "# False positive rate (FPR)\n",
    "FPR = fp / (tn + fp)\n",
    "print(\"False positive rate  : \", FPR)"
   ]
  },
  {
   "cell_type": "markdown",
   "id": "55284098-61de-4fe5-a41e-eae87f1c3a86",
   "metadata": {},
   "source": [
    "## Basic XGBoost model with pre-processed data and hyper-parameter tuning\n",
    "\n",
    "Model accuracy 83.93%\n",
    "\n",
    "Model AUC ROC: 0.768\n",
    "\n",
    "Next steps:\n",
    "- After feature engineering ,we will have additional features (Topic Labels etc) to train"
   ]
  },
  {
   "cell_type": "markdown",
   "id": "bf73a91a-d02d-498b-9765-15dd5f7cb49e",
   "metadata": {},
   "source": [
    "## Parameter tuning #1 with clean_reviews_w_topics.csv \n",
    "\n",
    "Model accuracy 81.54%\n",
    "\n",
    "Model AUC ROC: 0.726"
   ]
  },
  {
   "cell_type": "markdown",
   "id": "d10a805d-9712-4630-9b53-1e4aee0e8103",
   "metadata": {},
   "source": [
    "## Parameter tuning #2 with clean_reviews_w_topics.csv \n",
    "Added StratifiedKFold CV with Random Search CV + scale_pos_weight\n",
    "\n",
    "Model accuracy: 85.77%\n",
    "\n",
    "Model AUC ROC: 0.763"
   ]
  },
  {
   "cell_type": "markdown",
   "id": "923833c1-e4d0-4e9e-86c6-6d437905499d",
   "metadata": {},
   "source": [
    "## Parameter tuning #2 with clean_reviews_w_topics.csv \n",
    "Added StratifiedKFold CV with Random Search CV + Optimal Threshold Probability + scale_pos_weight\n",
    "\n",
    "Best Threshold: 0.795\n",
    "\n",
    "Model accuracy: 86.23%\n",
    "\n",
    "Model AUC ROC: 0.790"
   ]
  },
  {
   "cell_type": "code",
   "execution_count": null,
   "id": "60e140eb-2498-4f8d-bd97-96e7fa7db34f",
   "metadata": {},
   "outputs": [],
   "source": []
  }
 ],
 "metadata": {
  "kernelspec": {
   "display_name": "Python 3 (ipykernel)",
   "language": "python",
   "name": "python3"
  },
  "language_info": {
   "codemirror_mode": {
    "name": "ipython",
    "version": 3
   },
   "file_extension": ".py",
   "mimetype": "text/x-python",
   "name": "python",
   "nbconvert_exporter": "python",
   "pygments_lexer": "ipython3",
   "version": "3.9.6"
  }
 },
 "nbformat": 4,
 "nbformat_minor": 5
}
