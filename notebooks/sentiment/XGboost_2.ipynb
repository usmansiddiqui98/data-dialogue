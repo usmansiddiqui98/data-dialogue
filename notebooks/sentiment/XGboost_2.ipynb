{
 "cells": [
  {
   "cell_type": "markdown",
   "id": "bb34acf7-bca6-4ebb-b936-ab7f9924fd89",
   "metadata": {},
   "source": [
    "# XGBoost"
   ]
  },
  {
   "cell_type": "markdown",
   "id": "001645a6-b51e-4214-847a-b1fcd0f07f1b",
   "metadata": {},
   "source": [
    "## Load and import data"
   ]
  },
  {
   "cell_type": "code",
   "execution_count": null,
   "id": "53ab455e-2612-484f-b755-99af3d7321f4",
   "metadata": {
    "tags": []
   },
   "outputs": [],
   "source": [
    "import pandas as pd\n",
    "import numpy as np\n",
    "from sklearn.feature_extraction.text import TfidfVectorizer\n",
    "from sklearn.model_selection import train_test_split, GridSearchCV, StratifiedKFold\n",
    "from sklearn.decomposition import TruncatedSVD\n",
    "from xgboost import XGBClassifier\n",
    "from xgboost import plot_importance\n",
    "from sklearn.metrics import accuracy_score,precision_score, recall_score, confusion_matrix, classification_report, roc_curve, roc_auc_score, f1_score\n",
    "from src.data.make_dataset import main as get_data\n",
    "import scipy\n",
    "import matplotlib.pyplot as plt\n",
    "import pickle"
   ]
  },
  {
   "cell_type": "code",
   "execution_count": null,
   "id": "72aa1309-5b13-488c-b816-3d54df454afe",
   "metadata": {
    "tags": []
   },
   "outputs": [],
   "source": [
    "X_train, X_test, y_train, y_test = get_data(\"../../data/raw/reviews.csv\")"
   ]
  },
  {
   "cell_type": "markdown",
   "id": "2a8a8da1-e9bc-4db1-aac7-fe7ae46c788c",
   "metadata": {},
   "source": [
    "## Prepare data for XGB"
   ]
  },
  {
   "cell_type": "code",
   "execution_count": null,
   "id": "32e2520b-dc78-4dc7-b6ed-b7f10b1cff3d",
   "metadata": {
    "tags": []
   },
   "outputs": [],
   "source": [
    "X_train.drop([\"uppercase_words\"], axis=1, inplace=True)\n",
    "X_test.drop([\"uppercase_words\"], axis=1, inplace=True)"
   ]
  },
  {
   "cell_type": "code",
   "execution_count": null,
   "id": "b0e9e6f7-b802-4f57-9d83-23a63b2e98ee",
   "metadata": {
    "tags": []
   },
   "outputs": [],
   "source": [
    "vectorizer = TfidfVectorizer()\n",
    "\n",
    "X_train.reset_index(drop=True, inplace=True)\n",
    "X_test.reset_index(drop=True, inplace=True)\n",
    "y_train.reset_index(drop=True, inplace=True)\n",
    "y_test.reset_index(drop=True, inplace=True)\n",
    "\n",
    "X_train_tfidf = vectorizer.fit_transform(X_train['cleaned_text'])\n",
    "X_test_tfidf = vectorizer.transform(X_test['cleaned_text'])\n",
    "\n",
    "X_train_tfidf = pd.DataFrame(X_train_tfidf.toarray(), columns=vectorizer.get_feature_names_out())\n",
    "X_test_tfidf = pd.DataFrame(X_test_tfidf.toarray(), columns=vectorizer.get_feature_names_out())\n",
    "\n",
    "X_train_clean = X_train.drop(['cleaned_text', 'text'], axis=1)\n",
    "X_test_clean = X_test.drop(['cleaned_text', 'text'], axis=1)\n",
    "\n",
    "X_train_concat = pd.concat([X_train_clean, X_train_tfidf], axis=1)\n",
    "X_test_concat = pd.concat([X_test_clean, X_test_tfidf], axis=1)\n",
    "\n",
    "X_train_concat = X_train_concat.loc[:, ~X_train_concat.columns.duplicated()].copy()\n",
    "X_test_concat = X_test_concat.loc[:, ~X_test_concat.columns.duplicated()].copy()"
   ]
  },
  {
   "cell_type": "code",
   "execution_count": null,
   "outputs": [],
   "source": [
    "X_train_concat.shape"
   ],
   "metadata": {
    "collapsed": false
   }
  },
  {
   "cell_type": "markdown",
   "id": "297da298-3935-418d-b1cf-deec9d4ddb3e",
   "metadata": {},
   "source": [
    "## Vanilla XGBoost"
   ]
  },
  {
   "cell_type": "code",
   "execution_count": null,
   "id": "6f06f8a0-d88a-49a6-9742-de3539f0758c",
   "metadata": {},
   "outputs": [],
   "source": [
    "xgb_clf = XGBClassifier(use_label_encoder=False, eval_metric='mlogloss', random_state=4265)\n",
    "xgb_clf.fit(X_train_concat, y_train)"
   ]
  },
  {
   "cell_type": "markdown",
   "id": "561f6a24-dbfd-408e-ae75-3c862ca2075a",
   "metadata": {},
   "source": [
    "### Evaluation"
   ]
  },
  {
   "cell_type": "code",
   "execution_count": null,
   "id": "8c08f9a9-f04e-4e75-b5ae-0eaca5eacc68",
   "metadata": {
    "tags": []
   },
   "outputs": [],
   "source": [
    "# Make predictions on the testing set\n",
    "y_pred = xgb_clf.predict(X_test_concat)\n",
    "\n",
    "# Evaluate the model\n",
    "accuracy = accuracy_score(y_test, y_pred)\n",
    "precision = precision_score(y_test,y_pred)\n",
    "recall = recall_score(y_test, y_pred)\n",
    "conf_matrix = confusion_matrix(y_test, y_pred)\n",
    "class_report = classification_report(y_test, y_pred)\n",
    "f1_score = f1_score(y_test, y_pred)\n",
    "print(\"Accuracy:\", accuracy)\n",
    "print(\"Precision:\", precision)\n",
    "print(\"Recall:\", recall)\n",
    "print(\"f1-score:\", f1_score)\n",
    "print(\"Confusion Matrix: \\n\", conf_matrix)\n",
    "print(\"Classification Report: \\n\", class_report)"
   ]
  },
  {
   "cell_type": "code",
   "execution_count": null,
   "id": "3e371f66-5908-4f87-9115-19022afa3af5",
   "metadata": {
    "tags": []
   },
   "outputs": [],
   "source": [
    "# plot roc curve\n",
    "fpr, tpr, _ = roc_curve(y_test,  y_pred)\n",
    "plt.plot(fpr,tpr)\n",
    "plt.ylabel('True Positive Rate')\n",
    "plt.xlabel('False Positive Rate')\n",
    "plt.show()\n",
    "auc = roc_auc_score(y_test, y_pred)\n",
    "print(f\"For this XGBoost model, the AUC score is: {auc}\")"
   ]
  },
  {
   "cell_type": "code",
   "execution_count": null,
   "id": "184027d0-3201-4a4f-b401-aafc5b0b073b",
   "metadata": {
    "tags": []
   },
   "outputs": [],
   "source": [
    "# feature selection\n",
    "plot_importance(xgb_clf, max_num_features=20)\n",
    "plt.show()"
   ]
  },
  {
   "cell_type": "markdown",
   "id": "ef3d1c54-af6d-47d8-9eca-11e8b94de66f",
   "metadata": {},
   "source": [
    "## XGBoost with dimensionality reduction and Tuning"
   ]
  },
  {
   "cell_type": "markdown",
   "id": "be7bcaeb-bfee-4c9e-ac61-2692a9d7044b",
   "metadata": {},
   "source": [
    "### SVD"
   ]
  },
  {
   "cell_type": "code",
   "execution_count": null,
   "id": "c4b70b4c-01f3-4acd-bf09-fd6b87b4dbf3",
   "metadata": {
    "tags": []
   },
   "outputs": [],
   "source": [
    "n_components = 100\n",
    "svd = TruncatedSVD(n_components=n_components)\n",
    "X_train_svd = svd.fit_transform(X_train_tfidf)\n",
    "X_test_svd = svd.transform(X_test_tfidf)"
   ]
  },
  {
   "cell_type": "code",
   "execution_count": null,
   "id": "42bb0f0d-120a-49bb-bd06-1cc5367f8546",
   "metadata": {
    "tags": []
   },
   "outputs": [],
   "source": [
    "X_train_svd_df = pd.DataFrame(X_train_svd, columns=[f'svd_{i}' for i in range(n_components)])\n",
    "X_test_svd_df = pd.DataFrame(X_test_svd, columns=[f'svd_{i}' for i in range(n_components)])\n",
    "\n",
    "X_train_concat_svd = pd.concat([X_train_clean, X_train_svd_df], axis=1)\n",
    "X_test_concat_svd = pd.concat([X_test_clean, X_test_svd_df], axis=1)"
   ]
  },
  {
   "cell_type": "markdown",
   "id": "5dfcd11a-0d24-47b0-9561-238cf9225b57",
   "metadata": {},
   "source": [
    "### Tuning and fitting (Do not run again)"
   ]
  },
  {
   "cell_type": "code",
   "execution_count": null,
   "id": "fde0f8a8-8c83-499f-ab5e-82b87280e471",
   "metadata": {
    "tags": []
   },
   "outputs": [],
   "source": [
    "param_grid = {\n",
    "    'learning_rate': [0.01, 0.1, 0.2],\n",
    "    'max_depth': [3, 4, 5, 6],\n",
    "    'min_child_weight': [1, 3, 5],\n",
    "    'subsample': [0.5, 0.7, 1],\n",
    "    'colsample_bytree': [0.5, 0.7, 1],\n",
    "    'n_estimators': [100, 200, 500],\n",
    "}"
   ]
  },
  {
   "cell_type": "code",
   "execution_count": null,
   "id": "9e440fb2-008a-40fd-af6e-9b9ab3fbf7e2",
   "metadata": {
    "tags": []
   },
   "outputs": [],
   "source": [
    "xgb_clf_tuned = XGBClassifier(use_label_encoder=False, eval_metric='mlogloss')"
   ]
  },
  {
   "cell_type": "code",
   "execution_count": null,
   "id": "f7b33489-1bfb-4b6c-af1d-6e37e6be8b79",
   "metadata": {
    "tags": []
   },
   "outputs": [],
   "source": [
    "grid_search = GridSearchCV(estimator=xgb_clf_tuned, param_grid=param_grid, cv=5, scoring='accuracy', n_jobs=-1)"
   ]
  },
  {
   "cell_type": "code",
   "execution_count": null,
   "id": "bd18d5e1-f095-4538-9ae2-1bbbc426e2ca",
   "metadata": {
    "tags": []
   },
   "outputs": [],
   "source": [
    "grid_search.fit(X_train_svd, y_train)"
   ]
  },
  {
   "cell_type": "code",
   "execution_count": null,
   "id": "b53629b9-6cd6-4403-a923-69634dd2cc6d",
   "metadata": {
    "tags": []
   },
   "outputs": [],
   "source": [
    "best_params = grid_search.best_params_ \n",
    "best_score = grid_search.best_score_\n",
    "\n",
    "print(\"Best parameters:\", best_params)\n",
    "print(\"Best accuracy score:\", best_score)"
   ]
  },
  {
   "cell_type": "code",
   "execution_count": null,
   "id": "5e797b36-6180-43da-954c-5483b93317c0",
   "metadata": {
    "tags": []
   },
   "outputs": [],
   "source": [
    "xgb_best_clf = XGBClassifier(use_label_encoder=False, eval_metric='mlogloss', **best_params)\n",
    "xgb_best_clf.fit(X_train_svd, y_train)"
   ]
  },
  {
   "cell_type": "markdown",
   "id": "e082db5f-7c4a-409e-9cfa-4bd9254c029e",
   "metadata": {},
   "source": [
    "### Evaluation"
   ]
  },
  {
   "cell_type": "code",
   "execution_count": null,
   "id": "81af4b72-ddd9-421f-a50e-73a2bac2874e",
   "metadata": {
    "tags": []
   },
   "outputs": [],
   "source": [
    "y_pred_tuned = xgb_best_clf.predict(X_test_svd)\n",
    "accuracy_tuned = accuracy_score(y_test, y_pred_tuned)\n",
    "precision_tuned = precision_score(y_test,y_pred_tuned)\n",
    "recall_tuned = recall_score(y_test, y_pred_tuned)\n",
    "conf_matrix_tuned = confusion_matrix(y_test, y_pred_tuned)\n",
    "class_report_tuned = classification_report(y_test, y_pred_tuned)\n",
    "f1_score_tuned = f1_score(y_test, y_pred_tuned)\n",
    "\n",
    "\n",
    "print(\"Accuracy on the test set:\", accuracy)\n",
    "print(\"Precision:\", precision_tuned)\n",
    "print(\"Recall:\", recall_tuned)\n",
    "print(\"f1-score:\", f1_score_tuned)\n",
    "print(\"Confusion Matrix: \\n\", conf_matrix_tuned)\n",
    "print(\"Classification Report: \\n\", class_report_tuned)"
   ]
  },
  {
   "cell_type": "code",
   "execution_count": null,
   "id": "460c7ce3-052c-43c6-ba25-2574110ccf22",
   "metadata": {
    "tags": []
   },
   "outputs": [],
   "source": [
    "# plot roc curve\n",
    "fpr, tpr, _ = roc_curve(y_test,  y_pred_tuned)\n",
    "plt.plot(fpr,tpr)\n",
    "plt.ylabel('True Positive Rate')\n",
    "plt.xlabel('False Positive Rate')\n",
    "plt.show()\n",
    "auc = roc_auc_score(y_test, y_pred_tuned)\n",
    "print(f\"For this XGBoost model, the AUC score is: {auc}\")"
   ]
  },
  {
   "cell_type": "markdown",
   "id": "bce69747-5d11-440a-b0d5-0a5be70886dd",
   "metadata": {},
   "source": [
    "## Store both tuned and vanilla models and vectorizers"
   ]
  },
  {
   "cell_type": "code",
   "execution_count": null,
   "id": "8710cbc8-4da3-4424-969a-111e9a46d0ad",
   "metadata": {
    "tags": []
   },
   "outputs": [],
   "source": [
    "# vanilla model\n",
    "with open(\"xgb_original_model.pkl\", \"wb\") as f:\n",
    "    pickle.dump(xgb_clf, f)"
   ]
  },
  {
   "cell_type": "code",
   "execution_count": null,
   "id": "a0f60917-706f-4ae0-9502-dd3bf2a3df09",
   "metadata": {
    "tags": []
   },
   "outputs": [],
   "source": [
    "# tuned model with SVD\n",
    "with open(\"xgb_tuned_model_svd.pkl\", \"wb\") as f:\n",
    "    pickle.dump(xgb_best_clf, f)"
   ]
  },
  {
   "cell_type": "code",
   "execution_count": null,
   "id": "a1d333c8-fcf5-447b-b5d2-df209aff2b5b",
   "metadata": {
    "tags": []
   },
   "outputs": [],
   "source": [
    "# Save the TF-IDF Vectorizer to a file\n",
    "with open(\"tfidf_vectorizer.pkl\", \"wb\") as f:\n",
    "    pickle.dump(vectorizer, f)"
   ]
  },
  {
   "cell_type": "code",
   "execution_count": null,
   "id": "ce1b98ad-7a27-41ec-aad6-bec2881935bc",
   "metadata": {
    "tags": []
   },
   "outputs": [],
   "source": [
    "# Save the Truncated SVD instance to a file\n",
    "with open(\"truncated_svd.pkl\", \"wb\") as f:\n",
    "    pickle.dump(svd, f)"
   ]
  }
 ],
 "metadata": {
  "kernelspec": {
   "display_name": "Python 3 (ipykernel)",
   "language": "python",
   "name": "python3"
  },
  "language_info": {
   "codemirror_mode": {
    "name": "ipython",
    "version": 3
   },
   "file_extension": ".py",
   "mimetype": "text/x-python",
   "name": "python",
   "nbconvert_exporter": "python",
   "pygments_lexer": "ipython3",
   "version": "3.10.8"
  }
 },
 "nbformat": 4,
 "nbformat_minor": 5
}
