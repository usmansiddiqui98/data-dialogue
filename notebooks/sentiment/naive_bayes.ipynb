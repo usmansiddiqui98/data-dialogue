{
 "cells": [
  {
   "attachments": {},
   "cell_type": "markdown",
   "metadata": {},
   "source": [
    "# NB"
   ]
  },
  {
   "cell_type": "markdown",
   "metadata": {},
   "source": [
    "## Load and import data"
   ]
  },
  {
   "cell_type": "code",
   "execution_count": null,
   "metadata": {},
   "outputs": [],
   "source": [
    "from src.data.make_dataset import main as get_data\n",
    "from src.data.make_dataset_oversample import main as get_data_os\n",
    "from src.data.preprocess import Preprocessor\n",
    "\n",
    "import pandas as pd\n",
    "import numpy as np\n",
    "from sklearn.feature_extraction.text import TfidfVectorizer\n",
    "from sklearn.preprocessing import MinMaxScaler\n",
    "from sklearn.model_selection import train_test_split, GridSearchCV\n",
    "from sklearn.decomposition import TruncatedSVD\n",
    "from sklearn.metrics import accuracy_score,precision_score, recall_score, confusion_matrix, classification_report, roc_curve, roc_auc_score, f1_score\n",
    "from src.data.make_dataset import main as get_data\n",
    "from sklearn import model_selection, naive_bayes\n",
    "import scipy\n",
    "import matplotlib.pyplot as plt\n",
    "import pickle\n",
    "import joblib"
   ]
  },
  {
   "cell_type": "code",
   "execution_count": null,
   "metadata": {},
   "outputs": [],
   "source": [
    "X_train, X_test, y_train, y_test = get_data_os(\"../data-dialogue/data/raw/reviews.csv\")"
   ]
  },
  {
   "attachments": {},
   "cell_type": "markdown",
   "metadata": {},
   "source": [
    "## Prepare data for NB\n",
    "add normalisation of FE features to remove negative values (NB model does not accept this)"
   ]
  },
  {
   "cell_type": "code",
   "execution_count": null,
   "metadata": {},
   "outputs": [],
   "source": [
    "vectorizer = TfidfVectorizer()\n",
    "\n",
    "X_train_tfidf = vectorizer.fit_transform(X_train['cleaned_text'])\n",
    "X_test_tfidf = vectorizer.transform(X_test['cleaned_text'])\n",
    "\n",
    "X_train_tfidf = pd.DataFrame(X_train_tfidf.toarray(), columns=vectorizer.get_feature_names_out())\n",
    "X_test_tfidf = pd.DataFrame(X_test_tfidf.toarray(), columns=vectorizer.get_feature_names_out())\n",
    "\n",
    "X_train_clean = X_train.drop(['cleaned_text', 'text'], axis=1)\n",
    "X_test_clean = X_test.drop(['cleaned_text', 'text'], axis=1)\n",
    "\n",
    "#added this\n",
    "scaler = MinMaxScaler(feature_range=(0, 1))\n",
    "X_train_clean_scaled = scaler.fit_transform(X_train_clean)\n",
    "X_train_clean_scaled = pd.DataFrame(X_train_clean_scaled, columns = X_train_clean.columns)\n",
    "X_test_clean_scaled = scaler.fit_transform(X_test_clean)\n",
    "X_test_clean_scaled = pd.DataFrame(X_test_clean_scaled, columns = X_train_clean.columns)\n",
    "\n",
    "X_train_concat = pd.concat([X_train_clean_scaled, X_train_tfidf], axis=1)\n",
    "X_test_concat = pd.concat([X_test_clean_scaled, X_test_tfidf], axis=1)\n",
    "\n",
    "X_train_concat = X_train_concat.loc[:, ~X_train_concat.columns.duplicated()].copy()\n",
    "X_test_concat = X_test_concat.loc[:, ~X_test_concat.columns.duplicated()].copy()"
   ]
  },
  {
   "cell_type": "code",
   "execution_count": null,
   "metadata": {},
   "outputs": [],
   "source": [
    "X_train_concat.shape #9213 features"
   ]
  },
  {
   "cell_type": "code",
   "execution_count": null,
   "metadata": {},
   "outputs": [],
   "source": [
    "y_train"
   ]
  },
  {
   "attachments": {},
   "cell_type": "markdown",
   "metadata": {},
   "source": [
    "# Vanilla NB"
   ]
  },
  {
   "cell_type": "code",
   "execution_count": null,
   "metadata": {},
   "outputs": [],
   "source": [
    "# fit the training dataset on the classifier\n",
    "nb = naive_bayes.MultinomialNB()\n",
    "nb.fit(X_train_concat,y_train)"
   ]
  },
  {
   "cell_type": "markdown",
   "metadata": {},
   "source": [
    "### Evaluation"
   ]
  },
  {
   "cell_type": "code",
   "execution_count": null,
   "metadata": {},
   "outputs": [],
   "source": [
    "# Make predictions on the testing set\n",
    "y_pred = nb.predict(X_test_concat)\n",
    "\n",
    "# Evaluate the model\n",
    "accuracy = accuracy_score(y_test, y_pred)\n",
    "precision = precision_score(y_test,y_pred)\n",
    "recall = recall_score(y_test, y_pred)\n",
    "conf_matrix = confusion_matrix(y_test, y_pred)\n",
    "class_report = classification_report(y_test, y_pred)\n",
    "f1 = f1_score(y_test, y_pred)\n",
    "print(\"Accuracy:\", accuracy)\n",
    "print(\"Precision:\", precision)\n",
    "print(\"Recall:\", recall)\n",
    "print(\"f1-score:\", f1)\n",
    "print(\"Confusion Matrix: \\n\", conf_matrix)\n",
    "print(\"Classification Report: \\n\", class_report)\n",
    "\n",
    "# Accuracy: 0.7548209366391184\n",
    "# Precision: 0.7516339869281046\n",
    "# Recall: 0.9987593052109182\n",
    "# f1-score: 0.8577517314864145\n",
    "# Confusion Matrix: \n",
    "#  [[ 17 266]\n",
    "#  [  1 805]]\n",
    "# Classification Report: \n",
    "#                precision    recall  f1-score   support\n",
    "\n",
    "#            0       0.94      0.06      0.11       283\n",
    "#            1       0.75      1.00      0.86       806\n",
    "\n",
    "#     accuracy                           0.75      1089\n",
    "#    macro avg       0.85      0.53      0.49      1089\n",
    "# weighted avg       0.80      0.75      0.66      1089\n"
   ]
  },
  {
   "cell_type": "code",
   "execution_count": null,
   "metadata": {},
   "outputs": [],
   "source": [
    "# plot roc curve\n",
    "fpr, tpr, _ = roc_curve(y_test,  y_pred)\n",
    "plt.plot(fpr,tpr)\n",
    "plt.ylabel('True Positive Rate')\n",
    "plt.xlabel('False Positive Rate')\n",
    "plt.show()\n",
    "auc = roc_auc_score(y_test, y_pred)\n",
    "print(f\"For this SVM model, the AUC score is: {auc}\")\n",
    "#For this SVM model, the AUC score is: 0.5294149882945051"
   ]
  },
  {
   "cell_type": "markdown",
   "metadata": {},
   "source": [
    "## Set max_features=5000 for TfidfVectorizer & refit into Vanilla SVM"
   ]
  },
  {
   "cell_type": "code",
   "execution_count": null,
   "metadata": {},
   "outputs": [],
   "source": [
    "vectorizer = TfidfVectorizer(max_features=5000)\n",
    "\n",
    "X_train_tfidf = vectorizer.fit_transform(X_train['cleaned_text'])\n",
    "X_test_tfidf = vectorizer.transform(X_test['cleaned_text'])\n",
    "\n",
    "X_train_tfidf = pd.DataFrame(X_train_tfidf.toarray(), columns=vectorizer.get_feature_names_out())\n",
    "X_test_tfidf = pd.DataFrame(X_test_tfidf.toarray(), columns=vectorizer.get_feature_names_out())\n",
    "\n",
    "X_train_clean = X_train.drop(['cleaned_text', 'text'], axis=1)\n",
    "X_test_clean = X_test.drop(['cleaned_text', 'text'], axis=1)\n",
    "\n",
    "#added this\n",
    "scaler = MinMaxScaler(feature_range=(0, 1))\n",
    "X_train_clean_scaled = scaler.fit_transform(X_train_clean)\n",
    "X_train_clean_scaled = pd.DataFrame(X_train_clean_scaled, columns = X_train_clean.columns)\n",
    "X_test_clean_scaled = scaler.fit_transform(X_test_clean)\n",
    "X_test_clean_scaled = pd.DataFrame(X_test_clean_scaled, columns = X_train_clean.columns)\n",
    "\n",
    "X_train_concat = pd.concat([X_train_clean_scaled, X_train_tfidf], axis=1)\n",
    "X_test_concat = pd.concat([X_test_clean_scaled, X_test_tfidf], axis=1)\n",
    "\n",
    "X_train_concat = X_train_concat.loc[:, ~X_train_concat.columns.duplicated()].copy()\n",
    "X_test_concat = X_test_concat.loc[:, ~X_test_concat.columns.duplicated()].copy()"
   ]
  },
  {
   "attachments": {},
   "cell_type": "markdown",
   "metadata": {},
   "source": [
    "# NB with max_features (5000)"
   ]
  },
  {
   "cell_type": "code",
   "execution_count": null,
   "metadata": {},
   "outputs": [],
   "source": [
    "# fit the training dataset on the classifier\n",
    "nb = naive_bayes.MultinomialNB()\n",
    "nb.fit(X_train_concat,y_train)"
   ]
  },
  {
   "cell_type": "markdown",
   "metadata": {},
   "source": [
    "### Evaluation"
   ]
  },
  {
   "cell_type": "code",
   "execution_count": null,
   "metadata": {},
   "outputs": [],
   "source": [
    "# Make predictions on the testing set\n",
    "y_pred = nb.predict(X_test_concat)\n",
    "\n",
    "# Evaluate the model\n",
    "accuracy = accuracy_score(y_test, y_pred)\n",
    "precision = precision_score(y_test,y_pred)\n",
    "recall = recall_score(y_test, y_pred)\n",
    "conf_matrix = confusion_matrix(y_test, y_pred)\n",
    "class_report = classification_report(y_test, y_pred)\n",
    "f1_score = f1_score(y_test, y_pred)\n",
    "print(\"Accuracy:\", accuracy)\n",
    "print(\"Precision:\", precision)\n",
    "print(\"Recall:\", recall)\n",
    "print(\"f1-score:\", f1_score)\n",
    "print(\"Confusion Matrix: \\n\", conf_matrix)\n",
    "print(\"Classification Report: \\n\", class_report) #better\n",
    "\n",
    "\n",
    "# Accuracy: 0.7998163452708907\n",
    "# Precision: 0.7876712328767124\n",
    "# Recall: 0.9987593052109182\n",
    "# f1-score: 0.8807439824945295\n",
    "# Confusion Matrix: \n",
    "#  [[ 66 217]\n",
    "#  [  1 805]]\n",
    "# Classification Report: \n",
    "#                precision    recall  f1-score   support\n",
    "\n",
    "#            0       0.99      0.23      0.38       283\n",
    "#            1       0.79      1.00      0.88       806\n",
    "\n",
    "#     accuracy                           0.80      1089\n",
    "#    macro avg       0.89      0.62      0.63      1089\n",
    "# weighted avg       0.84      0.80      0.75      1089\n"
   ]
  },
  {
   "cell_type": "code",
   "execution_count": null,
   "metadata": {},
   "outputs": [],
   "source": [
    "# plot roc curve\n",
    "fpr, tpr, _ = roc_curve(y_test,  y_pred)\n",
    "plt.plot(fpr,tpr)\n",
    "plt.ylabel('True Positive Rate')\n",
    "plt.xlabel('False Positive Rate')\n",
    "plt.show()\n",
    "auc = roc_auc_score(y_test, y_pred)\n",
    "print(f\"For this SVM model, the AUC score is: {auc}\")\n",
    "#For this SVM model, the AUC score is: 0.6159874264570492"
   ]
  },
  {
   "attachments": {},
   "cell_type": "markdown",
   "metadata": {},
   "source": [
    "## Set max_features=1000 for TfidfVectorizer & refit into Vanilla SVM"
   ]
  },
  {
   "cell_type": "code",
   "execution_count": null,
   "metadata": {},
   "outputs": [],
   "source": [
    "vectorizer = TfidfVectorizer(max_features=1000)\n",
    "\n",
    "X_train_tfidf = vectorizer.fit_transform(X_train['cleaned_text'])\n",
    "X_test_tfidf = vectorizer.transform(X_test['cleaned_text'])\n",
    "\n",
    "X_train_tfidf = pd.DataFrame(X_train_tfidf.toarray(), columns=vectorizer.get_feature_names_out())\n",
    "X_test_tfidf = pd.DataFrame(X_test_tfidf.toarray(), columns=vectorizer.get_feature_names_out())\n",
    "\n",
    "X_train_clean = X_train.drop(['cleaned_text', 'text'], axis=1)\n",
    "X_test_clean = X_test.drop(['cleaned_text', 'text'], axis=1)\n",
    "\n",
    "#added this\n",
    "scaler = MinMaxScaler(feature_range=(0, 1))\n",
    "X_train_clean_scaled = scaler.fit_transform(X_train_clean)\n",
    "X_train_clean_scaled = pd.DataFrame(X_train_clean_scaled, columns = X_train_clean.columns)\n",
    "X_test_clean_scaled = scaler.fit_transform(X_test_clean)\n",
    "X_test_clean_scaled = pd.DataFrame(X_test_clean_scaled, columns = X_train_clean.columns)\n",
    "\n",
    "X_train_concat = pd.concat([X_train_clean_scaled, X_train_tfidf], axis=1)\n",
    "X_test_concat = pd.concat([X_test_clean_scaled, X_test_tfidf], axis=1)\n",
    "\n",
    "X_train_concat = X_train_concat.loc[:, ~X_train_concat.columns.duplicated()].copy()\n",
    "X_test_concat = X_test_concat.loc[:, ~X_test_concat.columns.duplicated()].copy()"
   ]
  },
  {
   "attachments": {},
   "cell_type": "markdown",
   "metadata": {},
   "source": [
    "# NB with max_features (1000)"
   ]
  },
  {
   "cell_type": "code",
   "execution_count": null,
   "metadata": {},
   "outputs": [],
   "source": [
    "# fit the training dataset on the classifier\n",
    "nb = naive_bayes.MultinomialNB()\n",
    "nb.fit(X_train_concat,y_train)"
   ]
  },
  {
   "cell_type": "markdown",
   "metadata": {},
   "source": [
    "### Evaluation"
   ]
  },
  {
   "cell_type": "code",
   "execution_count": null,
   "metadata": {},
   "outputs": [],
   "source": [
    "# Make predictions on the testing set\n",
    "y_pred = nb.predict(X_test_concat)\n",
    "\n",
    "# Evaluate the model\n",
    "accuracy = accuracy_score(y_test, y_pred)\n",
    "precision = precision_score(y_test,y_pred)\n",
    "recall = recall_score(y_test, y_pred)\n",
    "conf_matrix = confusion_matrix(y_test, y_pred)\n",
    "class_report = classification_report(y_test, y_pred)\n",
    "f1 = f1_score(y_test, y_pred)\n",
    "print(\"Accuracy:\", accuracy)\n",
    "print(\"Precision:\", precision)\n",
    "print(\"Recall:\", recall)\n",
    "print(\"f1-score:\", f1)\n",
    "print(\"Confusion Matrix: \\n\", conf_matrix)\n",
    "print(\"Classification Report: \\n\", class_report) #better\n",
    "\n",
    "# Accuracy: 0.8420569329660239\n",
    "# Precision: 0.8408602150537634\n",
    "# Recall: 0.9702233250620348\n",
    "# Confusion Matrix: \n",
    "#  [[135 148]\n",
    "#  [ 24 782]]\n",
    "# Classification Report: \n",
    "#                precision    recall  f1-score   support\n",
    "\n",
    "#            0       0.85      0.48      0.61       283\n",
    "#            1       0.84      0.97      0.90       806\n",
    "\n",
    "#     accuracy                           0.84      1089\n",
    "#    macro avg       0.84      0.72      0.76      1089\n",
    "# weighted avg       0.84      0.84      0.83      1089\n"
   ]
  },
  {
   "cell_type": "code",
   "execution_count": null,
   "metadata": {},
   "outputs": [],
   "source": [
    "# plot roc curve\n",
    "fpr, tpr, _ = roc_curve(y_test,  y_pred)\n",
    "plt.plot(fpr,tpr)\n",
    "plt.ylabel('True Positive Rate')\n",
    "plt.xlabel('False Positive Rate')\n",
    "plt.show()\n",
    "auc = roc_auc_score(y_test, y_pred)\n",
    "print(f\"For this SVM model, the AUC score is: {auc}\")"
   ]
  },
  {
   "attachments": {},
   "cell_type": "markdown",
   "metadata": {},
   "source": [
    "# NB with dim reduction (SVD: 100 components)"
   ]
  },
  {
   "cell_type": "code",
   "execution_count": null,
   "metadata": {},
   "outputs": [],
   "source": [
    "n_components = 100\n",
    "svd = TruncatedSVD(n_components=n_components)\n",
    "X_train_svd = svd.fit_transform(X_train_tfidf)\n",
    "X_test_svd = svd.transform(X_test_tfidf)"
   ]
  },
  {
   "cell_type": "code",
   "execution_count": null,
   "metadata": {},
   "outputs": [],
   "source": [
    "X_train_svd_df = pd.DataFrame(X_train_svd, columns=[f'svd_{i}' for i in range(n_components)])\n",
    "X_test_svd_df = pd.DataFrame(X_test_svd, columns=[f'svd_{i}' for i in range(n_components)])\n",
    "\n",
    "X_train_concat = pd.concat([X_train_clean, X_train_svd_df], axis=1)\n",
    "X_test_concat = pd.concat([X_test_clean, X_test_svd_df], axis=1)\n",
    "\n",
    "#added this\n",
    "scaler = MinMaxScaler(feature_range=(0, 1))\n",
    "X_train_concat_svd = scaler.fit_transform(X_train_concat)\n",
    "X_train_concat_svd = pd.DataFrame(X_train_concat_svd, columns = X_train_concat.columns)\n",
    "X_test_concat_svd = scaler.fit_transform(X_test_concat)\n",
    "X_test_concat_svd = pd.DataFrame(X_test_concat_svd, columns = X_test_concat.columns)\n"
   ]
  },
  {
   "cell_type": "code",
   "execution_count": null,
   "metadata": {},
   "outputs": [],
   "source": [
    "# fit the training dataset on the classifier\n",
    "nb = naive_bayes.MultinomialNB()\n",
    "nb.fit(X_train_concat_svd,y_train)"
   ]
  },
  {
   "cell_type": "code",
   "execution_count": null,
   "metadata": {},
   "outputs": [],
   "source": [
    "# Make predictions on the testing set\n",
    "y_pred = nb.predict(X_test_concat_svd)\n",
    "\n",
    "# Evaluate the model\n",
    "accuracy = accuracy_score(y_test, y_pred)\n",
    "precision = precision_score(y_test,y_pred)\n",
    "recall = recall_score(y_test, y_pred)\n",
    "conf_matrix = confusion_matrix(y_test, y_pred)\n",
    "class_report = classification_report(y_test, y_pred)\n",
    "f1_score = f1_score(y_test, y_pred)\n",
    "print(\"Accuracy:\", accuracy)\n",
    "print(\"Precision:\", precision)\n",
    "print(\"Recall:\", recall)\n",
    "print(\"f1-score:\", f1_score)\n",
    "print(\"Confusion Matrix: \\n\", conf_matrix)\n",
    "print(\"Classification Report: \\n\", class_report)\n",
    "\n",
    "# Accuracy: 0.7566574839302111\n",
    "# Precision: 0.7598463016330451\n",
    "# Recall: 0.9813895781637717\n",
    "# Confusion Matrix: \n",
    "#  [[ 33 250]\n",
    "#  [ 15 791]]\n",
    "# Classification Report: \n",
    "#                precision    recall  f1-score   support\n",
    "\n",
    "#            0       0.69      0.12      0.20       283\n",
    "#            1       0.76      0.98      0.86       806\n",
    "\n",
    "#     accuracy                           0.76      1089\n",
    "#    macro avg       0.72      0.55      0.53      1089\n",
    "# weighted avg       0.74      0.76      0.69      1089"
   ]
  },
  {
   "attachments": {},
   "cell_type": "markdown",
   "metadata": {},
   "source": [
    "# NB with oversampling of minority class"
   ]
  },
  {
   "cell_type": "code",
   "execution_count": null,
   "metadata": {},
   "outputs": [],
   "source": [
    "X_train_os, X_test_os, y_train_os, y_test_os = get_data_os(\"../data-dialogue/data/raw/reviews.csv\", oversample=True)"
   ]
  },
  {
   "cell_type": "code",
   "execution_count": null,
   "metadata": {},
   "outputs": [],
   "source": [
    "#max features = 1000 was the best model thus far\n",
    "vectorizer = TfidfVectorizer(max_features=1000)\n",
    "\n",
    "X_train_tfidf = vectorizer.fit_transform(X_train_os['cleaned_text'])\n",
    "X_test_tfidf = vectorizer.transform(X_test_os['cleaned_text'])\n",
    "\n",
    "X_train_tfidf = pd.DataFrame(X_train_tfidf.toarray(), columns=vectorizer.get_feature_names_out())\n",
    "X_test_tfidf = pd.DataFrame(X_test_tfidf.toarray(), columns=vectorizer.get_feature_names_out())\n",
    "\n",
    "X_train_clean = X_train_os.drop(['cleaned_text', 'text'], axis=1)\n",
    "X_test_clean = X_test_os.drop(['cleaned_text', 'text'], axis=1)\n",
    "\n",
    "#added this\n",
    "scaler = MinMaxScaler(feature_range=(0, 1))\n",
    "X_train_clean_scaled = scaler.fit_transform(X_train_clean)\n",
    "X_train_clean_scaled = pd.DataFrame(X_train_clean_scaled, columns = X_train_clean.columns)\n",
    "X_test_clean_scaled = scaler.fit_transform(X_test_clean)\n",
    "X_test_clean_scaled = pd.DataFrame(X_test_clean_scaled, columns = X_train_clean.columns)\n",
    "\n",
    "X_train_concat = pd.concat([X_train_clean_scaled, X_train_tfidf], axis=1)\n",
    "X_test_concat = pd.concat([X_test_clean_scaled, X_test_tfidf], axis=1)\n",
    "\n",
    "X_train_concat = X_train_concat.loc[:, ~X_train_concat.columns.duplicated()].copy()\n",
    "X_test_concat = X_test_concat.loc[:, ~X_test_concat.columns.duplicated()].copy()"
   ]
  },
  {
   "cell_type": "code",
   "execution_count": null,
   "metadata": {},
   "outputs": [],
   "source": [
    "# fit the training dataset on the classifier\n",
    "nb = naive_bayes.MultinomialNB()\n",
    "nb.fit(X_train_concat,y_train_os)"
   ]
  },
  {
   "cell_type": "code",
   "execution_count": null,
   "metadata": {},
   "outputs": [],
   "source": [
    "# Make predictions on the testing set\n",
    "y_pred = nb.predict(X_test_concat)\n",
    "\n",
    "# Evaluate the model\n",
    "accuracy = accuracy_score(y_test_os, y_pred)\n",
    "precision = precision_score(y_test_os,y_pred)\n",
    "recall = recall_score(y_test_os, y_pred)\n",
    "conf_matrix = confusion_matrix(y_test_os, y_pred)\n",
    "class_report = classification_report(y_test_os, y_pred)\n",
    "f1 = f1_score(y_test, y_pred)\n",
    "print(\"Accuracy:\", accuracy)\n",
    "print(\"Precision:\", precision)\n",
    "print(\"Recall:\", recall)\n",
    "print(\"f1-score:\", f1)\n",
    "print(\"Confusion Matrix: \\n\", conf_matrix)\n",
    "print(\"Classification Report: \\n\", class_report)\n",
    "\n",
    "# Accuracy: 0.8438934802571166\n",
    "# Precision: 0.9356164383561644\n",
    "# Recall: 0.847394540942928\n",
    "# Confusion Matrix: \n",
    "#  [[236  47]\n",
    "#  [123 683]]\n",
    "# Classification Report: \n",
    "#                precision    recall  f1-score   support\n",
    "\n",
    "#            0       0.66      0.83      0.74       283\n",
    "#            1       0.94      0.85      0.89       806\n",
    "\n",
    "#     accuracy                           0.84      1089\n",
    "#    macro avg       0.80      0.84      0.81      1089\n",
    "# weighted avg       0.86      0.84      0.85      1089"
   ]
  },
  {
   "attachments": {},
   "cell_type": "markdown",
   "metadata": {},
   "source": [
    "# Evaluation:\n",
    "best model = tfidf with max_features=1000 + oversampling of minority class"
   ]
  },
  {
   "cell_type": "code",
   "execution_count": null,
   "metadata": {},
   "outputs": [],
   "source": [
    "#max features = 1000 was the best model thus far\n",
    "vectorizer = TfidfVectorizer(max_features=1000)\n",
    "\n",
    "X_train_tfidf = vectorizer.fit_transform(X_train_os['cleaned_text'])\n",
    "X_test_tfidf = vectorizer.transform(X_test_os['cleaned_text'])\n",
    "\n",
    "X_train_tfidf = pd.DataFrame(X_train_tfidf.toarray(), columns=vectorizer.get_feature_names_out())\n",
    "X_test_tfidf = pd.DataFrame(X_test_tfidf.toarray(), columns=vectorizer.get_feature_names_out())\n",
    "\n",
    "X_train_clean = X_train_os.drop(['cleaned_text', 'text'], axis=1)\n",
    "X_test_clean = X_test_os.drop(['cleaned_text', 'text'], axis=1)\n",
    "\n",
    "#added this\n",
    "scaler = MinMaxScaler(feature_range=(0, 1))\n",
    "X_train_clean_scaled = scaler.fit_transform(X_train_clean)\n",
    "X_train_clean_scaled = pd.DataFrame(X_train_clean_scaled, columns = X_train_clean.columns)\n",
    "X_test_clean_scaled = scaler.fit_transform(X_test_clean)\n",
    "X_test_clean_scaled = pd.DataFrame(X_test_clean_scaled, columns = X_test_clean.columns)\n",
    "\n",
    "X_train_concat = pd.concat([X_train_clean_scaled, X_train_tfidf], axis=1)\n",
    "X_test_concat = pd.concat([X_test_clean_scaled, X_test_tfidf], axis=1)\n",
    "\n",
    "X_train_concat = X_train_concat.loc[:, ~X_train_concat.columns.duplicated()].copy()\n",
    "X_test_concat = X_test_concat.loc[:, ~X_test_concat.columns.duplicated()].copy()"
   ]
  },
  {
   "attachments": {},
   "cell_type": "markdown",
   "metadata": {},
   "source": [
    "# Parameter Tuning"
   ]
  },
  {
   "cell_type": "code",
   "execution_count": null,
   "metadata": {},
   "outputs": [],
   "source": [
    "from sklearn.model_selection import RepeatedStratifiedKFold\n",
    "\n",
    "cv_method = RepeatedStratifiedKFold(n_splits=3, \n",
    "                                    n_repeats=1, \n",
    "                                    random_state=999)\n",
    "\n",
    "from sklearn.preprocessing import PowerTransformer\n",
    "\n",
    "alphas = [0.1, 0.3, 0.5, 0.7, 1.0]\n",
    "params_NB = {'alpha': alphas, 'fit_prior' : [True, False], 'class_prior' : [None, [.1,.9],[.2, .8]]}\n",
    "\n",
    "gs_NB = GridSearchCV(estimator=nb, \n",
    "                     param_grid=params_NB, \n",
    "                     cv=cv_method,\n",
    "                     verbose=1, \n",
    "                     scoring='accuracy')\n",
    "\n",
    "gs_NB.fit(X_train_concat, y_train_os)\n"
   ]
  },
  {
   "cell_type": "code",
   "execution_count": null,
   "metadata": {},
   "outputs": [],
   "source": [
    "gs_NB.best_params_ #{'alpha': 0.5, 'class_prior': None, 'fit_prior': True}"
   ]
  },
  {
   "cell_type": "code",
   "execution_count": null,
   "metadata": {},
   "outputs": [],
   "source": [
    "grid_predictions = gs_NB.predict(X_test_concat)\n",
    "\n",
    "# Evaluate the model\n",
    "accuracy = accuracy_score(y_test, grid_predictions)\n",
    "precision = precision_score(y_test,grid_predictions)\n",
    "recall = recall_score(y_test, grid_predictions)\n",
    "conf_matrix = confusion_matrix(y_test, grid_predictions)\n",
    "class_report = classification_report(y_test, grid_predictions)\n",
    "f1 = f1_score(y_test, grid_predictions)\n",
    "print(\"Accuracy:\", accuracy)\n",
    "print(\"Precision:\", precision)\n",
    "print(\"Recall:\", recall)\n",
    "print(\"f1-score:\", f1)\n",
    "print(\"Confusion Matrix: \\n\", conf_matrix)\n",
    "print(\"Classification Report: \\n\", class_report)\n",
    "\n",
    "[FE] finished lowercase count...\n",
    "[FE] finished uppercase count...\n",
    "[FE] finished uppercase ratio...\n",
    "[FE] finished punc count...\n",
    "[FE] finished pos tags...\n",
    "[FE] finished pos tag count...\n",
    "[FE] finished tokenized_untokenized count...\n",
    "[FE] finished num words misspelled...\n",
    "[FE] finished polarity...\n",
    "[FE] finished subjectivity...\n",
    "[FE] finished pos neg count...\n",
    "\n",
    "(4355, 9213)\n",
    "\n",
    "MultinomialNB\n",
    "MultinomialNB()\n",
    "Accuracy: 0.7548209366391184\n",
    "Precision: 0.7516339869281046\n",
    "Recall: 0.9987593052109182\n",
    "f1-score: 0.8577517314864145\n",
    "Confusion Matrix: \n",
    " [[ 17 266]\n",
    " [  1 805]]\n",
    "Classification Report: \n",
    "               precision    recall  f1-score   support\n",
    "\n",
    "           0       0.94      0.06      0.11       283\n",
    "           1       0.75      1.00      0.86       806\n",
    "\n",
    "    accuracy                           0.75      1089\n",
    "   macro avg       0.85      0.53      0.49      1089\n",
    "weighted avg       0.80      0.75      0.66      1089\n",
    "\n",
    "\n",
    "For this SVM model, the AUC score is: 0.5294149882945051\n",
    "\n",
    "MultinomialNB\n",
    "MultinomialNB()\n",
    "Accuracy: 0.7998163452708907\n",
    "Precision: 0.7876712328767124\n",
    "Recall: 0.9987593052109182\n",
    "f1-score: 0.8807439824945295\n",
    "Confusion Matrix: \n",
    " [[ 66 217]\n",
    " [  1 805]]\n",
    "Classification Report: \n",
    "               precision    recall  f1-score   support\n",
    "\n",
    "           0       0.99      0.23      0.38       283\n",
    "           1       0.79      1.00      0.88       806\n",
    "\n",
    "    accuracy                           0.80      1089\n",
    "   macro avg       0.89      0.62      0.63      1089\n",
    "weighted avg       0.84      0.80      0.75      1089\n",
    "\n",
    "\n",
    "For this SVM model, the AUC score is: 0.6159874264570492\n",
    "\n",
    "MultinomialNB\n",
    "MultinomialNB()\n",
    "Accuracy: 0.7566574839302111\n",
    "Precision: 0.7598463016330451\n",
    "Recall: 0.9813895781637717\n",
    "Confusion Matrix: \n",
    " [[ 33 250]\n",
    " [ 15 791]]\n",
    "Classification Report: \n",
    "               precision    recall  f1-score   support\n",
    "\n",
    "           0       0.69      0.12      0.20       283\n",
    "           1       0.76      0.98      0.86       806\n",
    "\n",
    "    accuracy                           0.76      1089\n",
    "   macro avg       0.72      0.55      0.53      1089\n",
    "weighted avg       0.74      0.76      0.69      1089\n",
    "\n",
    "[FE] finished lowercase count...\n",
    "[FE] finished uppercase count...\n",
    "[FE] finished uppercase ratio...\n",
    "[FE] finished punc count...\n",
    "[FE] finished pos tags...\n",
    "[FE] finished pos tag count...\n",
    "[FE] finished tokenized_untokenized count...\n",
    "[FE] finished num words misspelled...\n",
    "[FE] finished polarity...\n",
    "[FE] finished subjectivity...\n",
    "[FE] finished pos neg count...\n",
    "\n",
    "MultinomialNB\n",
    "MultinomialNB()\n",
    "Accuracy: 0.8420569329660239\n",
    "Precision: 0.8408602150537634\n",
    "Recall: 0.9702233250620348\n",
    "Confusion Matrix: \n",
    " [[135 148]\n",
    " [ 24 782]]\n",
    "Classification Report: \n",
    "               precision    recall  f1-score   support\n",
    "\n",
    "           0       0.85      0.48      0.61       283\n",
    "           1       0.84      0.97      0.90       806\n",
    "\n",
    "    accuracy                           0.84      1089\n",
    "   macro avg       0.84      0.72      0.76      1089\n",
    "weighted avg       0.84      0.84      0.83      1089\n",
    "\n",
    "\n",
    "For this SVM model, the AUC score is: 0.723627563591088\n",
    "\n",
    "MultinomialNB\n",
    "MultinomialNB()\n",
    "Accuracy: 0.8438934802571166\n",
    "Precision: 0.9356164383561644\n",
    "Recall: 0.847394540942928\n",
    "Confusion Matrix: \n",
    " [[236  47]\n",
    " [123 683]]\n",
    "Classification Report: \n",
    "               precision    recall  f1-score   support\n",
    "\n",
    "           0       0.66      0.83      0.74       283\n",
    "           1       0.94      0.85      0.89       806\n",
    "\n",
    "    accuracy                           0.84      1089\n",
    "   macro avg       0.80      0.84      0.81      1089\n",
    "weighted avg       0.86      0.84      0.85      1089\n",
    "\n",
    "# Fitting 3 folds for each of 30 candidates, totalling 90 fits\n",
    "# GridSearchCV\n",
    "# estimator: MultinomialNB\n",
    "\n",
    "# MultinomialNB\n",
    "# {'alpha': 0.5, 'class_prior': None, 'fit_prior': True}\n",
    "# [[237  46]\n",
    "#  [124 682]]\n",
    "#               precision    recall  f1-score   support\n",
    "\n",
    "#            0       0.66      0.84      0.74       283\n",
    "#            1       0.94      0.85      0.89       806\n",
    "\n",
    "#     accuracy                           0.84      1089\n",
    "#    macro avg       0.80      0.84      0.81      1089\n",
    "# weighted avg       0.86      0.84      0.85      1089\n",
    "\n",
    "# Accuracy: 0.8438934802571166\n",
    "# Precision: 0.9368131868131868\n",
    "# Recall: 0.8461538461538461\n",
    "# Confusion Matrix: \n",
    "#  [[237  46]\n",
    "#  [124 682]]"
   ]
  },
  {
   "cell_type": "code",
   "execution_count": null,
   "metadata": {},
   "outputs": [],
   "source": [
    "gs_NB.best_estimator_ \n",
    "# MultinomialNB(alpha=0.5)"
   ]
  },
  {
   "cell_type": "code",
   "execution_count": null,
   "metadata": {},
   "outputs": [],
   "source": [
    "# save best parameters\n",
    "joblib.dump(gs_NB.best_estimator_, 'naive_bayes_best_model.pkl')"
   ]
  },
  {
   "cell_type": "markdown",
   "metadata": {},
   "source": [
    "# Load Saved Model"
   ]
  },
  {
   "cell_type": "code",
   "execution_count": null,
   "metadata": {},
   "outputs": [],
   "source": [
    "saved_model = joblib.load('naive_bayes_best_model.pkl')"
   ]
  },
  {
   "cell_type": "code",
   "execution_count": null,
   "metadata": {},
   "outputs": [],
   "source": [
    "saved_model"
   ]
  }
 ],
 "metadata": {
  "kernelspec": {
   "display_name": "dsa4263",
   "language": "python",
   "name": "python3"
  },
  "language_info": {
   "codemirror_mode": {
    "name": "ipython",
    "version": 3
   },
   "file_extension": ".py",
   "mimetype": "text/x-python",
   "name": "python",
   "nbconvert_exporter": "python",
   "pygments_lexer": "ipython3",
   "version": "3.9.16"
  },
  "orig_nbformat": 4
 },
 "nbformat": 4,
 "nbformat_minor": 2
}
