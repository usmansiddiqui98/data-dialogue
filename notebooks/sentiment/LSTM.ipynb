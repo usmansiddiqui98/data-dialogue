{
 "cells": [
  {
   "cell_type": "code",
   "execution_count": 1,
   "id": "d312c9d8-b7f7-49a7-988a-1aa6396b0601",
   "metadata": {
    "tags": []
   },
   "outputs": [],
   "source": [
    "import numpy as np # linear algebra\n",
    "import pandas as pd # data processing, CSV file I/O (e.g. pd.read_csv)\n",
    "import torch\n",
    "import torch.nn as nn\n",
    "import torch.nn.functional as F\n",
    "from nltk.corpus import stopwords \n",
    "from collections import Counter\n",
    "import string\n",
    "import re\n",
    "import seaborn as sns\n",
    "from tqdm import tqdm\n",
    "import matplotlib.pyplot as plt\n",
    "from torch.utils.data import TensorDataset, DataLoader\n",
    "from sklearn.model_selection import train_test_split"
   ]
  },
  {
   "cell_type": "code",
   "execution_count": 2,
   "id": "52b90e30-8982-42ff-ab14-f2c817cfe531",
   "metadata": {},
   "outputs": [
    {
     "data": {
      "text/html": [
       "<div>\n",
       "<style scoped>\n",
       "    .dataframe tbody tr th:only-of-type {\n",
       "        vertical-align: middle;\n",
       "    }\n",
       "\n",
       "    .dataframe tbody tr th {\n",
       "        vertical-align: top;\n",
       "    }\n",
       "\n",
       "    .dataframe thead th {\n",
       "        text-align: right;\n",
       "    }\n",
       "</style>\n",
       "<table border=\"1\" class=\"dataframe\">\n",
       "  <thead>\n",
       "    <tr style=\"text-align: right;\">\n",
       "      <th></th>\n",
       "      <th>Sentiment</th>\n",
       "      <th>Time</th>\n",
       "      <th>Text</th>\n",
       "    </tr>\n",
       "  </thead>\n",
       "  <tbody>\n",
       "    <tr>\n",
       "      <th>0</th>\n",
       "      <td>positive</td>\n",
       "      <td>18/6/21</td>\n",
       "      <td>This is a very healthy dog food. Good for thei...</td>\n",
       "    </tr>\n",
       "    <tr>\n",
       "      <th>1</th>\n",
       "      <td>positive</td>\n",
       "      <td>7/7/21</td>\n",
       "      <td>I've been very pleased with the Natural Balanc...</td>\n",
       "    </tr>\n",
       "    <tr>\n",
       "      <th>2</th>\n",
       "      <td>positive</td>\n",
       "      <td>18/6/21</td>\n",
       "      <td>Before I was educated about feline nutrition, ...</td>\n",
       "    </tr>\n",
       "    <tr>\n",
       "      <th>3</th>\n",
       "      <td>positive</td>\n",
       "      <td>7/7/21</td>\n",
       "      <td>My holistic vet recommended this, along with a...</td>\n",
       "    </tr>\n",
       "    <tr>\n",
       "      <th>4</th>\n",
       "      <td>positive</td>\n",
       "      <td>1/7/21</td>\n",
       "      <td>I bought this coffee because its much cheaper ...</td>\n",
       "    </tr>\n",
       "  </tbody>\n",
       "</table>\n",
       "</div>"
      ],
      "text/plain": [
       "  Sentiment     Time                                               Text\n",
       "0  positive  18/6/21  This is a very healthy dog food. Good for thei...\n",
       "1  positive   7/7/21  I've been very pleased with the Natural Balanc...\n",
       "2  positive  18/6/21  Before I was educated about feline nutrition, ...\n",
       "3  positive   7/7/21  My holistic vet recommended this, along with a...\n",
       "4  positive   1/7/21  I bought this coffee because its much cheaper ..."
      ]
     },
     "execution_count": 2,
     "metadata": {},
     "output_type": "execute_result"
    }
   ],
   "source": [
    "df = pd.read_csv('../../data/raw/reviews.csv')\n",
    "df.head()"
   ]
  },
  {
   "cell_type": "code",
   "execution_count": 3,
   "id": "2c85045a-07e1-4b36-999f-ca828b6933c6",
   "metadata": {
    "tags": []
   },
   "outputs": [
    {
     "name": "stdout",
     "output_type": "stream",
     "text": [
      "shape of train data is (4083,)\n",
      "shape of test data is (1361,)\n"
     ]
    }
   ],
   "source": [
    "X,y = df['Text'].values,df['Sentiment'].values\n",
    "x_train,x_test,y_train,y_test = train_test_split(X,y,stratify=y)\n",
    "print(f'shape of train data is {x_train.shape}')\n",
    "print(f'shape of test data is {x_test.shape}')"
   ]
  },
  {
   "cell_type": "code",
   "execution_count": 4,
   "id": "43f3279a-ac47-4217-9fd1-cafe9af42497",
   "metadata": {
    "tags": []
   },
   "outputs": [
    {
     "data": {
      "image/png": "[encoded data removed]",
      "text/plain": [
       "<Figure size 640x480 with 1 Axes>"
      ]
     },
     "metadata": {},
     "output_type": "display_data"
    }
   ],
   "source": [
    "dd = pd.Series(y_train).value_counts()\n",
    "sns.barplot(x=np.array(['negative','positive']),y=dd.values)\n",
    "plt.show()"
   ]
  },
  {
   "cell_type": "code",
   "execution_count": 5,
   "id": "ff32df19-e89a-4b54-8fc8-7e14021db882",
   "metadata": {
    "tags": []
   },
   "outputs": [],
   "source": [
    "def preprocess_string(s):\n",
    "    # Remove all non-word characters (everything except numbers and letters)\n",
    "    s = re.sub(r\"[^\\w\\s]\", '', s)\n",
    "    # Replace all runs of whitespaces with no space\n",
    "    s = re.sub(r\"\\s+\", '', s)\n",
    "    # replace digits with no space\n",
    "    s = re.sub(r\"\\d\", '', s)\n",
    "\n",
    "    return s\n",
    "\n",
    "def create_word_list(x_train):\n",
    "    word_list = []\n",
    "    stop_words = set(stopwords.words('english'))\n",
    "    for sent in x_train:\n",
    "        for word in sent.lower().split(' '):\n",
    "            word = preprocess_string(word)\n",
    "            if word not in stop_words and word != '':\n",
    "                word_list.append(word)\n",
    "    return word_list\n",
    "word_list = create_word_list(x_train)"
   ]
  },
  {
   "cell_type": "code",
   "execution_count": 6,
   "id": "60aca968-8f43-48e3-888f-186252d06228",
   "metadata": {
    "tags": []
   },
   "outputs": [],
   "source": [
    "def tokenize(x_train, y_train, x_test, y_test):\n",
    "    corpus = Counter(word_list)\n",
    "    corpus_ = sorted(corpus.items(), key = lambda x: x[1], reverse=True)[:1000]\n",
    "    onehot_dict = {w[0]:i+1 for i, w in enumerate(corpus_)}\n",
    "\n",
    "    final_list_train,final_list_test = [],[]\n",
    "    for sent in x_train:\n",
    "            final_list_train.append([onehot_dict[preprocess_string(word)] for word in sent.lower().split() \n",
    "                                     if preprocess_string(word) in onehot_dict.keys()])\n",
    "    for sent in x_test:\n",
    "            final_list_test.append([onehot_dict[preprocess_string(word)] for word in sent.lower().split() \n",
    "                                    if preprocess_string(word) in onehot_dict.keys()])\n",
    "            \n",
    "    encoded_train = [1 if label =='positive' else 0 for label in y_train]  \n",
    "    encoded_test = [1 if label =='positive' else 0 for label in y_test] \n",
    "    return np.array(final_list_train, dtype = 'object'), np.array(encoded_train),np.array(final_list_test, dtype = 'object'), np.array(encoded_test),onehot_dict"
   ]
  },
  {
   "cell_type": "code",
   "execution_count": 7,
   "id": "c63264aa-7fff-43f2-9777-005b1091e45b",
   "metadata": {
    "tags": []
   },
   "outputs": [],
   "source": [
    "x_train,y_train,x_test,y_test,vocab = tokenize(x_train,y_train,x_test,y_test)"
   ]
  },
  {
   "cell_type": "code",
   "execution_count": 8,
   "id": "d55d790c-ff2c-4930-8d4c-e4501df77c89",
   "metadata": {
    "tags": []
   },
   "outputs": [
    {
     "data": {
      "image/png": "[encoded data removed]",
      "text/plain": [
       "<Figure size 640x480 with 1 Axes>"
      ]
     },
     "metadata": {},
     "output_type": "display_data"
    },
    {
     "data": {
      "text/plain": [
       "count    4083.000000\n",
       "mean       24.686505\n",
       "std        22.162957\n",
       "min         2.000000\n",
       "25%        12.000000\n",
       "50%        18.000000\n",
       "75%        30.000000\n",
       "max       432.000000\n",
       "dtype: float64"
      ]
     },
     "execution_count": 8,
     "metadata": {},
     "output_type": "execute_result"
    }
   ],
   "source": [
    "rev_len = [len(i) for i in x_train]\n",
    "pd.Series(rev_len).hist()\n",
    "plt.show()\n",
    "pd.Series(rev_len).describe()"
   ]
  },
  {
   "cell_type": "code",
   "execution_count": 9,
   "id": "bf83f298-d4da-4177-adf9-4aaa25fcf71c",
   "metadata": {
    "tags": []
   },
   "outputs": [],
   "source": [
    "def padding(sents, seq_len):\n",
    "    features = np.zeros((len(sents), seq_len), dtype = int)\n",
    "    for i, rev in enumerate(sents):\n",
    "        if len(rev) != 0:\n",
    "            features[i, -len(rev):] = np.array(rev)[:seq_len]\n",
    "    return features"
   ]
  },
  {
   "cell_type": "code",
   "execution_count": 10,
   "id": "2d0dc1e8-ca93-4e5f-b206-db552103300a",
   "metadata": {
    "tags": []
   },
   "outputs": [],
   "source": [
    "# we have very less number of reviews of length > 500, so we will take review uptill length 500 only\n",
    "x_train_pad = padding(x_train, 500)\n",
    "x_test_pad = padding(x_test, 500)"
   ]
  },
  {
   "cell_type": "code",
   "execution_count": 11,
   "id": "5d334e09-d6a2-48e2-8ba1-0f19028c87b4",
   "metadata": {
    "tags": []
   },
   "outputs": [],
   "source": [
    "train_data = TensorDataset(torch.from_numpy(x_train_pad), torch.from_numpy(y_train))\n",
    "test_data = TensorDataset(torch.from_numpy(x_test_pad), torch.from_numpy(y_test))\n",
    "\n",
    "# batch size\n",
    "batch_size = 10\n",
    "\n",
    "# shuffle data\n",
    "\n",
    "train_loader = DataLoader(train_data, shuffle=True, batch_size = batch_size, drop_last = True)\n",
    "test_loader = DataLoader(test_data, shuffle= True, batch_size = batch_size, drop_last = True)"
   ]
  },
  {
   "cell_type": "code",
   "execution_count": 12,
   "id": "44514987-d581-4d60-a1c8-9259d4c5b5f4",
   "metadata": {
    "tags": []
   },
   "outputs": [
    {
     "name": "stdout",
     "output_type": "stream",
     "text": [
      "torch.Size([10, 500])\n",
      "torch.Size([10])\n",
      "tensor([[  0,   0,   0,  ...,  64, 164,  36],\n",
      "        [  0,   0,   0,  ..., 433,   2,   8],\n",
      "        [  0,   0,   0,  ...,   1, 203, 921],\n",
      "        ...,\n",
      "        [  0,   0,   0,  ..., 128, 229,  10],\n",
      "        [  0,   0,   0,  ..., 176,  94,  36],\n",
      "        [  0,   0,   0,  ...,  96, 330, 219]])\n",
      "tensor([0, 0, 0, 0, 1, 1, 1, 0, 0, 1])\n"
     ]
    }
   ],
   "source": [
    "for i, batch in enumerate(train_loader):\n",
    "#     print(len(batch))\n",
    "    print(batch[0].shape)\n",
    "    print(batch[1].shape)\n",
    "    print(batch[0])\n",
    "    print(batch[1])\n",
    "\n",
    "    break"
   ]
  },
  {
   "cell_type": "code",
   "execution_count": 13,
   "id": "bb1dd412-e599-4d57-9edb-4c3586e2717c",
   "metadata": {},
   "outputs": [
    {
     "name": "stdout",
     "output_type": "stream",
     "text": [
      "Size of Batch torch.Size([10, 500])\n",
      "Sample input tensor([[  0,   0,   0,  ..., 191, 450, 900],\n",
      "        [  0,   0,   0,  ..., 216, 416,  22],\n",
      "        [  0,   0,   0,  ..., 157, 194, 157],\n",
      "        ...,\n",
      "        [  0,   0,   0,  ..., 592, 197, 105],\n",
      "        [  0,   0,   0,  ...,  50, 200, 254],\n",
      "        [  0,   0,   0,  ...,  89,  12, 565]])\n",
      "Sample output tensor([0, 1, 1, 0, 1, 1, 0, 1, 1, 1])\n"
     ]
    }
   ],
   "source": [
    "#obtain one batch\n",
    "dataiter = iter(train_loader)\n",
    "sample_x, sample_y = next(dataiter)\n",
    "\n",
    "print(f\"Size of Batch {sample_x.size()}\")\n",
    "print(f\"Sample input {sample_x}\")\n",
    "print(f\"Sample output {sample_y}\")\n",
    "# obtain one batch of training data"
   ]
  },
  {
   "cell_type": "code",
   "execution_count": 14,
   "id": "6f4b692f-4fd7-4af8-85c4-74f0a45e796f",
   "metadata": {
    "tags": []
   },
   "outputs": [],
   "source": [
    "class SentimentLSTM(nn.Module):\n",
    "    def __init__(self, no_layers, vocab_size, hidden_dim, embedding_dim, drop_prob = 0.5):\n",
    "        super(SentimentLSTM, self).__init__()\n",
    "        \n",
    "        self.no_layers = no_layers\n",
    "        self.output_dim = output_dim\n",
    "        self.hidden_dim = hidden_dim\n",
    "        self.vocab_size = vocab_size\n",
    "        \n",
    "        #embedding layer\n",
    "        self.embedding = nn.Embedding(vocab_size, embedding_dim)  \n",
    "        \n",
    "        #LSTM\n",
    "        self.lstm = nn.LSTM(input_size = embedding_dim, hidden_size = self.hidden_dim, num_layers = no_layers, batch_first=True)\n",
    "        \n",
    "        #dropout layers\n",
    "        self.dropout = nn.Dropout(0.3)\n",
    "        \n",
    "        #linear and Sigmoid layer\n",
    "        \n",
    "        self.fc = nn.Linear(self.hidden_dim, self.output_dim)\n",
    "        self.sig = nn.Sigmoid()\n",
    "        \n",
    "    def forward(self, x, hidden):\n",
    "        # we just passed a batch\n",
    "        batch_size = x.size(0) # batch size -> B\n",
    "        #embed shape -> [B, max_len, embed_dim]\n",
    "        embeds = self.embedding(x)\n",
    "        \n",
    "        \n",
    "        lstm_out, hidden = self.lstm(embeds, hidden)\n",
    "        lstm_out = lstm_out.contiguous().view(-1, self.hidden_dim)\n",
    "        \n",
    "        \n",
    "        # drop out and fully connected\n",
    "        out = self.dropout(lstm_out)\n",
    "        out = self.fc(out)\n",
    "        \n",
    "        # sigmoid \n",
    "        \n",
    "        sig_out = self.sig(out)\n",
    "        #reshape to batch size first\n",
    "        \n",
    "        sig_out = sig_out.view(batch_size, -1)\n",
    "        \n",
    "        sig_out = sig_out[:, -1]\n",
    "        \n",
    "        \n",
    "        return sig_out, hidden\n",
    "    \n",
    "    \n",
    "    def init_hidden(self, batch_size):\n",
    "        \n",
    "        # create hidden state and cell state tensors with size [no_layers x batch_size x hidden_dim]\n",
    "        \n",
    "        hidden_state = torch.zeros((self.no_layers, batch_size, self.hidden_dim))\n",
    "        cell_state = torch.zeros((self.no_layers, batch_size, self.hidden_dim))\n",
    "        hidden = (hidden_state, cell_state)\n",
    "        return hidden"
   ]
  },
  {
   "cell_type": "code",
   "execution_count": 15,
   "id": "a7744784-7dba-4143-bd47-c7c8ffc9299f",
   "metadata": {
    "tags": []
   },
   "outputs": [
    {
     "data": {
      "text/plain": [
       "SentimentLSTM(\n",
       "  (embedding): Embedding(1001, 64)\n",
       "  (lstm): LSTM(64, 256, num_layers=2, batch_first=True)\n",
       "  (dropout): Dropout(p=0.3, inplace=False)\n",
       "  (fc): Linear(in_features=256, out_features=1, bias=True)\n",
       "  (sig): Sigmoid()\n",
       ")"
      ]
     },
     "execution_count": 15,
     "metadata": {},
     "output_type": "execute_result"
    }
   ],
   "source": [
    "no_layers = 2 # no of layers in lstm\n",
    "vocab_size = len(vocab) + 1 # extra for 0 (padding symbol)\n",
    "embedding_dim = 64\n",
    "output_dim = 1\n",
    "hidden_dim = 256\n",
    "\n",
    "model = SentimentLSTM(no_layers, vocab_size, hidden_dim, embedding_dim, drop_prob = 0.5)\n",
    "\n",
    "model"
   ]
  },
  {
   "cell_type": "code",
   "execution_count": 16,
   "id": "789871c4-daa6-46ca-84ee-492a4b86479e",
   "metadata": {
    "tags": []
   },
   "outputs": [],
   "source": [
    "# loss and optimization features\n",
    "\n",
    "lr = 0.001\n",
    "criterion = nn.BCELoss()\n",
    "optimizer = torch.optim.Adam(model.parameters(), lr = lr)\n",
    "# accuracy function\n",
    "def accuracy(pred, label):\n",
    "    pred =torch.round(pred.squeeze())\n",
    "    return torch.sum(pred == label.squeeze()).item()"
   ]
  },
  {
   "cell_type": "code",
   "execution_count": 18,
   "id": "f85de28b-7cae-4154-8037-5b10d9066960",
   "metadata": {
    "tags": []
   },
   "outputs": [
    {
     "name": "stdout",
     "output_type": "stream",
     "text": [
      "Epoch 1\n",
      "train_loss : 0.38221081510624466 test_loss : 0.41141192560248513\n",
      "train_accuracy : 83.6884643644379 test_accuracy : 80.67597354886114\n",
      "Validation loss decreased (inf --> 0.411412).  Saving model ...\n",
      "==================================================\n",
      "Epoch 2\n",
      "train_loss : 0.30474677988711524 test_loss : 0.4152602575281087\n",
      "train_accuracy : 87.36223365172667 test_accuracy : 79.50036737692872\n",
      "==================================================\n",
      "Epoch 3\n",
      "train_loss : 0.2210737874813597 test_loss : 0.4654055605916416\n",
      "train_accuracy : 91.55033063923585 test_accuracy : 82.14548126377663\n",
      "==================================================\n",
      "Epoch 4\n",
      "train_loss : 0.15104348810763993 test_loss : 0.515642842003966\n",
      "train_accuracy : 94.58731325006123 test_accuracy : 82.51285819250552\n",
      "==================================================\n",
      "Epoch 5\n",
      "train_loss : 0.08491000647350744 test_loss : 0.7102895415155217\n",
      "train_accuracy : 97.25691893215773 test_accuracy : 81.41072740631888\n",
      "==================================================\n"
     ]
    }
   ],
   "source": [
    "clip = 5\n",
    "epochs = 5\n",
    "test_loss_min = np.Inf\n",
    "epoch_tr_loss, epoch_tst_loss = [], []\n",
    "epoch_tr_acc, epoch_tst_acc = [], []\n",
    "\n",
    "for epoch in range(epochs):\n",
    "    train_loss = []\n",
    "    train_acc = 0\n",
    "    h = model.init_hidden(batch_size)\n",
    "    model.train()\n",
    "    # processing each batch\n",
    "    for x, y in train_loader:\n",
    "        x, y = x, y\n",
    "        \n",
    "        h = tuple([each.data for each in h])\n",
    "        model.zero_grad()\n",
    "        output, h = model(x, h)\n",
    "        \n",
    "        #calculate loss\n",
    "        \n",
    "        loss = criterion(output.squeeze(), y.float())\n",
    "        loss.backward()\n",
    "        train_loss.append(loss.item())\n",
    "        \n",
    "        #acuracy\n",
    "        \n",
    "        acc = accuracy(output, y)\n",
    "        \n",
    "        train_acc += acc\n",
    "        #clip_Grad_norm clips the grad or simply prevents exploding of gradient\n",
    "        nn.utils.clip_grad_norm_(model.parameters(), clip)\n",
    "        optimizer.step()\n",
    "        \n",
    "    test_h = model.init_hidden(batch_size)\n",
    "    test_loss = []\n",
    "    test_acc = 0\n",
    "    model.eval()\n",
    "    for x, y in test_loader:\n",
    "        x, y = x, y\n",
    "        test_h = tuple([each.data for each in test_h])\n",
    "        \n",
    "        output, test_h = model(x, test_h)\n",
    "        \n",
    "        loss = criterion(output.squeeze(), y.float())\n",
    "        test_loss.append(loss.item())\n",
    "        \n",
    "        acc = accuracy(output, y)\n",
    "        \n",
    "        test_acc += acc\n",
    "        \n",
    "    epoch_train_loss = np.mean(train_loss) # take average loss for each batch\n",
    "    epoch_test_loss = np.mean(test_loss)\n",
    "    \n",
    "    epoch_tr_loss.append(epoch_train_loss)\n",
    "    epoch_tst_loss.append(epoch_test_loss)\n",
    "    \n",
    "    epoch_train_acc = train_acc / len(train_loader.dataset)\n",
    "    \n",
    "    epoch_test_acc = test_acc / len(test_loader.dataset)\n",
    "    \n",
    "    epoch_tr_acc.append(epoch_train_acc)\n",
    "    epoch_tst_acc.append(epoch_test_acc)\n",
    "    \n",
    "    print(f'Epoch {epoch+1}') \n",
    "    print(f'train_loss : {epoch_train_loss} test_loss : {epoch_test_loss}')\n",
    "    print(f'train_accuracy : {epoch_train_acc*100} test_accuracy : {epoch_test_acc*100}')\n",
    "    if epoch_test_loss <= test_loss_min:\n",
    "        # torch.save(model.state_dict(), '../working/state_dict.pt')\n",
    "        print('Validation loss decreased ({:.6f} --> {:.6f}).  Saving model ...'.format(test_loss_min,epoch_test_loss))\n",
    "        test_loss_min = epoch_test_loss\n",
    "    print(25*'==')"
   ]
  },
  {
   "cell_type": "code",
   "execution_count": 20,
   "id": "cb31b7b5-8702-43fa-b650-57746867bd53",
   "metadata": {
    "tags": []
   },
   "outputs": [
    {
     "data": {
      "image/png": "[encoded data removed]",
      "text/plain": [
       "<Figure size 2000x600 with 2 Axes>"
      ]
     },
     "metadata": {},
     "output_type": "display_data"
    }
   ],
   "source": [
    "fig = plt.figure(figsize = (20, 6))\n",
    "plt.subplot(1, 2, 1)\n",
    "plt.plot(epoch_tr_acc, label='Train Acc')\n",
    "plt.plot(epoch_tst_acc, label='Test Acc')\n",
    "plt.title(\"Accuracy\")\n",
    "plt.legend()\n",
    "plt.grid()\n",
    "    \n",
    "plt.subplot(1, 2, 2)\n",
    "plt.plot(epoch_tr_loss, label='Train loss')\n",
    "plt.plot(epoch_tst_loss, label='Test loss')\n",
    "plt.title(\"Loss\")\n",
    "plt.legend()\n",
    "plt.grid()\n",
    "\n",
    "plt.show()"
   ]
  },
  {
   "cell_type": "code",
   "execution_count": 30,
   "id": "7a92b66d-ecff-4a96-b682-484c0e43a48e",
   "metadata": {},
   "outputs": [],
   "source": [
    "def predict_sentiment(text):\n",
    "    word_seq = np.array([vocab[preprocess_string(word)] for word in text.split() if preprocess_string(word) in vocab.keys()])\n",
    "    word_seq = np.expand_dims(word_seq, axis = 0)\n",
    "    print(word_seq)\n",
    "    pad = torch.from_numpy(padding(word_seq, 500))\n",
    "    \n",
    "    inputs = pad\n",
    "    batch_size = 1\n",
    "    h = model.init_hidden(batch_size)\n",
    "    output, h = model(inputs, h)\n",
    "    return output.item()"
   ]
  },
  {
   "cell_type": "code",
   "execution_count": 35,
   "id": "07c79dec-537f-409a-b3f3-52e097704eca",
   "metadata": {
    "tags": []
   },
   "outputs": [
    {
     "data": {
      "text/html": [
       "<div>\n",
       "<style scoped>\n",
       "    .dataframe tbody tr th:only-of-type {\n",
       "        vertical-align: middle;\n",
       "    }\n",
       "\n",
       "    .dataframe tbody tr th {\n",
       "        vertical-align: top;\n",
       "    }\n",
       "\n",
       "    .dataframe thead th {\n",
       "        text-align: right;\n",
       "    }\n",
       "</style>\n",
       "<table border=\"1\" class=\"dataframe\">\n",
       "  <thead>\n",
       "    <tr style=\"text-align: right;\">\n",
       "      <th></th>\n",
       "      <th>Sentiment</th>\n",
       "      <th>Time</th>\n",
       "      <th>Text</th>\n",
       "    </tr>\n",
       "  </thead>\n",
       "  <tbody>\n",
       "    <tr>\n",
       "      <th>44</th>\n",
       "      <td>negative</td>\n",
       "      <td>10/3/21</td>\n",
       "      <td>SOMETHING TO EAT IF YOU'RE STARVING - BUT PLEA...</td>\n",
       "    </tr>\n",
       "    <tr>\n",
       "      <th>62</th>\n",
       "      <td>negative</td>\n",
       "      <td>25/4/21</td>\n",
       "      <td>I ordered a flat of food (they were on sale) t...</td>\n",
       "    </tr>\n",
       "    <tr>\n",
       "      <th>70</th>\n",
       "      <td>negative</td>\n",
       "      <td>28/9/21</td>\n",
       "      <td>Unlike another product I reviewed for Vine, at...</td>\n",
       "    </tr>\n",
       "    <tr>\n",
       "      <th>76</th>\n",
       "      <td>negative</td>\n",
       "      <td>25/5/21</td>\n",
       "      <td>Gimme better ingredients (KIND/Larabars) for m...</td>\n",
       "    </tr>\n",
       "    <tr>\n",
       "      <th>93</th>\n",
       "      <td>negative</td>\n",
       "      <td>3/6/21</td>\n",
       "      <td>do not fed your dog any happy hip = dogswell p...</td>\n",
       "    </tr>\n",
       "    <tr>\n",
       "      <th>...</th>\n",
       "      <td>...</td>\n",
       "      <td>...</td>\n",
       "      <td>...</td>\n",
       "    </tr>\n",
       "    <tr>\n",
       "      <th>5439</th>\n",
       "      <td>negative</td>\n",
       "      <td>26/2/21</td>\n",
       "      <td>This is an okay gift box, only if you like med...</td>\n",
       "    </tr>\n",
       "    <tr>\n",
       "      <th>5440</th>\n",
       "      <td>negative</td>\n",
       "      <td>18/12/19</td>\n",
       "      <td>It looks llike I just walked into a raw deal. ...</td>\n",
       "    </tr>\n",
       "    <tr>\n",
       "      <th>5441</th>\n",
       "      <td>negative</td>\n",
       "      <td>19/1/20</td>\n",
       "      <td>Thank god that i tasted the metal before i swa...</td>\n",
       "    </tr>\n",
       "    <tr>\n",
       "      <th>5442</th>\n",
       "      <td>negative</td>\n",
       "      <td>13/9/20</td>\n",
       "      <td>This product was very good when I began buying...</td>\n",
       "    </tr>\n",
       "    <tr>\n",
       "      <th>5443</th>\n",
       "      <td>negative</td>\n",
       "      <td>10/7/20</td>\n",
       "      <td>Once again, Paragon has disappointed with this...</td>\n",
       "    </tr>\n",
       "  </tbody>\n",
       "</table>\n",
       "<p>1414 rows × 3 columns</p>\n",
       "</div>"
      ],
      "text/plain": [
       "     Sentiment      Time                                               Text\n",
       "44    negative   10/3/21  SOMETHING TO EAT IF YOU'RE STARVING - BUT PLEA...\n",
       "62    negative   25/4/21  I ordered a flat of food (they were on sale) t...\n",
       "70    negative   28/9/21  Unlike another product I reviewed for Vine, at...\n",
       "76    negative   25/5/21  Gimme better ingredients (KIND/Larabars) for m...\n",
       "93    negative    3/6/21  do not fed your dog any happy hip = dogswell p...\n",
       "...        ...       ...                                                ...\n",
       "5439  negative   26/2/21  This is an okay gift box, only if you like med...\n",
       "5440  negative  18/12/19  It looks llike I just walked into a raw deal. ...\n",
       "5441  negative   19/1/20  Thank god that i tasted the metal before i swa...\n",
       "5442  negative   13/9/20  This product was very good when I began buying...\n",
       "5443  negative   10/7/20  Once again, Paragon has disappointed with this...\n",
       "\n",
       "[1414 rows x 3 columns]"
      ]
     },
     "execution_count": 35,
     "metadata": {},
     "output_type": "execute_result"
    }
   ],
   "source": [
    "df[df['Sentiment'] == 'negative']"
   ]
  },
  {
   "cell_type": "code",
   "execution_count": 38,
   "id": "b15edede-d148-41b2-9683-2e7b9a253dad",
   "metadata": {
    "tags": []
   },
   "outputs": [
    {
     "name": "stdout",
     "output_type": "stream",
     "text": [
      "The statement is:\n",
      "SOMETHING TO EAT IF YOU'RE STARVING - BUT PLEASE GIVE REAL FOOD TO HUNGRY PEOPLE,<br /><br />What's in Kellogg's Corn Flakes? \"Milled Corn, Sugar, Malt Flavoring, High Fructose Corn Syrup, Salt.\" Yes, of course, it also has lots of yummy preservatives such as BHT and a few synthetic vitamins and iron in minute quantities. For nutrition you get basically 100% Carbs from lots of SUGAR and almost NO PROTEIN. Add skim milk, or you'll get saturated fat with a little protein from whole milk. For added nutrition, include a sliced banana and a capful of wheat germ.<br /><br />If you like Corn Flakes, that is your business and you should enjoy them, but this is not health food and it is a very poor value for more than 0.29 cents an ounce [$3.49 per package]. At this price, the inner package's failure to maintain freshness is an even bigger drawback when one thinks of how long it may take to finish 12 ounces of this stuff. Why not use a vacuum-sealed container like Kretschmer's Wheat Germ to preserve freshness? After all, it's in the same price range!<br /><br />So if you are hungry, you are really eating the wrong stuff. SOMETHING TO EAT IF YOU ARE STARVING - BUT PLEASE GIVE REAL FOOD TO OTHER HUNGRY PEOPLE PLEASE!\n",
      "==================================================\n",
      "Original Sentiment is: negative\n",
      "==================================================\n",
      "[[  3 440  23 464 487 798  17 981 464 188  65 521  17 189  24 151 118  65\n",
      "  170 798 761 459   3   1 124 240  18 394 721 367 160 137  13 520  21   7\n",
      "  174 184 171 900 713  98  26 453   1  13   3  12  93 400  98]]\n",
      "Predicted Sentiment is positive with probability of 0.901802659034729.\n"
     ]
    }
   ],
   "source": [
    "index = 44\n",
    "review, sentiment = df['Text'][index], df['Sentiment'][index]\n",
    "print(\"The statement is:\")\n",
    "print(review)\n",
    "print(\"==\"*25)\n",
    "print(f\"Original Sentiment is: {sentiment}\")\n",
    "print(\"==\"*25)\n",
    "pred = predict_sentiment(review)\n",
    "status = \"positive\" if pred > 0.5 else \"negative\"\n",
    "print(f\"Predicted Sentiment is {status} with probability of {pred}.\")"
   ]
  },
  {
   "cell_type": "code",
   "execution_count": 39,
   "id": "8474838a-7821-4d4c-92be-cb12cecea817",
   "metadata": {
    "tags": []
   },
   "outputs": [
    {
     "name": "stdout",
     "output_type": "stream",
     "text": [
      "The statement is:\n",
      "Unlike another product I reviewed for Vine, at least this product does not have sugar per se in it. It is carbonated water added to a concentrate mixture of (in this order): apple, grape, tangerine and last - as well as least -- acai concentrate. The first two on the list, apple and grape are two of the most common \"fruit\" sweeteners used in beverages etc. That is why the product tastes sweetened.<br /><br />It has 140 calories -- quite a lot for 8 oz of flavored carbonated water -- and all of it is from carbohydrates (36 grams) and over 90% of the carbs (34 grams) are sugars. Apple and grapes have some of the highest concentrations of \"fructose\" a fruit sugar that not only commonly appears in commercial beverages because it is sweeter than regular cane sugar and thus it is cheaper to use, but it is also known to cause diarrhea, particularly in children.<br /><br />So another drink on the hit parade of \"pretend\" healthy drinks- appealing to the masses' concern for their ever-growing girth -- and deluding them that this will help forestall continued growth.<br /><br />You are better off drinking diet coke. You would be even more better off buying the sparkling flavored waters with no calories. My favorite is Bella Familglia -- in pomegranate, lime, lemon and orange flavors -- and is sold from time to time on Amazon as well as your local supermarket.<br /><br />Better yet, buy some organic pure fruit juice -- such as pomegranate and pour  1/8 cup in a glass of your favorite sparking water or a quarter cup in a 16 oz bottle of your favorite sparkling water. At least it is the actual juice and not some fructose extract.\n",
      "==================================================\n",
      "Original Sentiment is: negative\n",
      "==================================================\n",
      "[[168   6 286   6  40 160 674  33 170  56 416 895 550 205  34 286  43  73\n",
      "  590 416 895  73 132 708  48 412   6  30   3 111 134  74 128 257 674  33\n",
      "  478 558 478 853 132  40 116  40 172  26  23 715   3 168  37 679  50 282\n",
      "  417   3  22 249 148  10  21  22 109 257 111 122 843 754 202  89 575  27\n",
      "   27  34 115   3 327  20 107 786 132 161  61 438 122  33  61 128 222 122\n",
      "   33 286 806 161 657]]\n",
      "Predicted Sentiment is negative with probability of 0.003720891894772649.\n"
     ]
    }
   ],
   "source": [
    "index = 70\n",
    "review, sentiment = df['Text'][index], df['Sentiment'][index]\n",
    "print(\"The statement is:\")\n",
    "print(review)\n",
    "print(\"==\"*25)\n",
    "print(f\"Original Sentiment is: {sentiment}\")\n",
    "print(\"==\"*25)\n",
    "pred = predict_sentiment(review)\n",
    "status = \"positive\" if pred > 0.5 else \"negative\"\n",
    "print(f\"Predicted Sentiment is {status} with probability of {pred}.\")"
   ]
  },
  {
   "cell_type": "code",
   "execution_count": 40,
   "id": "170fe7df-7520-4e3a-b326-6678677d547d",
   "metadata": {
    "tags": []
   },
   "outputs": [
    {
     "name": "stdout",
     "output_type": "stream",
     "text": [
      "The statement is:\n",
      "I ordered a flat of food (they were on sale) that contained Chicken Apple Compote Dinner. It contained 3 of this variety and he liked the first one but the others, although properly sealed, were solid and moldy and stinky.<br />One of the Turkey dinners in the flat was also improperly sealed; the lid popped. We were lucky because I just happened to check that one. Now I'm so paranoid that I check all of them several times. I called Earth's Best and they assured me that they haven't had this problem before and that I shouldn't worry about it. I'm so suprised that this got passed QA/QC inspection at a baby food manufacturer. Why would a company take the risk of bad publicity when baby food manufacturers rely so much on a reputation of safety?!<br /><br />We also recently opened 5 other jars in this flat after my son refused to eat them and realized that they were rotten.  3 of them were completely solid and domed at the top!  We poked a toothpick down to the bottom of the jar and it was dry throughout.  Shortly after eating his last dinner of this box, my son started vomiting and refused to eat.  We have contacted the USDA about this.  If this happens to you, please same your jars so you can give them the information they need.  It may prevent other babies from getting sick.<br />I'll never buy anything from Earth's Best again!\n",
      "==================================================\n",
      "Original Sentiment is: negative\n",
      "==================================================\n",
      "[[108  18 476 363 241  43   7 291 328 816  23 816 757   7 757 277 255 586\n",
      "  421 238 961  66 253  18  10 208 171  84 253  18  15   3  23 423 333 641\n",
      "  374  36 425 281 491 424 239  93 205 719  58 374 403  36 560 641  82 994\n",
      "  165 184 228  96  20 180]]\n",
      "Predicted Sentiment is negative with probability of 0.0006531245890073478.\n"
     ]
    }
   ],
   "source": [
    "index = 62\n",
    "review, sentiment = df['Text'][index], df['Sentiment'][index]\n",
    "print(\"The statement is:\")\n",
    "print(review)\n",
    "print(\"==\"*25)\n",
    "print(f\"Original Sentiment is: {sentiment}\")\n",
    "print(\"==\"*25)\n",
    "pred = predict_sentiment(review)\n",
    "status = \"positive\" if pred > 0.5 else \"negative\"\n",
    "print(f\"Predicted Sentiment is {status} with probability of {pred}.\")"
   ]
  },
  {
   "cell_type": "markdown",
   "id": "12b49bfc-0936-4e0a-8bab-69f4178f2549",
   "metadata": {},
   "source": [
    "Test on user generated data"
   ]
  },
  {
   "cell_type": "code",
   "execution_count": 44,
   "id": "c81b44bf-179f-4941-8d70-723e8da8146f",
   "metadata": {
    "tags": []
   },
   "outputs": [
    {
     "name": "stdout",
     "output_type": "stream",
     "text": [
      "[[  6 349 100  23 391 140  10  20]]\n",
      "Predicted Sentiment is negative with probability of 0.1204124316573143.\n"
     ]
    }
   ],
   "source": [
    "review = \"The product does seem to be different from what is show on the webite, it is also slightly expensive, would not buy again\"\n",
    "pred = predict_sentiment(review)\n",
    "status = \"positive\" if pred > 0.5 else \"negative\"\n",
    "print(f\"Predicted Sentiment is {status} with probability of {pred}.\")"
   ]
  },
  {
   "cell_type": "markdown",
   "id": "aa7f5541-c878-404f-b294-35cc25e7fd88",
   "metadata": {
    "tags": []
   },
   "source": [
    "26% of data has negative sentiments\n",
    "74% of data has positive sentiments\n",
    "\n",
    "Data is slightly unbalanced and as seen from the model, the predicted probability for negative sentiment seems to be quite low. The model is good at classifying positive reviews but can be better on negative ones.\n",
    "\n",
    "Things to do next:\n",
    "    - hyperparameter tuning \n",
    "    - can tune threshold in which we determine whether sentiment is +/-, currently it is at 0.5\n",
    "    - try other models such as XGboost which is great for unbalanced dataset\n",
    "    \n"
   ]
  },
  {
   "cell_type": "code",
   "execution_count": null,
   "id": "f2d7b536-47b3-486d-ae7b-0db49bdbf07d",
   "metadata": {},
   "outputs": [],
   "source": [
    "X = df['clean_reviews']\n",
    "y = df['Sentiment']\n",
    "y = np.array(list(map(lambda x: 1 if x==\"positive\" else 0, y)))\n",
    "X_train, X_test, y_train, y_test = train_test_split(X, y, test_size=0.20, random_state=42)"
   ]
  },
  {
   "cell_type": "code",
   "execution_count": null,
   "id": "f406579d-a662-46bb-8dad-61acf3fa9398",
   "metadata": {},
   "outputs": [],
   "source": [
    "tokenizer = Tokenizer(num_words=5000)\n",
    "tokenizer.fit_on_texts(X_train)\n",
    "\n",
    "X_train = tokenizer.texts_to_sequences(X_train)\n",
    "X_test = tokenizer.texts_to_sequences(X_test)"
   ]
  },
  {
   "cell_type": "code",
   "execution_count": null,
   "id": "6e89d008-c428-425f-a323-880c20afca05",
   "metadata": {},
   "outputs": [],
   "source": [
    "# Adding 1 because of reserved 0 index\n",
    "vocab_size = len(tokenizer.word_index) + 1\n",
    "\n",
    "maxlen = 100\n",
    "\n",
    "X_train = pad_sequences(X_train, padding='post', maxlen=maxlen)\n",
    "X_test = pad_sequences(X_test, padding='post', maxlen=maxlen)"
   ]
  },
  {
   "cell_type": "code",
   "execution_count": null,
   "id": "c0e92986-f6b2-4def-8fbb-1a3e156ced23",
   "metadata": {},
   "outputs": [],
   "source": [
    "# GloVe is an unsupervised learning algorithm for obtaining vector representations for words.\n",
    "embeddings_dictionary = dict()\n",
    "glove_file = open('glove.6B.100d.txt', encoding=\"utf8\") #822MB, not uploaded onto git\n",
    "\n",
    "for line in glove_file:\n",
    "    records = line.split()\n",
    "    word = records[0]\n",
    "    vector_dimensions = asarray(records[1:], dtype='float32')\n",
    "    embeddings_dictionary [word] = vector_dimensions\n",
    "glove_file.close()"
   ]
  },
  {
   "cell_type": "code",
   "execution_count": null,
   "id": "8a3dbec3-c418-47b5-b625-bd5602dc9ba1",
   "metadata": {},
   "outputs": [],
   "source": [
    "embedding_matrix = zeros((vocab_size, 100))\n",
    "for word, index in tokenizer.word_index.items():\n",
    "    embedding_vector = embeddings_dictionary.get(word)\n",
    "    if embedding_vector is not None:\n",
    "        embedding_matrix[index] = embedding_vector"
   ]
  },
  {
   "cell_type": "markdown",
   "id": "c043f9a4-e4f9-45fa-a1ff-4cacd012e8cf",
   "metadata": {},
   "source": [
    "### Simple Neural Network"
   ]
  },
  {
   "cell_type": "code",
   "execution_count": null,
   "id": "ce0c77f0-ec94-4a58-8287-c0821ceac70c",
   "metadata": {},
   "outputs": [],
   "source": [
    "model = Sequential()\n",
    "embedding_layer = Embedding(vocab_size, 100, weights=[embedding_matrix], input_length=maxlen , trainable=False)\n",
    "model.add(embedding_layer)\n",
    "\n",
    "model.add(Flatten())\n",
    "model.add(Dense(1, activation='sigmoid'))"
   ]
  },
  {
   "cell_type": "code",
   "execution_count": null,
   "id": "1d6d8d12-d0ed-45d1-b0e6-d59aa701b9d2",
   "metadata": {},
   "outputs": [],
   "source": [
    "model.compile(optimizer='adam', loss='binary_crossentropy', metrics=['acc'])\n",
    "\n",
    "print(model.summary())"
   ]
  },
  {
   "cell_type": "code",
   "execution_count": null,
   "id": "83a9694c-6829-4995-993e-4d1e6a250387",
   "metadata": {},
   "outputs": [],
   "source": [
    "history = model.fit(X_train, y_train, batch_size=128, epochs=6, verbose=1, validation_split=0.2)"
   ]
  },
  {
   "cell_type": "code",
   "execution_count": null,
   "id": "26d1fe3d-4b73-4118-b3e7-067767a2523f",
   "metadata": {},
   "outputs": [],
   "source": [
    "score = model.evaluate(X_test, y_test, verbose=1)"
   ]
  },
  {
   "cell_type": "code",
   "execution_count": null,
   "id": "398bec9a-eac5-4a34-bf17-1e1c6a40bf22",
   "metadata": {},
   "outputs": [],
   "source": [
    "print(\"Test Score:\", score[0])\n",
    "print(\"Test Accuracy:\", score[1])"
   ]
  },
  {
   "cell_type": "code",
   "execution_count": null,
   "id": "bc094285-525c-44aa-af20-790a28763437",
   "metadata": {},
   "outputs": [],
   "source": [
    "plt.title('model accuracy')\n",
    "plt.ylabel('accuracy')\n",
    "plt.xlabel('epoch')\n",
    "plt.legend(['train','test'], loc='upper left')\n",
    "plt.show()\n",
    "\n",
    "plt.plot(history.history['loss'])\n",
    "plt.plot(history.history['val_loss'])\n",
    "\n",
    "plt.title('model loss')\n",
    "plt.ylabel('loss')\n",
    "plt.xlabel('epoch')\n",
    "plt.legend(['train','test'], loc='upper left')\n",
    "plt.show()"
   ]
  },
  {
   "cell_type": "markdown",
   "id": "01c1f1f2-3959-4d7d-ba32-8e2ef0ccc1ff",
   "metadata": {},
   "source": [
    "### LSTM (RNN)"
   ]
  },
  {
   "cell_type": "code",
   "execution_count": null,
   "id": "602490d5-58ca-4f5d-84df-dfac6fcfb897",
   "metadata": {},
   "outputs": [],
   "source": [
    "model = Sequential()\n",
    "embedding_layer = Embedding(vocab_size, 100, weights=[embedding_matrix], input_length=maxlen , trainable=False)\n",
    "model.add(embedding_layer)\n",
    "model.add(LSTM(128))\n",
    "\n",
    "model.add(Dense(1, activation='sigmoid'))\n",
    "model.compile(optimizer='adam', loss='binary_crossentropy', metrics=['acc'])"
   ]
  },
  {
   "cell_type": "code",
   "execution_count": null,
   "id": "3534dfc5-1f47-4b63-bd65-cd02862de0bc",
   "metadata": {},
   "outputs": [],
   "source": [
    "print(model.summary())"
   ]
  },
  {
   "cell_type": "code",
   "execution_count": null,
   "id": "174fdc67-0524-41af-9273-3c7e5d762f53",
   "metadata": {},
   "outputs": [],
   "source": [
    "history = model.fit(X_train, y_train, batch_size=128, epochs=6, verbose=1, validation_split=0.2)\n",
    "\n",
    "score = model.evaluate(X_test, y_test, verbose=1)"
   ]
  },
  {
   "cell_type": "code",
   "execution_count": null,
   "id": "a1f87314-06bf-4888-ba91-3c67393de1fd",
   "metadata": {},
   "outputs": [],
   "source": [
    "print(\"Test Score:\", score[0])\n",
    "print(\"Test Accuracy:\", score[1])"
   ]
  },
  {
   "cell_type": "code",
   "execution_count": null,
   "id": "0a030328-f1dc-4d0a-9225-3131f1b6f59e",
   "metadata": {},
   "outputs": [],
   "source": [
    "plt.plot(history.history['acc'])\n",
    "plt.plot(history.history['val_acc'])\n",
    "\n",
    "plt.title('model accuracy')\n",
    "plt.ylabel('accuracy')\n",
    "plt.xlabel('epoch')\n",
    "plt.legend(['train','test'], loc='upper left')\n",
    "plt.show()\n",
    "\n",
    "plt.plot(history.history['loss'])\n",
    "plt.plot(history.history['val_loss'])\n",
    "\n",
    "plt.title('model loss')\n",
    "plt.ylabel('loss')\n",
    "plt.xlabel('epoch')\n",
    "plt.legend(['train','test'], loc='upper left')\n",
    "plt.show()"
   ]
  }
 ],
 "metadata": {
  "kernelspec": {
   "display_name": "Python 3 (ipykernel)",
   "language": "python",
   "name": "python3"
  },
  "language_info": {
   "codemirror_mode": {
    "name": "ipython",
    "version": 3
   },
   "file_extension": ".py",
   "mimetype": "text/x-python",
   "name": "python",
   "nbconvert_exporter": "python",
   "pygments_lexer": "ipython3",
   "version": "3.10.9"
  }
 },
 "nbformat": 4,
 "nbformat_minor": 5
}
