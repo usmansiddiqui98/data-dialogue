{
 "cells": [
  {
   "cell_type": "code",
   "execution_count": null,
   "metadata": {
    "collapsed": true
   },
   "outputs": [],
   "source": [
    "from src.data import make_dataset\n",
    "from transformers import pipeline\n",
    "from sklearn.metrics import classification_report\n",
    "import torch\n",
    "import pandas as pd\n",
    "import gc"
   ]
  },
  {
   "cell_type": "code",
   "execution_count": null,
   "outputs": [],
   "source": [
    "if torch.cuda.is_available():\n",
    "    device = 0\n",
    "else:\n",
    "    device = -1"
   ],
   "metadata": {
    "collapsed": false
   }
  },
  {
   "cell_type": "code",
   "execution_count": null,
   "outputs": [],
   "source": [
    "# input_file = \"../../data/raw/reviews.csv\"\n",
    "# train_output_file = \"../../data/processed/train_final_processed_reviews.csv\"\n",
    "# test_output_file = \"../../data/processed/test_final_processed_reviews.csv\"\n",
    "# X_train, X_test, y_train, y_test = make_dataset.main(input_file, train_output_file, test_output_file)\n"
   ],
   "metadata": {
    "collapsed": false
   }
  },
  {
   "cell_type": "code",
   "execution_count": null,
   "outputs": [],
   "source": [
    "train = pd.read_csv(\"../../data/processed/train_final_processed_reviews.csv\", index_col='Unnamed: 0')\n",
    "test = pd.read_csv(\"../../data/processed/test_final_processed_reviews.csv\", index_col='Unnamed: 0')\n",
    "X_train = train.drop('sentiment', axis=1)\n",
    "X_test = test.drop('sentiment', axis=1)\n",
    "y_train = train.sentiment\n",
    "y_test = test.sentiment"
   ],
   "metadata": {
    "collapsed": false
   }
  },
  {
   "cell_type": "code",
   "execution_count": null,
   "outputs": [],
   "source": [
    "X_test.head()"
   ],
   "metadata": {
    "collapsed": false
   }
  },
  {
   "cell_type": "code",
   "execution_count": null,
   "outputs": [],
   "source": [
    "y_test.head()"
   ],
   "metadata": {
    "collapsed": false
   }
  },
  {
   "cell_type": "code",
   "execution_count": null,
   "outputs": [],
   "source": [
    "data = X_test.text.to_list()\n",
    "data = [x[:512] if len(x)>512 else x for x in data]"
   ],
   "metadata": {
    "collapsed": false
   }
  },
  {
   "cell_type": "code",
   "execution_count": null,
   "outputs": [],
   "source": [
    "%%time\n",
    "sentiment_pipeline = pipeline(model = \"distilbert-base-uncased-finetuned-sst-2-english\", device=device)\n",
    "results0 = sentiment_pipeline(data)\n",
    "results0[0:5]"
   ],
   "metadata": {
    "collapsed": false
   }
  },
  {
   "cell_type": "code",
   "execution_count": null,
   "outputs": [
    {
     "name": "stdout",
     "output_type": "stream",
     "text": [
      "CPU times: total: 12.2 s\n",
      "Wall time: 14.8 s\n"
     ]
    },
    {
     "data": {
      "text/plain": "[{'label': '5 stars', 'score': 0.9336758852005005},\n {'label': '5 stars', 'score': 0.4628945291042328},\n {'label': '2 stars', 'score': 0.555162250995636},\n {'label': '4 stars', 'score': 0.5062201619148254},\n {'label': '4 stars', 'score': 0.6108953952789307}]"
     },
     "execution_count": 10,
     "metadata": {},
     "output_type": "execute_result"
    }
   ],
   "source": [
    "%%time\n",
    "specific_model = pipeline(model=\"nlptown/bert-base-multilingual-uncased-sentiment\", device=device)\n",
    "results1 = specific_model(data)\n",
    "results1[0:5]"
   ],
   "metadata": {
    "collapsed": false
   }
  },
  {
   "cell_type": "code",
   "execution_count": null,
   "outputs": [
    {
     "name": "stdout",
     "output_type": "stream",
     "text": [
      "CPU times: total: 6.03 s\n",
      "Wall time: 6.92 s\n"
     ]
    },
    {
     "data": {
      "text/plain": "[{'label': 'LABEL_2', 'score': 0.9964131712913513},\n {'label': 'LABEL_2', 'score': 0.9589166045188904},\n {'label': 'LABEL_0', 'score': 0.7314499020576477},\n {'label': 'LABEL_2', 'score': 0.9967833757400513},\n {'label': 'LABEL_2', 'score': 0.9085060358047485}]"
     },
     "execution_count": 11,
     "metadata": {},
     "output_type": "execute_result"
    }
   ],
   "source": [
    "%%time\n",
    "specific_model = pipeline(model=\"Seethal/sentiment_analysis_generic_dataset\", device=device)\n",
    "results2 = specific_model(data)\n",
    "results2[0:5]"
   ],
   "metadata": {
    "collapsed": false
   }
  },
  {
   "cell_type": "code",
   "execution_count": null,
   "outputs": [
    {
     "name": "stdout",
     "output_type": "stream",
     "text": [
      "CPU times: total: 19.8 s\n",
      "Wall time: 19.6 s\n"
     ]
    },
    {
     "data": {
      "text/plain": "[{'label': 'POSITIVE', 'score': 0.9989363551139832},\n {'label': 'POSITIVE', 'score': 0.9988914132118225},\n {'label': 'NEGATIVE', 'score': 0.9995133876800537},\n {'label': 'POSITIVE', 'score': 0.9988318085670471},\n {'label': 'POSITIVE', 'score': 0.9908561706542969}]"
     },
     "execution_count": 12,
     "metadata": {},
     "output_type": "execute_result"
    }
   ],
   "source": [
    "%%time\n",
    "specific_model = pipeline('sentiment-analysis', model=\"siebert/sentiment-roberta-large-english\", device=device)\n",
    "results3 = specific_model(data)\n",
    "results3[0:5]"
   ],
   "metadata": {
    "collapsed": false
   }
  },
  {
   "cell_type": "markdown",
   "source": [
    "# Test Results"
   ],
   "metadata": {
    "collapsed": false
   }
  },
  {
   "cell_type": "code",
   "execution_count": null,
   "outputs": [],
   "source": [
    "y_true = [1 if label=='positive' else 0 for label in y_test]"
   ],
   "metadata": {
    "collapsed": false
   }
  },
  {
   "cell_type": "markdown",
   "source": [
    "## Results for distilbert-base-uncased-finetuned-sst-2-english"
   ],
   "metadata": {
    "collapsed": false
   }
  },
  {
   "cell_type": "code",
   "execution_count": null,
   "outputs": [
    {
     "ename": "NameError",
     "evalue": "name 'results0' is not defined",
     "output_type": "error",
     "traceback": [
      "\u001B[1;31m---------------------------------------------------------------------------\u001B[0m",
      "\u001B[1;31mNameError\u001B[0m                                 Traceback (most recent call last)",
      "Cell \u001B[1;32mIn[14], line 1\u001B[0m\n\u001B[1;32m----> 1\u001B[0m labels \u001B[38;5;241m=\u001B[39m [result[\u001B[38;5;124m'\u001B[39m\u001B[38;5;124mlabel\u001B[39m\u001B[38;5;124m'\u001B[39m] \u001B[38;5;28;01mfor\u001B[39;00m result \u001B[38;5;129;01min\u001B[39;00m \u001B[43mresults0\u001B[49m]\n\u001B[0;32m      2\u001B[0m y_pred \u001B[38;5;241m=\u001B[39m [\u001B[38;5;241m1\u001B[39m \u001B[38;5;28;01mif\u001B[39;00m label\u001B[38;5;241m==\u001B[39m\u001B[38;5;124m'\u001B[39m\u001B[38;5;124mPOSITIVE\u001B[39m\u001B[38;5;124m'\u001B[39m \u001B[38;5;28;01melse\u001B[39;00m \u001B[38;5;241m0\u001B[39m \u001B[38;5;28;01mfor\u001B[39;00m label \u001B[38;5;129;01min\u001B[39;00m labels]\n\u001B[0;32m      3\u001B[0m \u001B[38;5;28mprint\u001B[39m(classification_report(y_true, y_pred))\n",
      "\u001B[1;31mNameError\u001B[0m: name 'results0' is not defined"
     ]
    }
   ],
   "source": [
    "labels = [result['label'] for result in results0]\n",
    "y_pred = [1 if label=='POSITIVE' else 0 for label in labels]\n",
    "print(classification_report(y_true, y_pred))"
   ],
   "metadata": {
    "collapsed": false
   }
  },
  {
   "cell_type": "markdown",
   "source": [
    "## Results for nlptown/bert-base-multilingual-uncased-sentiment\""
   ],
   "metadata": {
    "collapsed": false
   }
  },
  {
   "cell_type": "code",
   "execution_count": null,
   "outputs": [],
   "source": [
    "labels = [result['label'] for result in results1]\n",
    "y_pred = [1 if label in ['5 stars', '4 stars', '3 stars'] else 0 for label in labels]\n",
    "print(classification_report(y_true, y_pred))"
   ],
   "metadata": {
    "collapsed": false
   }
  },
  {
   "cell_type": "markdown",
   "source": [
    "## Results for Seethal/sentiment_analysis_generic_dataset"
   ],
   "metadata": {
    "collapsed": false
   }
  },
  {
   "cell_type": "code",
   "execution_count": null,
   "outputs": [],
   "source": [
    "labels = [result['label'] for result in results2]\n",
    "y_pred = [1 if label=='LABEL_2' else 0 for label in labels]\n",
    "# y_pred = [0 if label=='LABEL_0' else 1 for label in labels]\n",
    "print(classification_report(y_true, y_pred))"
   ],
   "metadata": {
    "collapsed": false
   }
  },
  {
   "cell_type": "markdown",
   "source": [
    "## Results for siebert/sentiment-roberta-large-english"
   ],
   "metadata": {
    "collapsed": false
   }
  },
  {
   "cell_type": "code",
   "execution_count": null,
   "outputs": [],
   "source": [
    "labels = [result['label'] for result in results3]\n",
    "y_pred = [1 if label=='POSITIVE' else 0 for label in labels]\n",
    "print(classification_report(y_true, y_pred))"
   ],
   "metadata": {
    "collapsed": false
   }
  },
  {
   "cell_type": "code",
   "execution_count": null,
   "outputs": [],
   "source": [
    "results3"
   ],
   "metadata": {
    "collapsed": false
   }
  },
  {
   "cell_type": "code",
   "execution_count": null,
   "outputs": [],
   "source": [
    "sentiment_pipeline=None\n",
    "specific_model=None\n",
    "gc.collect()\n",
    "torch.cuda.empty_cache()"
   ],
   "metadata": {
    "collapsed": false
   }
  },
  {
   "cell_type": "code",
   "execution_count": 15,
   "outputs": [
    {
     "name": "stdout",
     "output_type": "stream",
     "text": [
      "              precision    recall  f1-score   support\n",
      "\n",
      "           0       0.89      0.92      0.91       283\n",
      "           1       0.97      0.96      0.97       806\n",
      "\n",
      "    accuracy                           0.95      1089\n",
      "   macro avg       0.93      0.94      0.94      1089\n",
      "weighted avg       0.95      0.95      0.95      1089\n",
      "\n"
     ]
    }
   ],
   "source": [
    "from src.models.sentiment_analysis.pre_trained.seibert import Seibert\n",
    "\n",
    "model = Seibert()\n",
    "pred = model.predict(X_test).predicted_sentiment\n",
    "print(classification_report(y_true, pred))"
   ],
   "metadata": {
    "collapsed": false
   }
  },
  {
   "cell_type": "code",
   "execution_count": null,
   "outputs": [],
   "source": [
    "# from src.models.sentiment_analysis.pre_trained.bert_fine_tuned import BertFineTuned\n",
    "# model = BertFineTuned('bert_state_dict.pt')\n",
    "# pred = model.predict(X_test)\n",
    "# print(classification_report(y_true, pred))"
   ],
   "metadata": {
    "collapsed": false
   }
  },
  {
   "cell_type": "code",
   "execution_count": null,
   "outputs": [],
   "source": [],
   "metadata": {
    "collapsed": false
   }
  }
 ],
 "metadata": {
  "kernelspec": {
   "display_name": "Python 3",
   "language": "python",
   "name": "python3"
  },
  "language_info": {
   "codemirror_mode": {
    "name": "ipython",
    "version": 2
   },
   "file_extension": ".py",
   "mimetype": "text/x-python",
   "name": "python",
   "nbconvert_exporter": "python",
   "pygments_lexer": "ipython2",
   "version": "2.7.6"
  }
 },
 "nbformat": 4,
 "nbformat_minor": 0
}
