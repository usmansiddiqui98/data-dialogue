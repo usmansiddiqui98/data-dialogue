{
 "cells": [
  {
   "cell_type": "code",
   "execution_count": 5,
   "metadata": {
    "collapsed": true
   },
   "outputs": [
    {
     "data": {
      "text/plain": "True"
     },
     "execution_count": 5,
     "metadata": {},
     "output_type": "execute_result"
    }
   ],
   "source": [
    "from src.data import make_dataset\n",
    "from transformers import pipeline\n",
    "from sklearn.metrics import classification_report\n",
    "import torch\n",
    "import pandas as pd\n",
    "torch.cuda.is_available()"
   ]
  },
  {
   "cell_type": "code",
   "execution_count": 6,
   "outputs": [
    {
     "data": {
      "text/plain": "   Unnamed: 0      time                                               text  \\\n0        4979  11/12/19  Disappointed.  The big boxes had a very differ...   \n1         659    6/3/21  This is a wonderfully refreshing citrus drink....   \n2        1097   22/3/18  I just brewed my first cup and the aroma and f...   \n3        5351   30/7/21  It taste okay, but they are  not soft and the ...   \n4        2209   20/4/21  These are good chips.  I like the texture and ...   \n\n                                        cleaned_text  lowercase_count  \\\n0  disappointed big box different flavor small bo...               23   \n1  wonderfully refresh citrus drink sweet sour en...               87   \n2  brew first cup aroma flavor speak autumn harve...               27   \n3          taste okay soft taste stay long would buy               24   \n4  good chip like texture easy chew regular torti...               26   \n\n   uppercase_count uppercase_words  uppercase_ratio  punc_count  num_digits  \\\n0                0             NaN         0.000000           3           0   \n1                0             NaN         0.000000           7           0   \n2                1            LOVE         0.032258           3           0   \n3                0             NaN         0.000000           3           0   \n4                0             NaN         0.000000           3           0   \n\n   num_verbs  num_nouns  num_tokens_cleaned  num_tokens_raw  \\\n0          0          3                   9              24   \n1          8         13                  40              88   \n2          2          7                  15              31   \n3          2          3                   8              25   \n4          0          6                  12              27   \n\n   num_words_misspelled  polarity  subjectivity  num_pos_words  num_neg_words  \\\n0                     0    0.2732      0.556481              0              0   \n1                     2    0.9747      0.653889              2              0   \n2                     0    0.7902      0.491111              1              0   \n3                     2    0.2263      0.416667              0              0   \n4                     0    0.8883      0.627564              0              0   \n\n  sentiment  \n0  negative  \n1  positive  \n2  positive  \n3  negative  \n4  positive  ",
      "text/html": "<div>\n<style scoped>\n    .dataframe tbody tr th:only-of-type {\n        vertical-align: middle;\n    }\n\n    .dataframe tbody tr th {\n        vertical-align: top;\n    }\n\n    .dataframe thead th {\n        text-align: right;\n    }\n</style>\n<table border=\"1\" class=\"dataframe\">\n  <thead>\n    <tr style=\"text-align: right;\">\n      <th></th>\n      <th>Unnamed: 0</th>\n      <th>time</th>\n      <th>text</th>\n      <th>cleaned_text</th>\n      <th>lowercase_count</th>\n      <th>uppercase_count</th>\n      <th>uppercase_words</th>\n      <th>uppercase_ratio</th>\n      <th>punc_count</th>\n      <th>num_digits</th>\n      <th>num_verbs</th>\n      <th>num_nouns</th>\n      <th>num_tokens_cleaned</th>\n      <th>num_tokens_raw</th>\n      <th>num_words_misspelled</th>\n      <th>polarity</th>\n      <th>subjectivity</th>\n      <th>num_pos_words</th>\n      <th>num_neg_words</th>\n      <th>sentiment</th>\n    </tr>\n  </thead>\n  <tbody>\n    <tr>\n      <th>0</th>\n      <td>4979</td>\n      <td>11/12/19</td>\n      <td>Disappointed.  The big boxes had a very differ...</td>\n      <td>disappointed big box different flavor small bo...</td>\n      <td>23</td>\n      <td>0</td>\n      <td>NaN</td>\n      <td>0.000000</td>\n      <td>3</td>\n      <td>0</td>\n      <td>0</td>\n      <td>3</td>\n      <td>9</td>\n      <td>24</td>\n      <td>0</td>\n      <td>0.2732</td>\n      <td>0.556481</td>\n      <td>0</td>\n      <td>0</td>\n      <td>negative</td>\n    </tr>\n    <tr>\n      <th>1</th>\n      <td>659</td>\n      <td>6/3/21</td>\n      <td>This is a wonderfully refreshing citrus drink....</td>\n      <td>wonderfully refresh citrus drink sweet sour en...</td>\n      <td>87</td>\n      <td>0</td>\n      <td>NaN</td>\n      <td>0.000000</td>\n      <td>7</td>\n      <td>0</td>\n      <td>8</td>\n      <td>13</td>\n      <td>40</td>\n      <td>88</td>\n      <td>2</td>\n      <td>0.9747</td>\n      <td>0.653889</td>\n      <td>2</td>\n      <td>0</td>\n      <td>positive</td>\n    </tr>\n    <tr>\n      <th>2</th>\n      <td>1097</td>\n      <td>22/3/18</td>\n      <td>I just brewed my first cup and the aroma and f...</td>\n      <td>brew first cup aroma flavor speak autumn harve...</td>\n      <td>27</td>\n      <td>1</td>\n      <td>LOVE</td>\n      <td>0.032258</td>\n      <td>3</td>\n      <td>0</td>\n      <td>2</td>\n      <td>7</td>\n      <td>15</td>\n      <td>31</td>\n      <td>0</td>\n      <td>0.7902</td>\n      <td>0.491111</td>\n      <td>1</td>\n      <td>0</td>\n      <td>positive</td>\n    </tr>\n    <tr>\n      <th>3</th>\n      <td>5351</td>\n      <td>30/7/21</td>\n      <td>It taste okay, but they are  not soft and the ...</td>\n      <td>taste okay soft taste stay long would buy</td>\n      <td>24</td>\n      <td>0</td>\n      <td>NaN</td>\n      <td>0.000000</td>\n      <td>3</td>\n      <td>0</td>\n      <td>2</td>\n      <td>3</td>\n      <td>8</td>\n      <td>25</td>\n      <td>2</td>\n      <td>0.2263</td>\n      <td>0.416667</td>\n      <td>0</td>\n      <td>0</td>\n      <td>negative</td>\n    </tr>\n    <tr>\n      <th>4</th>\n      <td>2209</td>\n      <td>20/4/21</td>\n      <td>These are good chips.  I like the texture and ...</td>\n      <td>good chip like texture easy chew regular torti...</td>\n      <td>26</td>\n      <td>0</td>\n      <td>NaN</td>\n      <td>0.000000</td>\n      <td>3</td>\n      <td>0</td>\n      <td>0</td>\n      <td>6</td>\n      <td>12</td>\n      <td>27</td>\n      <td>0</td>\n      <td>0.8883</td>\n      <td>0.627564</td>\n      <td>0</td>\n      <td>0</td>\n      <td>positive</td>\n    </tr>\n  </tbody>\n</table>\n</div>"
     },
     "execution_count": 6,
     "metadata": {},
     "output_type": "execute_result"
    }
   ],
   "source": [
    "# input_file = \"../../data/raw/reviews.csv\"\n",
    "# train_output_file = \"../../data/processed/train_final_processed_reviews.csv\"\n",
    "# test_output_file = \"../../data/processed/test_final_processed_reviews.csv\"\n",
    "# X_train, X_test, y_train, y_test = make_dataset.main(input_file, train_output_file, test_output_file)\n",
    "train = pd.read_csv(\"../../data/processed/train_final_processed_reviews.csv\")\n",
    "test = pd.read_csv(\"../../data/processed/test_final_processed_reviews.csv\")\n",
    "train.head()"
   ],
   "metadata": {
    "collapsed": false
   }
  },
  {
   "cell_type": "code",
   "execution_count": 10,
   "outputs": [],
   "source": [
    "X_train = train.drop('sentiment', axis=1)\n",
    "X_test = test.drop('sentiment', axis=1)\n",
    "y_train = train.sentiment\n",
    "y_test = test.sentiment"
   ],
   "metadata": {
    "collapsed": false
   }
  },
  {
   "cell_type": "code",
   "execution_count": 11,
   "outputs": [
    {
     "data": {
      "text/plain": "   Unnamed: 0     time                                               text  \\\n0         940   8/6/21  This tea is amazing, I cannot believe the pric...   \n1        3920   4/9/21  I've tried a handful of other brands of French...   \n2        5038  9/12/20  I would recommend not buying these nuts if you...   \n3        3432  21/4/21  I wish these came in larger quantities, if I c...   \n4        2376  13/1/20  Has a smooth taste like it claims without any ...   \n\n                                        cleaned_text  lowercase_count  \\\n0  tea amazing believe price price pay less half ...               38   \n1  try handful brand french roast find one tully ...               41   \n2  would recommend buying nut look really good ta...               70   \n3  wish come large quantity could cuppa everyday ...               20   \n4  smooth taste like claim without unpleasant met...               68   \n\n   uppercase_count uppercase_words  uppercase_ratio  punc_count  num_digits  \\\n0                1            FAST          0.02381           6           0   \n1                0             NaN          0.00000           4           2   \n2                0             NaN          0.00000           7           0   \n3                0             NaN          0.00000           3           0   \n4                0             NaN          0.00000           5           0   \n\n   num_verbs  num_nouns  num_tokens_cleaned  num_tokens_raw  \\\n0          0          9                  17              42   \n1          2          6                  17              43   \n2          5         13                  32              72   \n3          3          2                  10              23   \n4          2         13                  36              71   \n\n   num_words_misspelled  polarity  subjectivity  num_pos_words  num_neg_words  \n0                     0    0.9468      0.583333              4              0  \n1                     2    0.6249      0.587500              1              0  \n2                     0    0.8399      0.563719              0              0  \n3                     0    0.4019      0.514286              0              0  \n4                     3    0.9408      0.605000              0              0  ",
      "text/html": "<div>\n<style scoped>\n    .dataframe tbody tr th:only-of-type {\n        vertical-align: middle;\n    }\n\n    .dataframe tbody tr th {\n        vertical-align: top;\n    }\n\n    .dataframe thead th {\n        text-align: right;\n    }\n</style>\n<table border=\"1\" class=\"dataframe\">\n  <thead>\n    <tr style=\"text-align: right;\">\n      <th></th>\n      <th>Unnamed: 0</th>\n      <th>time</th>\n      <th>text</th>\n      <th>cleaned_text</th>\n      <th>lowercase_count</th>\n      <th>uppercase_count</th>\n      <th>uppercase_words</th>\n      <th>uppercase_ratio</th>\n      <th>punc_count</th>\n      <th>num_digits</th>\n      <th>num_verbs</th>\n      <th>num_nouns</th>\n      <th>num_tokens_cleaned</th>\n      <th>num_tokens_raw</th>\n      <th>num_words_misspelled</th>\n      <th>polarity</th>\n      <th>subjectivity</th>\n      <th>num_pos_words</th>\n      <th>num_neg_words</th>\n    </tr>\n  </thead>\n  <tbody>\n    <tr>\n      <th>0</th>\n      <td>940</td>\n      <td>8/6/21</td>\n      <td>This tea is amazing, I cannot believe the pric...</td>\n      <td>tea amazing believe price price pay less half ...</td>\n      <td>38</td>\n      <td>1</td>\n      <td>FAST</td>\n      <td>0.02381</td>\n      <td>6</td>\n      <td>0</td>\n      <td>0</td>\n      <td>9</td>\n      <td>17</td>\n      <td>42</td>\n      <td>0</td>\n      <td>0.9468</td>\n      <td>0.583333</td>\n      <td>4</td>\n      <td>0</td>\n    </tr>\n    <tr>\n      <th>1</th>\n      <td>3920</td>\n      <td>4/9/21</td>\n      <td>I've tried a handful of other brands of French...</td>\n      <td>try handful brand french roast find one tully ...</td>\n      <td>41</td>\n      <td>0</td>\n      <td>NaN</td>\n      <td>0.00000</td>\n      <td>4</td>\n      <td>2</td>\n      <td>2</td>\n      <td>6</td>\n      <td>17</td>\n      <td>43</td>\n      <td>2</td>\n      <td>0.6249</td>\n      <td>0.587500</td>\n      <td>1</td>\n      <td>0</td>\n    </tr>\n    <tr>\n      <th>2</th>\n      <td>5038</td>\n      <td>9/12/20</td>\n      <td>I would recommend not buying these nuts if you...</td>\n      <td>would recommend buying nut look really good ta...</td>\n      <td>70</td>\n      <td>0</td>\n      <td>NaN</td>\n      <td>0.00000</td>\n      <td>7</td>\n      <td>0</td>\n      <td>5</td>\n      <td>13</td>\n      <td>32</td>\n      <td>72</td>\n      <td>0</td>\n      <td>0.8399</td>\n      <td>0.563719</td>\n      <td>0</td>\n      <td>0</td>\n    </tr>\n    <tr>\n      <th>3</th>\n      <td>3432</td>\n      <td>21/4/21</td>\n      <td>I wish these came in larger quantities, if I c...</td>\n      <td>wish come large quantity could cuppa everyday ...</td>\n      <td>20</td>\n      <td>0</td>\n      <td>NaN</td>\n      <td>0.00000</td>\n      <td>3</td>\n      <td>0</td>\n      <td>3</td>\n      <td>2</td>\n      <td>10</td>\n      <td>23</td>\n      <td>0</td>\n      <td>0.4019</td>\n      <td>0.514286</td>\n      <td>0</td>\n      <td>0</td>\n    </tr>\n    <tr>\n      <th>4</th>\n      <td>2376</td>\n      <td>13/1/20</td>\n      <td>Has a smooth taste like it claims without any ...</td>\n      <td>smooth taste like claim without unpleasant met...</td>\n      <td>68</td>\n      <td>0</td>\n      <td>NaN</td>\n      <td>0.00000</td>\n      <td>5</td>\n      <td>0</td>\n      <td>2</td>\n      <td>13</td>\n      <td>36</td>\n      <td>71</td>\n      <td>3</td>\n      <td>0.9408</td>\n      <td>0.605000</td>\n      <td>0</td>\n      <td>0</td>\n    </tr>\n  </tbody>\n</table>\n</div>"
     },
     "execution_count": 11,
     "metadata": {},
     "output_type": "execute_result"
    }
   ],
   "source": [
    "X_test.head()"
   ],
   "metadata": {
    "collapsed": false
   }
  },
  {
   "cell_type": "code",
   "execution_count": 12,
   "outputs": [
    {
     "data": {
      "text/plain": "0    positive\n1    positive\n2    negative\n3    positive\n4    positive\nName: sentiment, dtype: object"
     },
     "execution_count": 12,
     "metadata": {},
     "output_type": "execute_result"
    }
   ],
   "source": [
    "y_test.head()"
   ],
   "metadata": {
    "collapsed": false
   }
  },
  {
   "cell_type": "code",
   "execution_count": 54,
   "outputs": [
    {
     "name": "stdout",
     "output_type": "stream",
     "text": [
      "CPU times: total: 6.41 s\n",
      "Wall time: 6.37 s\n"
     ]
    }
   ],
   "source": [
    "%%time\n",
    "sentiment_pipeline = pipeline(model = \"distilbert-base-uncased-finetuned-sst-2-english\")\n",
    "data = X_test.cleaned_text.to_list()\n",
    "results = sentiment_pipeline(data)"
   ],
   "metadata": {
    "collapsed": false
   }
  },
  {
   "cell_type": "code",
   "execution_count": 55,
   "outputs": [
    {
     "data": {
      "text/plain": "[{'label': 'POSITIVE', 'score': 0.9995902180671692},\n {'label': 'NEGATIVE', 'score': 0.9640170335769653},\n {'label': 'POSITIVE', 'score': 0.985977292060852},\n {'label': 'POSITIVE', 'score': 0.673072874546051},\n {'label': 'POSITIVE', 'score': 0.745204746723175}]"
     },
     "execution_count": 55,
     "metadata": {},
     "output_type": "execute_result"
    }
   ],
   "source": [
    "results[0:5]"
   ],
   "metadata": {
    "collapsed": false
   }
  },
  {
   "cell_type": "code",
   "execution_count": 30,
   "outputs": [],
   "source": [
    "labels = [result['label'] for result in results]"
   ],
   "metadata": {
    "collapsed": false
   }
  },
  {
   "cell_type": "code",
   "execution_count": 51,
   "outputs": [
    {
     "name": "stdout",
     "output_type": "stream",
     "text": [
      "[1, 0, 1, 1, 1]\n",
      "[1, 1, 0, 1, 1]\n",
      "              precision    recall  f1-score   support\n",
      "\n",
      "           0       0.47      0.87      0.61       283\n",
      "           1       0.93      0.65      0.77       806\n",
      "\n",
      "    accuracy                           0.71      1089\n",
      "   macro avg       0.70      0.76      0.69      1089\n",
      "weighted avg       0.81      0.71      0.73      1089\n",
      "\n"
     ]
    }
   ],
   "source": [
    "y_pred = [1 if label=='POSITIVE' else 0 for label in labels]\n",
    "y_true = [1 if label=='positive' else 0 for label in y_test]\n",
    "print(y_pred[0:5])\n",
    "print(y_true[0:5])\n",
    "print(classification_report(y_true, y_pred))"
   ],
   "metadata": {
    "collapsed": false
   }
  },
  {
   "cell_type": "code",
   "execution_count": 13,
   "outputs": [],
   "source": [
    "data = X_test.text.to_list()\n",
    "data = [x[:512] if len(x)>512 else x for x in data]"
   ],
   "metadata": {
    "collapsed": false
   }
  },
  {
   "cell_type": "code",
   "execution_count": 23,
   "outputs": [
    {
     "name": "stdout",
     "output_type": "stream",
     "text": [
      "CPU times: total: 10.1 s\n",
      "Wall time: 10.8 s\n"
     ]
    }
   ],
   "source": [
    "%%time\n",
    "specific_model = pipeline(model=\"nlptown/bert-base-multilingual-uncased-sentiment\", device=0)\n",
    "# specific_model = pipeline(model=\"Seethal/sentiment_analysis_generic_dataset\", device=0)\n",
    "# specific_model = pipeline(model=\"siebert/sentiment-roberta-large-english\", device=0)\n",
    "results = specific_model(data)"
   ],
   "metadata": {
    "collapsed": false
   }
  },
  {
   "cell_type": "code",
   "execution_count": 24,
   "outputs": [
    {
     "data": {
      "text/plain": "[{'label': '5 stars', 'score': 0.9336758852005005},\n {'label': '5 stars', 'score': 0.4628945291042328},\n {'label': '2 stars', 'score': 0.555162250995636},\n {'label': '4 stars', 'score': 0.5062201619148254},\n {'label': '4 stars', 'score': 0.6108953952789307}]"
     },
     "execution_count": 24,
     "metadata": {},
     "output_type": "execute_result"
    }
   ],
   "source": [
    "results[0:5]"
   ],
   "metadata": {
    "collapsed": false
   }
  },
  {
   "cell_type": "code",
   "execution_count": 32,
   "outputs": [
    {
     "name": "stdout",
     "output_type": "stream",
     "text": [
      "[1, 1, 0, 1, 1, 1, 1, 1, 1, 1]\n",
      "[1, 1, 0, 1, 1, 1, 1, 1, 0, 1]\n",
      "              precision    recall  f1-score   support\n",
      "\n",
      "           0       0.84      0.84      0.84       283\n",
      "           1       0.94      0.94      0.94       806\n",
      "\n",
      "    accuracy                           0.92      1089\n",
      "   macro avg       0.89      0.89      0.89      1089\n",
      "weighted avg       0.92      0.92      0.92      1089\n",
      "\n"
     ]
    }
   ],
   "source": [
    "labels = [result['label'] for result in results]\n",
    "y_pred = [1 if label in ['5 stars', '4 stars', '3 stars'] else 0 for label in labels]\n",
    "# y_pred = [1 if label=='POSITIVE' else 0 for label in labels]\n",
    "# y_pred = [1 if label=='LABEL_2' else 0 for label in labels]\n",
    "# y_pred = [0 if label=='LABEL_0' else 1 for label in labels]\n",
    "y_true = [1 if label=='positive' else 0 for label in y_test]\n",
    "print(y_pred[0:10])\n",
    "print(y_true[0:10])\n",
    "print(classification_report(y_true, y_pred))"
   ],
   "metadata": {
    "collapsed": false
   }
  },
  {
   "cell_type": "code",
   "execution_count": null,
   "outputs": [],
   "source": [],
   "metadata": {
    "collapsed": false
   }
  }
 ],
 "metadata": {
  "kernelspec": {
   "display_name": "Python 3",
   "language": "python",
   "name": "python3"
  },
  "language_info": {
   "codemirror_mode": {
    "name": "ipython",
    "version": 2
   },
   "file_extension": ".py",
   "mimetype": "text/x-python",
   "name": "python",
   "nbconvert_exporter": "python",
   "pygments_lexer": "ipython2",
   "version": "2.7.6"
  }
 },
 "nbformat": 4,
 "nbformat_minor": 0
}
