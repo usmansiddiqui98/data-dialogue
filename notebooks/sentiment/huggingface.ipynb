{
 "cells": [
  {
   "cell_type": "code",
   "execution_count": null,
   "metadata": {
    "collapsed": true
   },
   "outputs": [],
   "source": [
    "from src.data import make_dataset\n",
    "from transformers import pipeline\n",
    "from sklearn.metrics import classification_report\n",
    "import torch\n",
    "import pandas as pd\n",
    "import gc"
   ]
  },
  {
   "cell_type": "code",
   "execution_count": null,
   "outputs": [],
   "source": [
    "if torch.cuda.is_available():\n",
    "    device = 0\n",
    "else:\n",
    "    device = -1"
   ],
   "metadata": {
    "collapsed": false
   }
  },
  {
   "cell_type": "code",
   "execution_count": null,
   "outputs": [],
   "source": [
    "# input_file = \"../../data/raw/reviews.csv\"\n",
    "# train_output_file = \"../../data/processed/train_final_processed_reviews.csv\"\n",
    "# test_output_file = \"../../data/processed/test_final_processed_reviews.csv\"\n",
    "# X_train, X_test, y_train, y_test = make_dataset.main(input_file, train_output_file, test_output_file)\n"
   ],
   "metadata": {
    "collapsed": false
   }
  },
  {
   "cell_type": "code",
   "execution_count": null,
   "outputs": [],
   "source": [
    "train = pd.read_csv(\"../../data/processed/train_final_processed_reviews.csv\", index_col='Unnamed: 0')\n",
    "test = pd.read_csv(\"../../data/processed/test_final_processed_reviews.csv\", index_col='Unnamed: 0')\n",
    "X_train = train.drop('sentiment', axis=1)\n",
    "X_test = test.drop('sentiment', axis=1)\n",
    "y_train = train.sentiment\n",
    "y_test = test.sentiment"
   ],
   "metadata": {
    "collapsed": false
   }
  },
  {
   "cell_type": "code",
   "execution_count": null,
   "outputs": [],
   "source": [
    "X_test.head()"
   ],
   "metadata": {
    "collapsed": false
   }
  },
  {
   "cell_type": "code",
   "execution_count": null,
   "outputs": [],
   "source": [
    "y_test.head()"
   ],
   "metadata": {
    "collapsed": false
   }
  },
  {
   "cell_type": "code",
   "execution_count": null,
   "outputs": [],
   "source": [
    "data = X_test.text.to_list()\n",
    "data = [x[:512] if len(x)>512 else x for x in data]"
   ],
   "metadata": {
    "collapsed": false
   }
  },
  {
   "cell_type": "code",
   "execution_count": null,
   "outputs": [],
   "source": [
    "%%time\n",
    "sentiment_pipeline = pipeline(model = \"distilbert-base-uncased-finetuned-sst-2-english\", device=device)\n",
    "results0 = sentiment_pipeline(data)\n",
    "results0[0:5]"
   ],
   "metadata": {
    "collapsed": false
   }
  },
  {
   "cell_type": "code",
   "execution_count": null,
   "outputs": [],
   "source": [
    "%%time\n",
    "specific_model = pipeline(model=\"nlptown/bert-base-multilingual-uncased-sentiment\", device=device)\n",
    "results1 = specific_model(data)\n",
    "results1[0:5]"
   ],
   "metadata": {
    "collapsed": false
   }
  },
  {
   "cell_type": "code",
   "execution_count": null,
   "outputs": [],
   "source": [
    "%%time\n",
    "specific_model = pipeline(model=\"Seethal/sentiment_analysis_generic_dataset\", device=device)\n",
    "results2 = specific_model(data)\n",
    "results2[0:5]"
   ],
   "metadata": {
    "collapsed": false
   }
  },
  {
   "cell_type": "code",
   "execution_count": null,
   "outputs": [],
   "source": [
    "%%time\n",
    "specific_model = pipeline('sentiment-analysis', model=\"siebert/sentiment-roberta-large-english\", device=device)\n",
    "results3 = specific_model(data)\n",
    "results3[0:5]"
   ],
   "metadata": {
    "collapsed": false
   }
  },
  {
   "cell_type": "markdown",
   "source": [
    "# Test Results"
   ],
   "metadata": {
    "collapsed": false
   }
  },
  {
   "cell_type": "code",
   "execution_count": null,
   "outputs": [],
   "source": [
    "y_true = [1 if label=='positive' else 0 for label in y_test]"
   ],
   "metadata": {
    "collapsed": false
   }
  },
  {
   "cell_type": "markdown",
   "source": [
    "## Results for distilbert-base-uncased-finetuned-sst-2-english"
   ],
   "metadata": {
    "collapsed": false
   }
  },
  {
   "cell_type": "code",
   "execution_count": null,
   "outputs": [],
   "source": [
    "labels = [result['label'] for result in results0]\n",
    "y_pred = [1 if label=='POSITIVE' else 0 for label in labels]\n",
    "print(classification_report(y_true, y_pred))"
   ],
   "metadata": {
    "collapsed": false
   }
  },
  {
   "cell_type": "markdown",
   "source": [
    "## Results for nlptown/bert-base-multilingual-uncased-sentiment\""
   ],
   "metadata": {
    "collapsed": false
   }
  },
  {
   "cell_type": "code",
   "execution_count": null,
   "outputs": [],
   "source": [
    "labels = [result['label'] for result in results1]\n",
    "y_pred = [1 if label in ['5 stars', '4 stars', '3 stars'] else 0 for label in labels]\n",
    "print(classification_report(y_true, y_pred))"
   ],
   "metadata": {
    "collapsed": false
   }
  },
  {
   "cell_type": "markdown",
   "source": [
    "## Results for Seethal/sentiment_analysis_generic_dataset"
   ],
   "metadata": {
    "collapsed": false
   }
  },
  {
   "cell_type": "code",
   "execution_count": null,
   "outputs": [],
   "source": [
    "labels = [result['label'] for result in results2]\n",
    "y_pred = [1 if label=='LABEL_2' else 0 for label in labels]\n",
    "# y_pred = [0 if label=='LABEL_0' else 1 for label in labels]\n",
    "print(classification_report(y_true, y_pred))"
   ],
   "metadata": {
    "collapsed": false
   }
  },
  {
   "cell_type": "markdown",
   "source": [
    "## Results for siebert/sentiment-roberta-large-english"
   ],
   "metadata": {
    "collapsed": false
   }
  },
  {
   "cell_type": "code",
   "execution_count": null,
   "outputs": [],
   "source": [
    "labels = [result['label'] for result in results3]\n",
    "y_pred = [1 if label=='POSITIVE' else 0 for label in labels]\n",
    "print(classification_report(y_true, y_pred))"
   ],
   "metadata": {
    "collapsed": false
   }
  },
  {
   "cell_type": "code",
   "execution_count": null,
   "outputs": [],
   "source": [
    "results3"
   ],
   "metadata": {
    "collapsed": false
   }
  },
  {
   "cell_type": "code",
   "execution_count": null,
   "outputs": [],
   "source": [
    "sentiment_pipeline=None\n",
    "specific_model=None\n",
    "gc.collect()\n",
    "torch.cuda.empty_cache()"
   ],
   "metadata": {
    "collapsed": false
   }
  },
  {
   "cell_type": "code",
   "execution_count": null,
   "outputs": [],
   "source": [
    "from src.models.sentiment_analysis.pre_trained.seibert import Seibert\n",
    "\n",
    "model = Seibert()\n",
    "pred = model.predict(X_test).predicted_sentiment\n",
    "print(classification_report(y_true, pred))"
   ],
   "metadata": {
    "collapsed": false
   }
  },
  {
   "cell_type": "code",
   "execution_count": null,
   "outputs": [],
   "source": [
    "# from src.models.sentiment_analysis.pre_trained.bert_fine_tuned import BertFineTuned\n",
    "# model = BertFineTuned('bert_state_dict.pt')\n",
    "# pred = model.predict(X_test)\n",
    "# print(classification_report(y_true, pred))"
   ],
   "metadata": {
    "collapsed": false
   }
  },
  {
   "cell_type": "code",
   "execution_count": null,
   "outputs": [],
   "source": [],
   "metadata": {
    "collapsed": false
   }
  }
 ],
 "metadata": {
  "kernelspec": {
   "display_name": "Python 3",
   "language": "python",
   "name": "python3"
  },
  "language_info": {
   "codemirror_mode": {
    "name": "ipython",
    "version": 2
   },
   "file_extension": ".py",
   "mimetype": "text/x-python",
   "name": "python",
   "nbconvert_exporter": "python",
   "pygments_lexer": "ipython2",
   "version": "2.7.6"
  }
 },
 "nbformat": 4,
 "nbformat_minor": 0
}
