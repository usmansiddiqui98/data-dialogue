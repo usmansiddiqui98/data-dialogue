{
 "cells": [
  {
   "cell_type": "code",
   "execution_count": 15,
   "metadata": {
    "collapsed": true
   },
   "outputs": [],
   "source": [
    "from src.data import make_dataset\n",
    "from transformers import pipeline\n",
    "from sklearn.metrics import classification_report\n",
    "import torch\n",
    "import pandas as pd\n",
    "import gc"
   ]
  },
  {
   "cell_type": "code",
   "execution_count": 16,
   "outputs": [],
   "source": [
    "if torch.cuda.is_available():\n",
    "    device = 0\n",
    "else:\n",
    "    device = -1"
   ],
   "metadata": {
    "collapsed": false
   }
  },
  {
   "cell_type": "code",
   "execution_count": 17,
   "outputs": [],
   "source": [
    "# input_file = \"../../data/raw/reviews.csv\"\n",
    "# train_output_file = \"../../data/processed/train_final_processed_reviews.csv\"\n",
    "# test_output_file = \"../../data/processed/test_final_processed_reviews.csv\"\n",
    "# X_train, X_test, y_train, y_test = make_dataset.main(input_file, train_output_file, test_output_file)\n"
   ],
   "metadata": {
    "collapsed": false
   }
  },
  {
   "cell_type": "code",
   "execution_count": 18,
   "outputs": [],
   "source": [
    "train = pd.read_csv(\"../../data/processed/train_final_processed_reviews.csv\", index_col='Unnamed: 0')\n",
    "test = pd.read_csv(\"../../data/processed/test_final_processed_reviews.csv\", index_col='Unnamed: 0')\n",
    "X_train = train.drop('sentiment', axis=1)\n",
    "X_test = test.drop('sentiment', axis=1)\n",
    "y_train = train.sentiment\n",
    "y_test = test.sentiment"
   ],
   "metadata": {
    "collapsed": false
   }
  },
  {
   "cell_type": "code",
   "execution_count": 19,
   "outputs": [
    {
     "data": {
      "text/plain": "         time                                               text  \\\n940    8/6/21  This tea is amazing, I cannot believe the pric...   \n3920   4/9/21  I've tried a handful of other brands of French...   \n5038  9/12/20  I would recommend not buying these nuts if you...   \n3432  21/4/21  I wish these came in larger quantities, if I c...   \n2376  13/1/20  Has a smooth taste like it claims without any ...   \n\n                                           cleaned_text  lowercase_count  \\\n940   tea amazing believe price price pay less half ...               38   \n3920  try handful brand french roast find one tully ...               41   \n5038  would recommend buying nut look really good ta...               70   \n3432  wish come large quantity could cuppa everyday ...               20   \n2376  smooth taste like claim without unpleasant met...               68   \n\n      uppercase_count uppercase_words  uppercase_ratio  punc_count  \\\n940                 1            FAST          0.02381           6   \n3920                0             NaN          0.00000           4   \n5038                0             NaN          0.00000           7   \n3432                0             NaN          0.00000           3   \n2376                0             NaN          0.00000           5   \n\n      num_digits  num_verbs  num_nouns  num_tokens_cleaned  num_tokens_raw  \\\n940            0          0          9                  17              42   \n3920           2          2          6                  17              43   \n5038           0          5         13                  32              72   \n3432           0          3          2                  10              23   \n2376           0          2         13                  36              71   \n\n      num_words_misspelled  polarity  subjectivity  num_pos_words  \\\n940                      0    0.9468      0.583333              4   \n3920                     2    0.6249      0.587500              1   \n5038                     0    0.8399      0.563719              0   \n3432                     0    0.4019      0.514286              0   \n2376                     3    0.9408      0.605000              0   \n\n      num_neg_words  \n940               0  \n3920              0  \n5038              0  \n3432              0  \n2376              0  ",
      "text/html": "<div>\n<style scoped>\n    .dataframe tbody tr th:only-of-type {\n        vertical-align: middle;\n    }\n\n    .dataframe tbody tr th {\n        vertical-align: top;\n    }\n\n    .dataframe thead th {\n        text-align: right;\n    }\n</style>\n<table border=\"1\" class=\"dataframe\">\n  <thead>\n    <tr style=\"text-align: right;\">\n      <th></th>\n      <th>time</th>\n      <th>text</th>\n      <th>cleaned_text</th>\n      <th>lowercase_count</th>\n      <th>uppercase_count</th>\n      <th>uppercase_words</th>\n      <th>uppercase_ratio</th>\n      <th>punc_count</th>\n      <th>num_digits</th>\n      <th>num_verbs</th>\n      <th>num_nouns</th>\n      <th>num_tokens_cleaned</th>\n      <th>num_tokens_raw</th>\n      <th>num_words_misspelled</th>\n      <th>polarity</th>\n      <th>subjectivity</th>\n      <th>num_pos_words</th>\n      <th>num_neg_words</th>\n    </tr>\n  </thead>\n  <tbody>\n    <tr>\n      <th>940</th>\n      <td>8/6/21</td>\n      <td>This tea is amazing, I cannot believe the pric...</td>\n      <td>tea amazing believe price price pay less half ...</td>\n      <td>38</td>\n      <td>1</td>\n      <td>FAST</td>\n      <td>0.02381</td>\n      <td>6</td>\n      <td>0</td>\n      <td>0</td>\n      <td>9</td>\n      <td>17</td>\n      <td>42</td>\n      <td>0</td>\n      <td>0.9468</td>\n      <td>0.583333</td>\n      <td>4</td>\n      <td>0</td>\n    </tr>\n    <tr>\n      <th>3920</th>\n      <td>4/9/21</td>\n      <td>I've tried a handful of other brands of French...</td>\n      <td>try handful brand french roast find one tully ...</td>\n      <td>41</td>\n      <td>0</td>\n      <td>NaN</td>\n      <td>0.00000</td>\n      <td>4</td>\n      <td>2</td>\n      <td>2</td>\n      <td>6</td>\n      <td>17</td>\n      <td>43</td>\n      <td>2</td>\n      <td>0.6249</td>\n      <td>0.587500</td>\n      <td>1</td>\n      <td>0</td>\n    </tr>\n    <tr>\n      <th>5038</th>\n      <td>9/12/20</td>\n      <td>I would recommend not buying these nuts if you...</td>\n      <td>would recommend buying nut look really good ta...</td>\n      <td>70</td>\n      <td>0</td>\n      <td>NaN</td>\n      <td>0.00000</td>\n      <td>7</td>\n      <td>0</td>\n      <td>5</td>\n      <td>13</td>\n      <td>32</td>\n      <td>72</td>\n      <td>0</td>\n      <td>0.8399</td>\n      <td>0.563719</td>\n      <td>0</td>\n      <td>0</td>\n    </tr>\n    <tr>\n      <th>3432</th>\n      <td>21/4/21</td>\n      <td>I wish these came in larger quantities, if I c...</td>\n      <td>wish come large quantity could cuppa everyday ...</td>\n      <td>20</td>\n      <td>0</td>\n      <td>NaN</td>\n      <td>0.00000</td>\n      <td>3</td>\n      <td>0</td>\n      <td>3</td>\n      <td>2</td>\n      <td>10</td>\n      <td>23</td>\n      <td>0</td>\n      <td>0.4019</td>\n      <td>0.514286</td>\n      <td>0</td>\n      <td>0</td>\n    </tr>\n    <tr>\n      <th>2376</th>\n      <td>13/1/20</td>\n      <td>Has a smooth taste like it claims without any ...</td>\n      <td>smooth taste like claim without unpleasant met...</td>\n      <td>68</td>\n      <td>0</td>\n      <td>NaN</td>\n      <td>0.00000</td>\n      <td>5</td>\n      <td>0</td>\n      <td>2</td>\n      <td>13</td>\n      <td>36</td>\n      <td>71</td>\n      <td>3</td>\n      <td>0.9408</td>\n      <td>0.605000</td>\n      <td>0</td>\n      <td>0</td>\n    </tr>\n  </tbody>\n</table>\n</div>"
     },
     "execution_count": 19,
     "metadata": {},
     "output_type": "execute_result"
    }
   ],
   "source": [
    "X_test.head()"
   ],
   "metadata": {
    "collapsed": false
   }
  },
  {
   "cell_type": "code",
   "execution_count": 20,
   "outputs": [
    {
     "data": {
      "text/plain": "940     positive\n3920    positive\n5038    negative\n3432    positive\n2376    positive\nName: sentiment, dtype: object"
     },
     "execution_count": 20,
     "metadata": {},
     "output_type": "execute_result"
    }
   ],
   "source": [
    "y_test.head()"
   ],
   "metadata": {
    "collapsed": false
   }
  },
  {
   "cell_type": "code",
   "execution_count": 21,
   "outputs": [],
   "source": [
    "data = X_test.text.to_list()\n",
    "data = [x[:512] if len(x)>512 else x for x in data]"
   ],
   "metadata": {
    "collapsed": false
   }
  },
  {
   "cell_type": "code",
   "execution_count": 22,
   "outputs": [
    {
     "name": "stdout",
     "output_type": "stream",
     "text": [
      "CPU times: total: 5.89 s\n",
      "Wall time: 6.7 s\n"
     ]
    },
    {
     "data": {
      "text/plain": "[{'label': 'POSITIVE', 'score': 0.9998703002929688},\n {'label': 'POSITIVE', 'score': 0.9991003274917603},\n {'label': 'NEGATIVE', 'score': 0.9987446069717407},\n {'label': 'POSITIVE', 'score': 0.9997642636299133},\n {'label': 'POSITIVE', 'score': 0.9972267746925354}]"
     },
     "execution_count": 22,
     "metadata": {},
     "output_type": "execute_result"
    }
   ],
   "source": [
    "%%time\n",
    "sentiment_pipeline = pipeline(model = \"distilbert-base-uncased-finetuned-sst-2-english\", device=device)\n",
    "results0 = sentiment_pipeline(data)\n",
    "results0[0:5]"
   ],
   "metadata": {
    "collapsed": false
   }
  },
  {
   "cell_type": "code",
   "execution_count": 23,
   "outputs": [
    {
     "name": "stdout",
     "output_type": "stream",
     "text": [
      "CPU times: total: 10.1 s\n",
      "Wall time: 10.9 s\n"
     ]
    },
    {
     "data": {
      "text/plain": "[{'label': '5 stars', 'score': 0.9336758852005005},\n {'label': '5 stars', 'score': 0.4628945291042328},\n {'label': '2 stars', 'score': 0.555162250995636},\n {'label': '4 stars', 'score': 0.5062201619148254},\n {'label': '4 stars', 'score': 0.6108953952789307}]"
     },
     "execution_count": 23,
     "metadata": {},
     "output_type": "execute_result"
    }
   ],
   "source": [
    "%%time\n",
    "specific_model = pipeline(model=\"nlptown/bert-base-multilingual-uncased-sentiment\", device=device)\n",
    "results1 = specific_model(data)\n",
    "results1[0:5]"
   ],
   "metadata": {
    "collapsed": false
   }
  },
  {
   "cell_type": "code",
   "execution_count": 24,
   "outputs": [
    {
     "name": "stdout",
     "output_type": "stream",
     "text": [
      "CPU times: total: 6.02 s\n",
      "Wall time: 6.82 s\n"
     ]
    },
    {
     "data": {
      "text/plain": "[{'label': 'LABEL_2', 'score': 0.9964131712913513},\n {'label': 'LABEL_2', 'score': 0.9589166045188904},\n {'label': 'LABEL_0', 'score': 0.7314499020576477},\n {'label': 'LABEL_2', 'score': 0.9967833757400513},\n {'label': 'LABEL_2', 'score': 0.9085060358047485}]"
     },
     "execution_count": 24,
     "metadata": {},
     "output_type": "execute_result"
    }
   ],
   "source": [
    "%%time\n",
    "specific_model = pipeline(model=\"Seethal/sentiment_analysis_generic_dataset\", device=device)\n",
    "results2 = specific_model(data)\n",
    "results2[0:5]"
   ],
   "metadata": {
    "collapsed": false
   }
  },
  {
   "cell_type": "code",
   "execution_count": 25,
   "outputs": [
    {
     "name": "stdout",
     "output_type": "stream",
     "text": [
      "CPU times: total: 18.9 s\n",
      "Wall time: 18.2 s\n"
     ]
    },
    {
     "data": {
      "text/plain": "[{'label': 'POSITIVE', 'score': 0.9989363551139832},\n {'label': 'POSITIVE', 'score': 0.9988914132118225},\n {'label': 'NEGATIVE', 'score': 0.9995133876800537},\n {'label': 'POSITIVE', 'score': 0.9988318085670471},\n {'label': 'POSITIVE', 'score': 0.9908561706542969}]"
     },
     "execution_count": 25,
     "metadata": {},
     "output_type": "execute_result"
    }
   ],
   "source": [
    "%%time\n",
    "specific_model = pipeline('sentiment-analysis', model=\"siebert/sentiment-roberta-large-english\", device=device)\n",
    "results3 = specific_model(data)\n",
    "results3[0:5]"
   ],
   "metadata": {
    "collapsed": false
   }
  },
  {
   "cell_type": "markdown",
   "source": [
    "# Test Results"
   ],
   "metadata": {
    "collapsed": false
   }
  },
  {
   "cell_type": "code",
   "execution_count": 26,
   "outputs": [],
   "source": [
    "y_true = [1 if label=='positive' else 0 for label in y_test]"
   ],
   "metadata": {
    "collapsed": false
   }
  },
  {
   "cell_type": "markdown",
   "source": [
    "## Results for distilbert-base-uncased-finetuned-sst-2-english"
   ],
   "metadata": {
    "collapsed": false
   }
  },
  {
   "cell_type": "code",
   "execution_count": 27,
   "outputs": [
    {
     "name": "stdout",
     "output_type": "stream",
     "text": [
      "              precision    recall  f1-score   support\n",
      "\n",
      "           0       0.66      0.90      0.76       283\n",
      "           1       0.96      0.84      0.90       806\n",
      "\n",
      "    accuracy                           0.86      1089\n",
      "   macro avg       0.81      0.87      0.83      1089\n",
      "weighted avg       0.88      0.86      0.86      1089\n",
      "\n"
     ]
    }
   ],
   "source": [
    "labels = [result['label'] for result in results0]\n",
    "y_pred = [1 if label=='POSITIVE' else 0 for label in labels]\n",
    "print(classification_report(y_true, y_pred))"
   ],
   "metadata": {
    "collapsed": false
   }
  },
  {
   "cell_type": "markdown",
   "source": [
    "## Results for nlptown/bert-base-multilingual-uncased-sentiment\""
   ],
   "metadata": {
    "collapsed": false
   }
  },
  {
   "cell_type": "code",
   "execution_count": 28,
   "outputs": [
    {
     "name": "stdout",
     "output_type": "stream",
     "text": [
      "              precision    recall  f1-score   support\n",
      "\n",
      "           0       0.84      0.84      0.84       283\n",
      "           1       0.94      0.94      0.94       806\n",
      "\n",
      "    accuracy                           0.92      1089\n",
      "   macro avg       0.89      0.89      0.89      1089\n",
      "weighted avg       0.92      0.92      0.92      1089\n",
      "\n"
     ]
    }
   ],
   "source": [
    "labels = [result['label'] for result in results1]\n",
    "y_pred = [1 if label in ['5 stars', '4 stars', '3 stars'] else 0 for label in labels]\n",
    "print(classification_report(y_true, y_pred))"
   ],
   "metadata": {
    "collapsed": false
   }
  },
  {
   "cell_type": "markdown",
   "source": [
    "## Results for Seethal/sentiment_analysis_generic_dataset"
   ],
   "metadata": {
    "collapsed": false
   }
  },
  {
   "cell_type": "code",
   "execution_count": 29,
   "outputs": [
    {
     "name": "stdout",
     "output_type": "stream",
     "text": [
      "              precision    recall  f1-score   support\n",
      "\n",
      "           0       0.72      0.93      0.81       283\n",
      "           1       0.97      0.87      0.92       806\n",
      "\n",
      "    accuracy                           0.89      1089\n",
      "   macro avg       0.84      0.90      0.86      1089\n",
      "weighted avg       0.91      0.89      0.89      1089\n",
      "\n"
     ]
    }
   ],
   "source": [
    "labels = [result['label'] for result in results2]\n",
    "y_pred = [1 if label=='LABEL_2' else 0 for label in labels]\n",
    "# y_pred = [0 if label=='LABEL_0' else 1 for label in labels]\n",
    "print(classification_report(y_true, y_pred))"
   ],
   "metadata": {
    "collapsed": false
   }
  },
  {
   "cell_type": "markdown",
   "source": [
    "## Results for siebert/sentiment-roberta-large-english"
   ],
   "metadata": {
    "collapsed": false
   }
  },
  {
   "cell_type": "code",
   "execution_count": 30,
   "outputs": [
    {
     "name": "stdout",
     "output_type": "stream",
     "text": [
      "              precision    recall  f1-score   support\n",
      "\n",
      "           0       0.89      0.92      0.91       283\n",
      "           1       0.97      0.96      0.97       806\n",
      "\n",
      "    accuracy                           0.95      1089\n",
      "   macro avg       0.93      0.94      0.94      1089\n",
      "weighted avg       0.95      0.95      0.95      1089\n",
      "\n"
     ]
    }
   ],
   "source": [
    "labels = [result['label'] for result in results3]\n",
    "y_pred = [1 if label=='POSITIVE' else 0 for label in labels]\n",
    "print(classification_report(y_true, y_pred))"
   ],
   "metadata": {
    "collapsed": false
   }
  },
  {
   "cell_type": "code",
   "execution_count": 31,
   "outputs": [],
   "source": [
    "sentiment_pipeline=None\n",
    "specific_model=None\n",
    "gc.collect()\n",
    "torch.cuda.empty_cache()"
   ],
   "metadata": {
    "collapsed": false
   }
  },
  {
   "cell_type": "code",
   "execution_count": 32,
   "outputs": [
    {
     "name": "stdout",
     "output_type": "stream",
     "text": [
      "              precision    recall  f1-score   support\n",
      "\n",
      "           0       0.89      0.92      0.91       283\n",
      "           1       0.97      0.96      0.97       806\n",
      "\n",
      "    accuracy                           0.95      1089\n",
      "   macro avg       0.93      0.94      0.94      1089\n",
      "weighted avg       0.95      0.95      0.95      1089\n",
      "\n"
     ]
    }
   ],
   "source": [
    "from src.models.sentiment_analysis.pre_trained.seibert import Seibert\n",
    "\n",
    "model = Seibert()\n",
    "pred = model.predict(X_test)\n",
    "print(classification_report(y_true, pred))"
   ],
   "metadata": {
    "collapsed": false
   }
  },
  {
   "cell_type": "code",
   "execution_count": 32,
   "outputs": [],
   "source": [],
   "metadata": {
    "collapsed": false
   }
  },
  {
   "cell_type": "code",
   "execution_count": 33,
   "outputs": [],
   "source": [
    "# from src.models.sentiment_analysis.pre_trained.bert_fine_tuned import BertFineTuned\n",
    "# model = BertFineTuned('bert_state_dict.pt')\n",
    "# pred = model.predict(X_test)\n",
    "# print(classification_report(y_true, pred))"
   ],
   "metadata": {
    "collapsed": false
   }
  },
  {
   "cell_type": "code",
   "execution_count": 33,
   "outputs": [],
   "source": [],
   "metadata": {
    "collapsed": false
   }
  }
 ],
 "metadata": {
  "kernelspec": {
   "display_name": "Python 3",
   "language": "python",
   "name": "python3"
  },
  "language_info": {
   "codemirror_mode": {
    "name": "ipython",
    "version": 2
   },
   "file_extension": ".py",
   "mimetype": "text/x-python",
   "name": "python",
   "nbconvert_exporter": "python",
   "pygments_lexer": "ipython2",
   "version": "2.7.6"
  }
 },
 "nbformat": 4,
 "nbformat_minor": 0
}
