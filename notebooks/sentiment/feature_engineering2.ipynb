{
 "cells": [
  {
   "cell_type": "code",
   "execution_count": null,
   "id": "58bf5ac0",
   "metadata": {
    "scrolled": false
   },
   "outputs": [],
   "source": [
    "# !conda install bertopic\n",
    "# pip install pyspellchecker\n",
    "# pip install vaderSentiment\n",
    "# !pip install contractions"
   ]
  },
  {
   "cell_type": "code",
   "execution_count": null,
   "id": "a136961f",
   "metadata": {
    "scrolled": true
   },
   "outputs": [],
   "source": [
    "import pandas as pd\n",
    "import numpy as np\n",
    "import os\n",
    "from spellchecker import SpellChecker\n",
    "import nltk\n",
    "import string\n",
    "nltk.download('averaged_perceptron_tagger')\n",
    "import contractions\n",
    "from vaderSentiment.vaderSentiment import SentimentIntensityAnalyzer\n",
    "from textblob import TextBlob"
   ]
  },
  {
   "cell_type": "code",
   "execution_count": null,
   "id": "7e91f259",
   "metadata": {},
   "outputs": [],
   "source": [
    "clean_reviews = pd.read_csv('../../data/processed/added_features.csv')\n",
    "clean_reviews.head()"
   ]
  },
  {
   "cell_type": "code",
   "execution_count": null,
   "id": "47bcd88a",
   "metadata": {},
   "outputs": [],
   "source": [
    "clean_reviews_orginal = clean_reviews.copy()"
   ]
  },
  {
   "cell_type": "markdown",
   "id": "0702f73d",
   "metadata": {},
   "source": [
    "# POS Tags\n",
    "Assigned:\n",
    "1. No. of nouns\n",
    "2. No. of verbs\n",
    "3. Cardinal digits"
   ]
  },
  {
   "cell_type": "code",
   "execution_count": null,
   "id": "5a89d741",
   "metadata": {},
   "outputs": [],
   "source": [
    "clean_reviews['tokenized'] = clean_reviews['cleaned_text'].str.lower().apply(nltk.word_tokenize)\n",
    "clean_reviews['tokenized_raw'] = clean_reviews['text'].str.lower().apply(nltk.word_tokenize)"
   ]
  },
  {
   "cell_type": "code",
   "execution_count": null,
   "id": "6589b85d",
   "metadata": {},
   "outputs": [],
   "source": [
    "clean_reviews"
   ]
  },
  {
   "cell_type": "code",
   "execution_count": null,
   "id": "938fa479",
   "metadata": {},
   "outputs": [],
   "source": [
    "clean_reviews['tagged'] = clean_reviews['tokenized'].apply(nltk.pos_tag)"
   ]
  },
  {
   "cell_type": "code",
   "execution_count": null,
   "id": "9988748e",
   "metadata": {},
   "outputs": [],
   "source": [
    "clean_reviews[['tagged']].head()"
   ]
  },
  {
   "cell_type": "code",
   "execution_count": null,
   "id": "d3f9c035",
   "metadata": {},
   "outputs": [],
   "source": [
    "clean_reviews['nouns'] = clean_reviews['tagged'].apply(lambda x: [word for word, tag in x if tag in ['NN', 'NNS', 'NNP', 'NNPS']])"
   ]
  },
  {
   "cell_type": "code",
   "execution_count": null,
   "id": "24c43b76",
   "metadata": {},
   "outputs": [],
   "source": [
    "clean_reviews"
   ]
  },
  {
   "cell_type": "code",
   "execution_count": null,
   "id": "9d4ae5a2",
   "metadata": {},
   "outputs": [],
   "source": [
    "clean_reviews['verbs'] = clean_reviews['tagged'].apply(lambda x: [word for word, tag in x if tag in ['VB', 'VBD', 'VBG', 'VBN', 'VBP', 'VBZ']])"
   ]
  },
  {
   "cell_type": "code",
   "execution_count": null,
   "id": "126f4a4d",
   "metadata": {},
   "outputs": [],
   "source": [
    "clean_reviews[['cleaned_text', 'verbs']].head()"
   ]
  },
  {
   "cell_type": "code",
   "execution_count": null,
   "id": "13a106f8",
   "metadata": {},
   "outputs": [],
   "source": [
    "# extract the numbers or cardinal digits from the text\n",
    "clean_reviews['cardinal_digits'] = clean_reviews['tagged'].apply(lambda x: [word for word, tag in x if tag in ['CD']])"
   ]
  },
  {
   "cell_type": "code",
   "execution_count": null,
   "id": "813bd953",
   "metadata": {},
   "outputs": [],
   "source": [
    "clean_reviews[['cleaned_text', 'cardinal_digits']].head()"
   ]
  },
  {
   "cell_type": "code",
   "execution_count": null,
   "id": "11bc0b06",
   "metadata": {},
   "outputs": [],
   "source": [
    "clean_reviews['cleaned_text'][2]"
   ]
  },
  {
   "cell_type": "code",
   "execution_count": null,
   "id": "d89bd760",
   "metadata": {},
   "outputs": [],
   "source": [
    "clean_reviews['num_digits'] = clean_reviews['cardinal_digits'].str.len()\n",
    "clean_reviews['num_verbs'] = clean_reviews['verbs'].str.len()\n",
    "clean_reviews['num_nouns'] = clean_reviews['nouns'].str.len()\n",
    "clean_reviews['num_tokens_cleaned'] = clean_reviews['tokenized'].str.len()\n",
    "clean_reviews['num_tokens_raw'] = clean_reviews['tokenized_raw'].str.len()\n",
    "\n",
    "clean_reviews"
   ]
  },
  {
   "cell_type": "code",
   "execution_count": null,
   "id": "e2ff4aa7",
   "metadata": {},
   "outputs": [],
   "source": [
    "to_drop = ['tokenized', 'tagged', 'nouns', 'verbs', 'cardinal_digits']\n",
    "clean_reviews.drop(to_drop, axis=1, inplace=True)"
   ]
  },
  {
   "cell_type": "code",
   "execution_count": null,
   "id": "397758fc",
   "metadata": {},
   "outputs": [],
   "source": [
    "clean_reviews.head()"
   ]
  },
  {
   "cell_type": "markdown",
   "id": "0464313d",
   "metadata": {},
   "source": [
    "# Find Number of Typos\n"
   ]
  },
  {
   "cell_type": "code",
   "execution_count": null,
   "id": "208cf5ee",
   "metadata": {},
   "outputs": [],
   "source": [
    "# view andn check typos function\n",
    "def spell3(s):\n",
    "    #remove punctuations \n",
    "    s = s.translate(str.maketrans('', '', string.punctuation)) \n",
    "    \n",
    "    #expand contractions\n",
    "    expanded_words = []  \n",
    "    for word in s.split():\n",
    "        expanded_words.append(contractions.fix(word))  # using contractions.fix to expand the shortened words\n",
    "        \n",
    "    spell = SpellChecker()\n",
    "    amount_miss = len(list(spell.unknown(expanded_words)))\n",
    "#     print(list(spell.unknown(s.split())))\n",
    "#     print(\"Possible amount of misspelled words in the text:\", amount_miss)\n",
    "    return amount_miss\n"
   ]
  },
  {
   "cell_type": "code",
   "execution_count": null,
   "id": "7c3bb6bf",
   "metadata": {},
   "outputs": [],
   "source": [
    "test = clean_reviews[['text']].head(30)"
   ]
  },
  {
   "cell_type": "code",
   "execution_count": null,
   "id": "1ece3f6b",
   "metadata": {},
   "outputs": [],
   "source": [
    "clean_reviews['num_words_misspelled'] = clean_reviews['text'].apply(spell3)"
   ]
  },
  {
   "cell_type": "code",
   "execution_count": null,
   "id": "095052da",
   "metadata": {},
   "outputs": [],
   "source": [
    "clean_reviews.head()"
   ]
  },
  {
   "cell_type": "markdown",
   "id": "a1412556",
   "metadata": {},
   "source": [
    "# Polarity of Text\n",
    "Using VADER as it does better sentiment analysis when it comes to negative polarity detection, as compared to TextBlob. (source: https://www.analyticsvidhya.com/blog/2021/10/sentiment-analysis-with-textblob-and-vader/)"
   ]
  },
  {
   "cell_type": "code",
   "execution_count": null,
   "id": "a9539c09",
   "metadata": {
    "scrolled": true
   },
   "outputs": [],
   "source": [
    "clean_reviews['text'][0]"
   ]
  },
  {
   "cell_type": "code",
   "execution_count": null,
   "id": "bc9f9b9a",
   "metadata": {},
   "outputs": [],
   "source": [
    "clean_reviews['cleaned_text'][0]"
   ]
  },
  {
   "cell_type": "code",
   "execution_count": null,
   "id": "58ce9f4b",
   "metadata": {},
   "outputs": [],
   "source": [
    "sid_obj= SentimentIntensityAnalyzer()"
   ]
  },
  {
   "cell_type": "code",
   "execution_count": null,
   "id": "ebda6624",
   "metadata": {},
   "outputs": [],
   "source": [
    "print(sid_obj.polarity_scores(clean_reviews.text[0])) "
   ]
  },
  {
   "cell_type": "code",
   "execution_count": null,
   "id": "f3e006c5",
   "metadata": {},
   "outputs": [],
   "source": [
    "sid_obj.polarity_scores(clean_reviews['cleaned_text'][0])['compound']"
   ]
  },
  {
   "cell_type": "markdown",
   "id": "1c9d7d62",
   "metadata": {},
   "source": [
    "To get compound polarity score on the cleaned text is sufficient."
   ]
  },
  {
   "cell_type": "code",
   "execution_count": null,
   "id": "0dd10bc4",
   "metadata": {},
   "outputs": [],
   "source": [
    "def compound_polarity_score(text):\n",
    "    sid_obj= SentimentIntensityAnalyzer()\n",
    "    score = sid_obj.polarity_scores(text)['compound']\n",
    "    return score"
   ]
  },
  {
   "cell_type": "code",
   "execution_count": null,
   "id": "b549127b",
   "metadata": {},
   "outputs": [],
   "source": [
    "clean_reviews['polarity'] = clean_reviews['cleaned_text'].apply(compound_polarity_score)"
   ]
  },
  {
   "cell_type": "code",
   "execution_count": null,
   "id": "09ec9cd6",
   "metadata": {},
   "outputs": [],
   "source": [
    "clean_reviews.head()"
   ]
  },
  {
   "cell_type": "code",
   "execution_count": null,
   "id": "aa2e9492",
   "metadata": {
    "scrolled": true
   },
   "outputs": [],
   "source": [
    "clean_reviews.polarity.mean() #makes sense, since we have more +ve sentiment reviews"
   ]
  },
  {
   "cell_type": "markdown",
   "id": "2ea81148",
   "metadata": {},
   "source": [
    "# Subjectivity \n",
    "A higher subjectivity score means it is less objective, and therefore would be highly opinionated."
   ]
  },
  {
   "cell_type": "code",
   "execution_count": null,
   "id": "53069cef",
   "metadata": {},
   "outputs": [],
   "source": [
    "def getSubjectivity(text):\n",
    "   return TextBlob(text).sentiment.subjectivity"
   ]
  },
  {
   "cell_type": "code",
   "execution_count": null,
   "id": "60cc8b01",
   "metadata": {},
   "outputs": [],
   "source": [
    "clean_reviews['subjectivity'] = clean_reviews['cleaned_text'].apply(getSubjectivity)\n",
    "clean_reviews"
   ]
  },
  {
   "cell_type": "code",
   "execution_count": null,
   "id": "4bf9d0ec",
   "metadata": {
    "scrolled": true
   },
   "outputs": [],
   "source": [
    "clean_reviews.head()"
   ]
  },
  {
   "cell_type": "markdown",
   "id": "ee7e749d",
   "metadata": {},
   "source": [
    "# Number of +ve, -ve, neutral words"
   ]
  },
  {
   "cell_type": "code",
   "execution_count": null,
   "id": "8ad0dd8f",
   "metadata": {},
   "outputs": [],
   "source": [
    "test = clean_reviews['cleaned_text'][40]\n",
    "test"
   ]
  },
  {
   "cell_type": "code",
   "execution_count": null,
   "id": "cc34dff4",
   "metadata": {},
   "outputs": [],
   "source": [
    "import nltk\n",
    "from nltk.sentiment.vader import SentimentIntensityAnalyzer\n",
    "\n",
    "def count_pos_neg_neutral(text):\n",
    "    text_split = text.split()\n",
    "    sid = SentimentIntensityAnalyzer()\n",
    "    pos_word_list=[]\n",
    "    neu_word_list=[]\n",
    "    neg_word_list=[]\n",
    "\n",
    "    for word in text_split:\n",
    "        if (sid.polarity_scores(word)['compound']) >= 0.5:\n",
    "            pos_word_list.append(word)\n",
    "        elif (sid.polarity_scores(word)['compound']) <= -0.5:\n",
    "            neg_word_list.append(word)\n",
    "        else:\n",
    "            neu_word_list.append(word)      \n",
    "    return [len(pos_word_list), len(neg_word_list), len(neu_word_list)]\n"
   ]
  },
  {
   "cell_type": "code",
   "execution_count": null,
   "id": "5e2030eb",
   "metadata": {},
   "outputs": [],
   "source": [
    "clean_reviews['num_pos_neg_neutral_words'] = clean_reviews['cleaned_text'].apply(count_pos_neg_neutral)\n",
    "clean_reviews.head() # a lot of neutral words, not very insightful, keep +ve and -ve enough"
   ]
  },
  {
   "cell_type": "code",
   "execution_count": null,
   "id": "64aab57f",
   "metadata": {},
   "outputs": [],
   "source": [
    "clean_reviews['num_pos_words'] = clean_reviews['num_pos_neg_neutral_words'].str[0]\n",
    "clean_reviews['num_neg_words'] = clean_reviews['num_pos_neg_neutral_words'].str[1]\n",
    "clean_reviews"
   ]
  },
  {
   "cell_type": "code",
   "execution_count": null,
   "id": "5a1fcd4b",
   "metadata": {},
   "outputs": [],
   "source": [
    "clean_reviews.columns"
   ]
  },
  {
   "cell_type": "code",
   "execution_count": null,
   "id": "cc8c9597",
   "metadata": {},
   "outputs": [],
   "source": [
    "clean_reviews.drop(['num_pos_neg_neutral_words', 'tokenized_raw'], axis=1, inplace=True)"
   ]
  },
  {
   "cell_type": "code",
   "execution_count": null,
   "id": "861f7cea",
   "metadata": {},
   "outputs": [],
   "source": [
    "clean_reviews.columns"
   ]
  },
  {
   "cell_type": "code",
   "execution_count": null,
   "id": "c40b95db",
   "metadata": {},
   "outputs": [],
   "source": [
    "clean_reviews.to_csv('../../data/processed/added_features2.csv')"
   ]
  },
  {
   "cell_type": "code",
   "execution_count": null,
   "id": "c5dee31c",
   "metadata": {},
   "outputs": [],
   "source": []
  }
 ],
 "metadata": {
  "kernelspec": {
   "display_name": "envname",
   "language": "python",
   "name": "envname"
  },
  "language_info": {
   "codemirror_mode": {
    "name": "ipython",
    "version": 3
   },
   "file_extension": ".py",
   "mimetype": "text/x-python",
   "name": "python",
   "nbconvert_exporter": "python",
   "pygments_lexer": "ipython3",
   "version": "3.11.2"
  }
 },
 "nbformat": 4,
 "nbformat_minor": 5
}
