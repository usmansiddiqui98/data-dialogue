{
 "cells": [
  {
   "cell_type": "code",
   "execution_count": null,
   "id": "66f524e7-054a-4906-9997-63138de6a82c",
   "metadata": {
    "tags": []
   },
   "outputs": [],
   "source": [
    "import pandas as pd\n",
    "import numpy as np\n",
    "from transformers import AutoTokenizer, AutoModelForSequenceClassification,TrainingArguments\n",
    "import evaluate\n",
    "from sklearn.model_selection import train_test_split"
   ]
  },
  {
   "cell_type": "code",
   "execution_count": null,
   "id": "6eb74701-5d54-4f25-95e9-ba847baba5ee",
   "metadata": {
    "tags": []
   },
   "outputs": [],
   "source": [
    "data = pd.read_csv('../data/raw/reviews.csv')\n",
    "# Drop time column\n",
    "data_wo_time =  data.drop(columns = [\"Time\"], axis = 1)\n",
    "data_wo_time.loc[:,\"Sentiment\"].replace({'positive':1, 'negative':0}, inplace = True)"
   ]
  },
  {
   "cell_type": "code",
   "execution_count": null,
   "id": "0f3c8a6b-d76c-4a50-bb13-03c814347b47",
   "metadata": {
    "tags": []
   },
   "outputs": [],
   "source": [
    "# train test split\n",
    "train_data , test_data, train_labels, test_labels = train_test_split(data_wo_time.drop('Sentiment', axis = 1),\n",
    "                                                                     data_wo_time[\"Sentiment\"],\n",
    "                                                                     test_size = 0.3,\n",
    "                                                                     random_state = 4263)"
   ]
  },
  {
   "cell_type": "code",
   "execution_count": null,
   "id": "7d47211f-f7e5-4d37-a95c-07d91f66c0bf",
   "metadata": {
    "tags": []
   },
   "outputs": [],
   "source": [
    "display(train_data)\n",
    "display(test_data)"
   ]
  },
  {
   "cell_type": "code",
   "execution_count": null,
   "id": "3b49262d-db9e-4b2a-af13-13505c2f5eb9",
   "metadata": {
    "tags": []
   },
   "outputs": [],
   "source": [
    "tokenizer = AutoTokenizer.from_pretrained(\"bert-base-cased\")\n",
    "def tokenize_function(examples):\n",
    "    return tokenizer(examples[\"Text\"], padding=\"max_length\", truncation=True)\n",
    "\n",
    "tokenized_datasets = train_data[\"Text\"].map(tokenize_function, batched=True)"
   ]
  }
 ],
 "metadata": {
  "kernelspec": {
   "display_name": "Python 3 (ipykernel)",
   "language": "python",
   "name": "python3"
  },
  "language_info": {
   "codemirror_mode": {
    "name": "ipython",
    "version": 3
   },
   "file_extension": ".py",
   "mimetype": "text/x-python",
   "name": "python",
   "nbconvert_exporter": "python",
   "pygments_lexer": "ipython3",
   "version": "3.10.8"
  }
 },
 "nbformat": 4,
 "nbformat_minor": 5
}
