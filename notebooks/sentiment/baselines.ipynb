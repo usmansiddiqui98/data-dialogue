{
 "cells": [
  {
   "cell_type": "markdown",
   "id": "17cdfbc5-e588-47fe-8fc2-afce9706ab6d",
   "metadata": {
    "tags": []
   },
   "source": [
    "# Baseline models"
   ]
  },
  {
   "cell_type": "markdown",
   "id": "a0096555-163b-4d3b-b00a-0a8bad50da49",
   "metadata": {
    "tags": []
   },
   "source": [
    "## Import data and libraries"
   ]
  },
  {
   "cell_type": "code",
   "execution_count": null,
   "id": "4b2a7376-cb2e-4e02-ad12-f20dfcff0823",
   "metadata": {
    "tags": []
   },
   "outputs": [],
   "source": [
    "import pandas as pd\n",
    "from sklearn.model_selection import train_test_split\n",
    "from sklearn.preprocessing import StandardScaler\n",
    "from sklearn.linear_model import LogisticRegression\n",
    "from sklearn.metrics import accuracy_score, confusion_matrix, classification_report, roc_curve, RocCurveDisplay\n",
    "from sklearn.pipeline import Pipeline\n",
    "from sklearn.feature_extraction.text import CountVectorizer, TfidfVectorizer\n",
    "import seaborn as sns\n",
    "import matplotlib.pyplot as plt"
   ]
  },
  {
   "cell_type": "code",
   "execution_count": null,
   "id": "4a23b468-3e6a-4bfb-9bd0-9c08031929e1",
   "metadata": {
    "tags": []
   },
   "outputs": [],
   "source": [
    "data = pd.read_csv(\"../../data/processed/clean_reviews.csv\", parse_dates=['Time'])\n",
    "data.columns = [x.lower().replace(\" \", \"_\") for x in data.columns ]\n",
    "data.head()"
   ]
  },
  {
   "cell_type": "markdown",
   "id": "a5b47483-6b35-4c8a-a2de-46441ca815cd",
   "metadata": {},
   "source": [
    "## BOW as Vectorizer"
   ]
  },
  {
   "cell_type": "code",
   "execution_count": null,
   "id": "4aabc348-7ba2-4776-bcc5-773413ce1391",
   "metadata": {
    "tags": []
   },
   "outputs": [],
   "source": [
    "cv = CountVectorizer()\n",
    "X = cv.fit_transform(data['cleaned_text']).toarray()\n",
    "y = data['label']"
   ]
  },
  {
   "cell_type": "code",
   "execution_count": null,
   "id": "0655fd13-a0f7-48ae-bf6e-beacbd927aea",
   "metadata": {
    "tags": []
   },
   "outputs": [],
   "source": [
    "X_train, X_test, y_train, y_test = train_test_split(X, y, test_size=0.2, random_state=4263)"
   ]
  },
  {
   "cell_type": "markdown",
   "id": "e9831480-fd12-4cd4-a7f2-b8dc69bf9a23",
   "metadata": {},
   "source": [
    "### Logistic Regression"
   ]
  },
  {
   "cell_type": "code",
   "execution_count": null,
   "id": "0e80c371-eb02-47e9-b067-e9ae686b1218",
   "metadata": {
    "tags": []
   },
   "outputs": [],
   "source": [
    "clf = LogisticRegression(solver='lbfgs')\n",
    "clf.fit(X_train, y_train)"
   ]
  },
  {
   "cell_type": "markdown",
   "id": "3391e457-9474-4daa-9037-f0ddd2c67c6f",
   "metadata": {},
   "source": [
    "### Evaluation of logistic regression"
   ]
  },
  {
   "cell_type": "code",
   "execution_count": null,
   "id": "4182bb4f-5785-43b5-8c94-c2fe4d4efdaa",
   "metadata": {
    "tags": []
   },
   "outputs": [],
   "source": [
    "y_pred = clf.predict(X_test)\n",
    "y_pred_probs = clf.predict_proba(X_test)\n",
    "y_score = clf.decision_function(X_test)"
   ]
  },
  {
   "cell_type": "code",
   "execution_count": null,
   "id": "1a224862-583d-4fc6-ade4-af198ab06599",
   "metadata": {
    "tags": []
   },
   "outputs": [],
   "source": [
    "# Calculate the accuracy score\n",
    "accuracy_bow = accuracy_score(y_test, y_pred)\n",
    "print(\"Accuracy:\", accuracy_bow)\n",
    "\n",
    "# Print the classification report\n",
    "report_bow = classification_report(y_test, y_pred)\n",
    "print(\"Classification Report:\\n\", report_bow)\n",
    "\n",
    "# Print the confusion matrix\n",
    "confusion_bow = confusion_matrix(y_test, y_pred)\n",
    "print(\"Confusion Matrix\", sns.heatmap(confusion_bow, annot = True, fmt= 'g'))"
   ]
  },
  {
   "cell_type": "code",
   "execution_count": null,
   "id": "40ff2d63-8d02-42c2-9121-3fee1998e6f3",
   "metadata": {
    "tags": []
   },
   "outputs": [],
   "source": [
    "# ROC AUC curves\n",
    "fpr_bow, tpr_bow, _ = roc_curve(y_test, y_score, pos_label=clf.classes_[1])\n",
    "roc_display = RocCurveDisplay(fpr=fpr_bow, tpr=tpr_bow)\n",
    "print(\"ROC_AUC Curve:\\n\",roc_display.plot())"
   ]
  },
  {
   "cell_type": "markdown",
   "id": "e705bb08-24d9-4905-a132-d8ec11159d28",
   "metadata": {},
   "source": [
    "## TF-IDF as vectorizer"
   ]
  },
  {
   "cell_type": "code",
   "execution_count": null,
   "id": "6a37be1f-65a7-4efc-b3d7-4607dd1ff75f",
   "metadata": {
    "tags": []
   },
   "outputs": [],
   "source": [
    "X_tf = data['cleaned_text']\n",
    "y_tf = data['sentiment']\n",
    "X_tf_train, X_tf_test, y_tf_train, y_tf_test = train_test_split(X_tf, y_tf, test_size=0.2, random_state=4263)"
   ]
  },
  {
   "cell_type": "markdown",
   "id": "18f44fd3-a34f-4698-ae76-c077020a0be6",
   "metadata": {},
   "source": [
    "### Logistic regression"
   ]
  },
  {
   "cell_type": "code",
   "execution_count": null,
   "id": "68c8f203-2a53-4b76-ad6c-7f6b13e566ce",
   "metadata": {
    "tags": []
   },
   "outputs": [],
   "source": [
    "pipeline = Pipeline([\n",
    "    ('tfidf', TfidfVectorizer()),  # Use with_mean=False for sparse matrices\n",
    "    ('classifier', LogisticRegression(solver = 'lbfgs'))\n",
    "])"
   ]
  },
  {
   "cell_type": "code",
   "execution_count": null,
   "id": "1e5eec63-3297-4909-a0b2-65752afb4796",
   "metadata": {
    "tags": []
   },
   "outputs": [],
   "source": [
    "pipeline.fit(X_tf_train, y_tf_train)"
   ]
  },
  {
   "cell_type": "markdown",
   "id": "0256c8fb-18d8-42e9-891c-fc4a08861298",
   "metadata": {},
   "source": [
    "### Evaluation of logistic regression"
   ]
  },
  {
   "cell_type": "code",
   "execution_count": null,
   "id": "df4146d1-2efd-4d85-b2fc-fd7429ade634",
   "metadata": {
    "tags": []
   },
   "outputs": [],
   "source": [
    "y_tf_pred = pipeline.predict(X_tf_test)\n",
    "y_tf_pred_prob = pipeline.predict_proba(X_tf_test)[:, 1]"
   ]
  },
  {
   "cell_type": "code",
   "execution_count": null,
   "id": "b1cc9a9f-a85e-48db-94ea-2ea67c75a7fc",
   "metadata": {
    "tags": []
   },
   "outputs": [],
   "source": [
    "# Calculate the accuracy score\n",
    "accuracy_tf = accuracy_score(y_tf_test, y_tf_pred)\n",
    "print(\"Accuracy:\", accuracy_tf)\n",
    "\n",
    "# Print the classification report\n",
    "report_tf = classification_report(y_tf_test, y_tf_pred)\n",
    "print(\"Classification Report:\\n\", report_tf)\n",
    "\n",
    "# Print the confusion matrix\n",
    "confusion_tf = confusion_matrix(y_tf_test, y_tf_pred)\n",
    "print(\"Confusion Matrix:\\n\", sns.heatmap(confusion_tf, annot = True, fmt= 'g'))"
   ]
  },
  {
   "cell_type": "code",
   "execution_count": null,
   "id": "efd647c7-0831-4632-99c0-1074519b8cbb",
   "metadata": {
    "tags": []
   },
   "outputs": [],
   "source": [
    "y_tf_score = pipeline.decision_function(X_tf_test)\n",
    "fpr_tf, tpr_tf, _ = roc_curve(y_tf_test, y_tf_score, pos_label=pipeline.classes_[1])\n",
    "roc_display = RocCurveDisplay(fpr=fpr_bow, tpr=tpr_bow)\n",
    "print(\"ROC_AUC Curve:\\n\",roc_display.plot())"
   ]
  },
  {
   "cell_type": "markdown",
   "id": "9b4324a1-d45d-4b05-b9d0-6e2fda3317bd",
   "metadata": {
    "tags": []
   },
   "source": [
    "## Conclusion: \n",
    "1. BOW vectorizer performs better than TF-IDF for sentiment analysis\n",
    "2. Baseline logistic regression with BOW has an accuracy of 87%\n",
    "3. Our improved models should look at improving recall for -ve sentiment"
   ]
  }
 ],
 "metadata": {
  "kernelspec": {
   "display_name": "Python 3 (ipykernel)",
   "language": "python",
   "name": "python3"
  },
  "language_info": {
   "codemirror_mode": {
    "name": "ipython",
    "version": 3
   },
   "file_extension": ".py",
   "mimetype": "text/x-python",
   "name": "python",
   "nbconvert_exporter": "python",
   "pygments_lexer": "ipython3",
   "version": "3.10.8"
  }
 },
 "nbformat": 4,
 "nbformat_minor": 5
}
