{
 "cells": [
  {
   "cell_type": "code",
   "execution_count": 2,
   "metadata": {
    "collapsed": true
   },
   "outputs": [
    {
     "name": "stderr",
     "output_type": "stream",
     "text": [
      "[nltk_data] Downloading package averaged_perceptron_tagger to\n",
      "[nltk_data]     C:\\Users\\tanyi\\AppData\\Roaming\\nltk_data...\n",
      "[nltk_data]   Package averaged_perceptron_tagger is already up-to-\n",
      "[nltk_data]       date!\n",
      "[nltk_data] Downloading package punkt to\n",
      "[nltk_data]     C:\\Users\\tanyi\\AppData\\Roaming\\nltk_data...\n",
      "[nltk_data]   Package punkt is already up-to-date!\n",
      "[nltk_data] Downloading package wordnet to\n",
      "[nltk_data]     C:\\Users\\tanyi\\AppData\\Roaming\\nltk_data...\n",
      "[nltk_data]   Package wordnet is already up-to-date!\n",
      "[nltk_data] Downloading package stopwords to\n",
      "[nltk_data]     C:\\Users\\tanyi\\AppData\\Roaming\\nltk_data...\n",
      "[nltk_data]   Package stopwords is already up-to-date!\n"
     ]
    }
   ],
   "source": [
    "from src.data import preprocess\n",
    "import pandas as pd"
   ]
  },
  {
   "cell_type": "code",
   "execution_count": 2,
   "outputs": [
    {
     "data": {
      "text/plain": "'healthy dog food good digestion also good small puppy dog eats require amount every feeding'"
     },
     "execution_count": 2,
     "metadata": {},
     "output_type": "execute_result"
    }
   ],
   "source": [
    "# usage of clean() function from preprocess.py\n",
    "preprocess.clean(\"This is a very healthy dog food. Good for their digestion. Also good for small puppies. My dog eats her required amount at every feeding.\")"
   ],
   "metadata": {
    "collapsed": false
   }
  },
  {
   "cell_type": "code",
   "execution_count": 3,
   "outputs": [
    {
     "data": {
      "text/plain": "  Sentiment     Time                                               Text  \\\n0  positive  18/6/21  This is a very healthy dog food. Good for thei...   \n1  positive   7/7/21  I've been very pleased with the Natural Balanc...   \n2  positive  18/6/21  Before I was educated about feline nutrition, ...   \n3  positive   7/7/21  My holistic vet recommended this, along with a...   \n4  positive   1/7/21  I bought this coffee because its much cheaper ...   \n\n                                        Cleaned Text  \n0  healthy dog food good digestion also good smal...  \n1  pleased natural balance dog food dog issue dog...  \n2  educate feline nutrition allow cat become addi...  \n3  holistic vet recommend along brand try cat pre...  \n4  buy coffee much cheap ganocafe organic reishi ...  ",
      "text/html": "<div>\n<style scoped>\n    .dataframe tbody tr th:only-of-type {\n        vertical-align: middle;\n    }\n\n    .dataframe tbody tr th {\n        vertical-align: top;\n    }\n\n    .dataframe thead th {\n        text-align: right;\n    }\n</style>\n<table border=\"1\" class=\"dataframe\">\n  <thead>\n    <tr style=\"text-align: right;\">\n      <th></th>\n      <th>Sentiment</th>\n      <th>Time</th>\n      <th>Text</th>\n      <th>Cleaned Text</th>\n    </tr>\n  </thead>\n  <tbody>\n    <tr>\n      <th>0</th>\n      <td>positive</td>\n      <td>18/6/21</td>\n      <td>This is a very healthy dog food. Good for thei...</td>\n      <td>healthy dog food good digestion also good smal...</td>\n    </tr>\n    <tr>\n      <th>1</th>\n      <td>positive</td>\n      <td>7/7/21</td>\n      <td>I've been very pleased with the Natural Balanc...</td>\n      <td>pleased natural balance dog food dog issue dog...</td>\n    </tr>\n    <tr>\n      <th>2</th>\n      <td>positive</td>\n      <td>18/6/21</td>\n      <td>Before I was educated about feline nutrition, ...</td>\n      <td>educate feline nutrition allow cat become addi...</td>\n    </tr>\n    <tr>\n      <th>3</th>\n      <td>positive</td>\n      <td>7/7/21</td>\n      <td>My holistic vet recommended this, along with a...</td>\n      <td>holistic vet recommend along brand try cat pre...</td>\n    </tr>\n    <tr>\n      <th>4</th>\n      <td>positive</td>\n      <td>1/7/21</td>\n      <td>I bought this coffee because its much cheaper ...</td>\n      <td>buy coffee much cheap ganocafe organic reishi ...</td>\n    </tr>\n  </tbody>\n</table>\n</div>"
     },
     "execution_count": 3,
     "metadata": {},
     "output_type": "execute_result"
    }
   ],
   "source": [
    "# usage of clean_df() function from preprocess.py\n",
    "df = pd.read_csv('../data/raw/reviews.csv')\n",
    "df = preprocess.clean_df(df)\n",
    "df.head()"
   ],
   "metadata": {
    "collapsed": false
   }
  },
  {
   "cell_type": "code",
   "execution_count": 4,
   "outputs": [
    {
     "data": {
      "text/plain": "  Sentiment     Time                                               Text  \\\n0  positive  18/6/21  This is a very healthy dog food. Good for thei...   \n1  positive   7/7/21  I've been very pleased with the Natural Balanc...   \n2  positive  18/6/21  Before I was educated about feline nutrition, ...   \n3  positive   7/7/21  My holistic vet recommended this, along with a...   \n4  positive   1/7/21  I bought this coffee because its much cheaper ...   \n\n                                        Cleaned Text  \n0  healthy dog food good digestion also good smal...  \n1  pleased natural balance dog food dog issue dog...  \n2  educate feline nutrition allow cat become addi...  \n3  holistic vet recommend along brand try cat pre...  \n4  buy coffee much cheap ganocafe organic reishi ...  ",
      "text/html": "<div>\n<style scoped>\n    .dataframe tbody tr th:only-of-type {\n        vertical-align: middle;\n    }\n\n    .dataframe tbody tr th {\n        vertical-align: top;\n    }\n\n    .dataframe thead th {\n        text-align: right;\n    }\n</style>\n<table border=\"1\" class=\"dataframe\">\n  <thead>\n    <tr style=\"text-align: right;\">\n      <th></th>\n      <th>Sentiment</th>\n      <th>Time</th>\n      <th>Text</th>\n      <th>Cleaned Text</th>\n    </tr>\n  </thead>\n  <tbody>\n    <tr>\n      <th>0</th>\n      <td>positive</td>\n      <td>18/6/21</td>\n      <td>This is a very healthy dog food. Good for thei...</td>\n      <td>healthy dog food good digestion also good smal...</td>\n    </tr>\n    <tr>\n      <th>1</th>\n      <td>positive</td>\n      <td>7/7/21</td>\n      <td>I've been very pleased with the Natural Balanc...</td>\n      <td>pleased natural balance dog food dog issue dog...</td>\n    </tr>\n    <tr>\n      <th>2</th>\n      <td>positive</td>\n      <td>18/6/21</td>\n      <td>Before I was educated about feline nutrition, ...</td>\n      <td>educate feline nutrition allow cat become addi...</td>\n    </tr>\n    <tr>\n      <th>3</th>\n      <td>positive</td>\n      <td>7/7/21</td>\n      <td>My holistic vet recommended this, along with a...</td>\n      <td>holistic vet recommend along brand try cat pre...</td>\n    </tr>\n    <tr>\n      <th>4</th>\n      <td>positive</td>\n      <td>1/7/21</td>\n      <td>I bought this coffee because its much cheaper ...</td>\n      <td>buy coffee much cheap ganocafe organic reishi ...</td>\n    </tr>\n  </tbody>\n</table>\n</div>"
     },
     "execution_count": 4,
     "metadata": {},
     "output_type": "execute_result"
    }
   ],
   "source": [
    "# usage of clean_csv() function from preprocess.py\n",
    "df = preprocess.clean_csv('../data/raw/reviews.csv')\n",
    "df.head()"
   ],
   "metadata": {
    "collapsed": false
   }
  },
  {
   "cell_type": "code",
   "execution_count": 5,
   "outputs": [
    {
     "data": {
      "text/plain": "  Sentiment     Time                                               Text  \\\n0  positive  18/6/21  This is a very healthy dog food. Good for thei...   \n1  positive   7/7/21  I've been very pleased with the Natural Balanc...   \n2  positive  18/6/21  Before I was educated about feline nutrition, ...   \n3  positive   7/7/21  My holistic vet recommended this, along with a...   \n4  positive   1/7/21  I bought this coffee because its much cheaper ...   \n\n                                        Cleaned Text  Label  \n0  healthy dog food good digestion also good smal...      1  \n1  pleased natural balance dog food dog issue dog...      1  \n2  educate feline nutrition allow cat become addi...      1  \n3  holistic vet recommend along brand try cat pre...      1  \n4  buy coffee much cheap ganocafe organic reishi ...      1  ",
      "text/html": "<div>\n<style scoped>\n    .dataframe tbody tr th:only-of-type {\n        vertical-align: middle;\n    }\n\n    .dataframe tbody tr th {\n        vertical-align: top;\n    }\n\n    .dataframe thead th {\n        text-align: right;\n    }\n</style>\n<table border=\"1\" class=\"dataframe\">\n  <thead>\n    <tr style=\"text-align: right;\">\n      <th></th>\n      <th>Sentiment</th>\n      <th>Time</th>\n      <th>Text</th>\n      <th>Cleaned Text</th>\n      <th>Label</th>\n    </tr>\n  </thead>\n  <tbody>\n    <tr>\n      <th>0</th>\n      <td>positive</td>\n      <td>18/6/21</td>\n      <td>This is a very healthy dog food. Good for thei...</td>\n      <td>healthy dog food good digestion also good smal...</td>\n      <td>1</td>\n    </tr>\n    <tr>\n      <th>1</th>\n      <td>positive</td>\n      <td>7/7/21</td>\n      <td>I've been very pleased with the Natural Balanc...</td>\n      <td>pleased natural balance dog food dog issue dog...</td>\n      <td>1</td>\n    </tr>\n    <tr>\n      <th>2</th>\n      <td>positive</td>\n      <td>18/6/21</td>\n      <td>Before I was educated about feline nutrition, ...</td>\n      <td>educate feline nutrition allow cat become addi...</td>\n      <td>1</td>\n    </tr>\n    <tr>\n      <th>3</th>\n      <td>positive</td>\n      <td>7/7/21</td>\n      <td>My holistic vet recommended this, along with a...</td>\n      <td>holistic vet recommend along brand try cat pre...</td>\n      <td>1</td>\n    </tr>\n    <tr>\n      <th>4</th>\n      <td>positive</td>\n      <td>1/7/21</td>\n      <td>I bought this coffee because its much cheaper ...</td>\n      <td>buy coffee much cheap ganocafe organic reishi ...</td>\n      <td>1</td>\n    </tr>\n  </tbody>\n</table>\n</div>"
     },
     "execution_count": 5,
     "metadata": {},
     "output_type": "execute_result"
    }
   ],
   "source": [
    "df['Label'] = [0,]*len(df)\n",
    "df.loc[df[\"Sentiment\"] == \"positive\", \"Label\"] = 1\n",
    "df.head()"
   ],
   "metadata": {
    "collapsed": false
   }
  },
  {
   "cell_type": "code",
   "execution_count": 6,
   "outputs": [],
   "source": [
    "# df.to_csv(\"../data/processed/cleaned_reviews.csv\", index=False)"
   ],
   "metadata": {
    "collapsed": false
   }
  }
 ],
 "metadata": {
  "kernelspec": {
   "display_name": "Python 3",
   "language": "python",
   "name": "python3"
  },
  "language_info": {
   "codemirror_mode": {
    "name": "ipython",
    "version": 2
   },
   "file_extension": ".py",
   "mimetype": "text/x-python",
   "name": "python",
   "nbconvert_exporter": "python",
   "pygments_lexer": "ipython2",
   "version": "2.7.6"
  }
 },
 "nbformat": 4,
 "nbformat_minor": 0
}
