{
 "cells": [
  {
   "cell_type": "code",
   "execution_count": null,
   "outputs": [],
   "source": [
    "from sys import platform\n",
    "import pandas as pd\n",
    "\n",
    "from src.data.make_dataset import main as make_dataset\n",
    "from src.models.sentiment_analysis.training_pipeline import train_models, find_best_model\n",
    "from src.models.sentiment_analysis.log_reg import LogReg\n",
    "from src.models.sentiment_analysis.xg_boost import XgBoost\n",
    "from src.models.sentiment_analysis.xg_boost_svd import XgBoostSvd"
   ],
   "metadata": {
    "collapsed": false
   }
  },
  {
   "cell_type": "markdown",
   "source": [
    "# Sentiment Analysis"
   ],
   "metadata": {
    "collapsed": false
   }
  },
  {
   "cell_type": "markdown",
   "source": [
    "## Data Preprocessing and Feature Engineering\n",
    "make_dataset function takes in the raw data frame, and two output file paths.\n",
    "make_dataset makes use of our Preprocessor and FeatureEngineer classes to process the data, performs a train-test split, and returns the respective X/y train and test sets.\n",
    "The train and test sets are also written as csv files so that we can run make_dataset once and load the processed data should we need it again.\n",
    "\n",
    "### Preprocessing\n",
    "\n",
    "Elaborate on preprocessing steps\n",
    "\n",
    "### Feature Engineering\n",
    "\n",
    "Elaborate on new features generated\n"
   ],
   "metadata": {
    "collapsed": false
   }
  },
  {
   "cell_type": "code",
   "execution_count": null,
   "metadata": {
    "collapsed": true
   },
   "outputs": [],
   "source": [
    "# Create the processed dataset\n",
    "data = pd.read_csv(\"../../data/raw/reviews.csv\")\n",
    "X_train, X_test, y_train, y_test = make_dataset(\n",
    "        data,\n",
    "        train_split_output_filepath=\"../../data/processed/train_final_processed_reviews.csv\",\n",
    "        test_split_output_filepath=\"../../data/processed/test_final_processed_reviews.csv\",\n",
    "    )"
   ]
  },
  {
   "cell_type": "code",
   "execution_count": null,
   "outputs": [],
   "source": [
    "# Load the processed dataset\n",
    "train = pd.read_csv(\"../../data/processed/train_final_processed_reviews.csv\", index_col=\"Unnamed: 0\")\n",
    "test = pd.read_csv(\"../../data/processed/test_final_processed_reviews.csv\", index_col=\"Unnamed: 0\")\n",
    "X_train = train.drop(\"sentiment\", axis=1)\n",
    "X_test = test.drop(\"sentiment\", axis=1)\n",
    "y_train = train.sentiment.tolist()\n",
    "y_test = test.sentiment.tolist()"
   ],
   "metadata": {
    "collapsed": false
   }
  },
  {
   "cell_type": "markdown",
   "source": [
    "## Training Pipeline\n",
    "- Initialise all models and store in dict\n",
    "- Train all models on same X_train\n",
    "- Save (pickle) the trained models\n",
    "- Evaluate models\n",
    "    - Load saved models\n",
    "    - Predict on same X_test\n",
    "    - Calculate metrics\n",
    "- Select best model\n",
    "\n",
    "### Models Used\n",
    "\n",
    "#### XgBoost\n",
    "Explain about model\n",
    "\n",
    "#### Add more models\n",
    "\n",
    "\n"
   ],
   "metadata": {
    "collapsed": false
   }
  },
  {
   "cell_type": "code",
   "execution_count": null,
   "outputs": [],
   "source": [
    "if platform == \"win32\":\n",
    "    models_path = \"..\\\\..\\\\models\\\\sentiment_analysis\"\n",
    "else:\n",
    "    models_path = \"../../models/sentiment_analysis\"\n",
    "models = {\n",
    "    \"xg_boost\": XgBoost(models_path),\n",
    "    \"xg_boost_svd\": XgBoostSvd(models_path),\n",
    "    \"log_reg\": LogReg(models_path),\n",
    "    # Add other model instances here\n",
    "}\n",
    "\n",
    "# Train the models and save them\n",
    "train_models(models, X_train, y_train, models_path)\n",
    "best_model, best_model_name, best_accuracy = find_best_model(models, models_path, X_test, y_test)\n",
    "print(f\"Best model: {best_model_name}\")\n",
    "print(f\"Accuracy: {best_accuracy}\")"
   ],
   "metadata": {
    "collapsed": false
   }
  },
  {
   "cell_type": "code",
   "execution_count": null,
   "outputs": [],
   "source": [],
   "metadata": {
    "collapsed": false
   }
  }
 ],
 "metadata": {
  "kernelspec": {
   "display_name": "Python 3",
   "language": "python",
   "name": "python3"
  },
  "language_info": {
   "codemirror_mode": {
    "name": "ipython",
    "version": 2
   },
   "file_extension": ".py",
   "mimetype": "text/x-python",
   "name": "python",
   "nbconvert_exporter": "python",
   "pygments_lexer": "ipython2",
   "version": "2.7.6"
  }
 },
 "nbformat": 4,
 "nbformat_minor": 0
}
