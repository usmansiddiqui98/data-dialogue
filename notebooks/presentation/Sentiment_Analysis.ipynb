{
 "cells": [
  {
   "cell_type": "code",
   "execution_count": null,
   "metadata": {
    "collapsed": false,
    "jupyter": {
     "outputs_hidden": false
    },
    "tags": []
   },
   "outputs": [],
   "source": [
    "from sys import platform\n",
    "import pandas as pd\n",
    "\n",
    "from src.data.make_dataset import main as make_dataset\n",
    "from src.models.sentiment_analysis.training_pipeline import train_models, find_best_model\n",
    "from src.models.sentiment_analysis.log_reg import LogReg\n",
    "from src.models.sentiment_analysis.xg_boost import XgBoost\n",
    "from src.models.sentiment_analysis.xg_boost_svd import XgBoostSvd\n",
    "from src.models.sentiment_analysis.LSTM import BasicLSTM"
   ]
  },
  {
   "cell_type": "markdown",
   "metadata": {},
   "source": [
    "# Sentiment Analysis"
   ]
  },
  {
   "cell_type": "markdown",
   "metadata": {},
   "source": [
    "## Data Preprocessing and Feature Engineering\n",
    "make_dataset function takes in the raw data frame, and two output file paths.\n",
    "make_dataset makes use of our Preprocessor and FeatureEngineer classes to process the data, performs a train-test split, and returns the respective X/y train and test sets.\n",
    "The train and test sets are also written as csv files so that we can run make_dataset once and load the processed data should we need it again.\n",
    "\n",
    "### Preprocessing\n",
    "\n",
    "Elaborate on preprocessing steps\n",
    "\n",
    "### Feature Engineering\n",
    "\n",
    "Elaborate on new features generated\n"
   ]
  },
  {
   "cell_type": "code",
   "execution_count": null,
   "metadata": {
    "tags": []
   },
   "outputs": [],
   "source": [
    "# Create the processed dataset\n",
    "data = pd.read_csv(\"../../data/raw/reviews.csv\")\n",
    "data_wo_sentiment = pd.read_csv(\"../../data/raw/reviews_test.csv\")\n",
    "X_train, X_test, y_train, y_test = make_dataset(\n",
    "        data,\n",
    "        train_split_output_filepath=\"../../data/processed/train_final_processed_reviews.csv\",\n",
    "        test_split_output_filepath=\"../../data/processed/test_final_processed_reviews.csv\",\n",
    "    )"
   ]
  },
  {
   "cell_type": "code",
   "execution_count": null,
   "metadata": {
    "collapsed": false,
    "jupyter": {
     "outputs_hidden": false
    }
   },
   "outputs": [],
   "source": [
    "# Load the processed dataset\n",
    "train = pd.read_csv(\"../../data/processed/train_final_processed_reviews.csv\", index_col=\"Unnamed: 0\")\n",
    "test = pd.read_csv(\"../../data/processed/test_final_processed_reviews.csv\", index_col=\"Unnamed: 0\")\n",
    "X_train = train.drop(\"sentiment\", axis=1)\n",
    "X_test = test.drop(\"sentiment\", axis=1)\n",
    "y_train = train.sentiment.tolist()\n",
    "y_test = test.sentiment.tolist()"
   ]
  },
  {
   "cell_type": "markdown",
   "metadata": {},
   "source": [
    "## Training Pipeline\n",
    "- Initialise all models and store in dict\n",
    "- Train all models on same X_train\n",
    "- Save (pickle) the trained models\n",
    "- Evaluate models\n",
    "    - Load saved models\n",
    "    - Predict on same X_test\n",
    "    - Calculate metrics\n",
    "- Select best model\n",
    "\n",
    "### Models Used\n",
    "\n",
    "#### XgBoost\n",
    "Explain about model\n",
    "\n",
    "#### Add more models\n",
    "\n",
    "\n"
   ]
  },
  {
   "cell_type": "code",
   "execution_count": null,
   "metadata": {
    "collapsed": false,
    "jupyter": {
     "outputs_hidden": false
    }
   },
   "outputs": [],
   "source": [
    "if platform == \"win32\":\n",
    "    models_path = \"..\\\\..\\\\models\\\\sentiment_analysis\"\n",
    "else:\n",
    "    models_path = \"../../models/sentiment_analysis\"\n",
    "models = {\n",
    "    \"xg_boost\": XgBoost(models_path),\n",
    "    \"xg_boost_svd\": XgBoostSvd(models_path),\n",
    "    \"log_reg\": LogReg(models_path),\n",
    "    \"LSTM\": BasicLSTM(models_path)\n",
    "    # Add other model instances here\n",
    "}\n",
    "\n",
    "# Train the models and save them\n",
    "train_models(models, X_train, y_train, models_path)\n",
    "best_model, best_model_name, best_accuracy = find_best_model(models, models_path, X_test, y_test)\n",
    "print(f\"Best model: {best_model_name}\")\n",
    "print(f\"Accuracy: {best_accuracy}\")"
   ]
  },
  {
   "cell_type": "code",
   "execution_count": null,
   "metadata": {
    "collapsed": false,
    "jupyter": {
     "outputs_hidden": false
    },
    "tags": []
   },
   "outputs": [],
   "source": [
    "def run_scoring_pipeline(dataset_wo_sentiment):\n",
    "    \"\"\"Run the scoring pipeline.\"\"\"\n",
    "    start = time.time()\n",
    "    preprocessor = Preprocessor(input_df)\n",
    "    preprocessor.clean_test_csv()\n",
    "    pre_processed_df = preprocessor.clean_df\n",
    "    feature_engineer = FeatureEngineer(pre_processed_df)\n",
    "    feature_engineer.add_features()\n",
    "    feature_engineered_df = feature_engineer.feature_engineered_df\n",
    "    fe_end = time.time()\n",
    "    total_time_fe = fe_end - start\n",
    "    print(\"\\n\" + \"Preprocessing and Feature Engineering finished in \" + str(round(total_time_fe)) + \"s\")\n",
    "\n",
    "    time_col = feature_engineered_df.time\n",
    "    X_test = feature_engineered_df.drop([\"time\"], axis=1)\n",
    "\n",
    "    model.load(best_model)\n",
    "    pred = model.predict(X_test)\n",
    "    end = time.time()\n",
    "    total_time = end - start\n",
    "\n",
    "    # The output file should be named \"reviews_test_predictions_<your_group_name>.csv ,\n",
    "    # and it should have columns - \"Text\", Time\", \"predicted_sentiment_probability\", \"predicted_sentiment\".\n",
    "\n",
    "    output = pd.DataFrame(\n",
    "        {\n",
    "            \"Text\": X_test.text,\n",
    "            \"Time\": time_col,\n",
    "            \"predicted_sentiment_probability\": pred[\"predicted_sentiment_probability\"],\n",
    "            \"predicted_sentiment\": pred[\"predicted_sentiment\"],\n",
    "        }\n",
    "    )\n",
    "\n",
    "    output.to_csv(\"reviews_test_predictions_data-dialogue.csv\", index=False)\n",
    "\n",
    "    return output"
   ]
  }
 ],
 "metadata": {
  "kernelspec": {
   "display_name": "Python 3 (ipykernel)",
   "language": "python",
   "name": "python3"
  },
  "language_info": {
   "codemirror_mode": {
    "name": "ipython",
    "version": 3
   },
   "file_extension": ".py",
   "mimetype": "text/x-python",
   "name": "python",
   "nbconvert_exporter": "python",
   "pygments_lexer": "ipython3",
   "version": "3.10.9"
  }
 },
 "nbformat": 4,
 "nbformat_minor": 4
}
