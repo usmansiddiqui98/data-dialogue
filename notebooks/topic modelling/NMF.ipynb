{
 "cells": [
  {
   "cell_type": "code",
   "execution_count": null,
   "id": "2aa77495-e287-429c-9140-156c75f6efcf",
   "metadata": {},
   "outputs": [],
   "source": [
    "import pandas as pd\n",
    "import pandas as pd\n",
    "from sklearn.decomposition import NMF\n",
    "from sklearn.feature_extraction.text import TfidfVectorizer\n",
    "\n",
    "# Import our Python Classes\n",
    "from src.models.topic_modelling.NMF import NMFModel\n",
    "from src.data.preprocess import Preprocessor\n"
   ]
  },
  {
   "cell_type": "code",
   "execution_count": null,
   "id": "efd951d1-7328-4f00-aa67-9d05b403415f",
   "metadata": {
    "tags": []
   },
   "outputs": [],
   "source": [
    "preprocessor = Preprocessor(pd.read_csv(\"../../data/raw/reviews.csv\"))\n",
    "preprocessor.clean_csv()\n",
    "df = preprocessor.clean_df\n",
    "df.head()"
   ]
  },
  {
   "cell_type": "markdown",
   "id": "97cdc480-656a-437c-a8f1-5c1bc2dbc496",
   "metadata": {},
   "source": [
    "# NMF"
   ]
  },
  {
   "cell_type": "code",
   "execution_count": null,
   "id": "248f918c-9509-4776-b8dc-f3c9e1b181ed",
   "metadata": {
    "tags": []
   },
   "outputs": [],
   "source": [
    "vectorizer = TfidfVectorizer(stop_words='english', \n",
    "max_features= 1000, # keep top 1000 terms \n",
    "max_df = 0.5, \n",
    "smooth_idf=True)\n",
    "\n",
    "X = vectorizer.fit_transform(df['cleaned_text'])\n",
    "\n",
    "X.shape # check shape of the document-term matrix"
   ]
  },
  {
   "cell_type": "code",
   "execution_count": null,
   "id": "0d56538c-c43f-402c-957b-f6b52f18cc85",
   "metadata": {
    "tags": []
   },
   "outputs": [],
   "source": [
    "# Create an NMF model\n",
    "# 10 components will be the topics\n",
    "nmf_model = NMF(n_components=10, random_state=5)\n",
    " \n",
    "# Fit the model to TF-IDF\n",
    "nmf_model.fit(X)\n",
    " \n",
    "# Transform the TF-IDF: nmf_features\n",
    "nmf_features = nmf_model.transform(X)\n",
    "\n",
    "len(nmf_model.components_) "
   ]
  },
  {
   "cell_type": "code",
   "execution_count": null,
   "id": "5beace9d-3731-4693-ae8d-773e8bfca575",
   "metadata": {
    "tags": []
   },
   "outputs": [],
   "source": [
    "# Create a DataFrame: components_df\n",
    "components_df = pd.DataFrame(nmf_model.components_, columns=vectorizer.get_feature_names_out())\n",
    "components_df"
   ]
  },
  {
   "cell_type": "code",
   "execution_count": null,
   "id": "5f73c18d-333b-4323-b3aa-9f8d2bbd59e1",
   "metadata": {
    "tags": []
   },
   "outputs": [],
   "source": [
    "# Get Words of Highest Value for each Topic\n",
    "for topic in range(components_df.shape[0]):\n",
    "    tmp = components_df.iloc[topic]\n",
    "    print(f'For topic {topic+1} the words with the highest value are:')\n",
    "    print(tmp.nlargest(10))\n",
    "    print('\\n')"
   ]
  },
  {
   "cell_type": "code",
   "execution_count": null,
   "id": "8d8b3425-3685-4528-9a1c-9e3c14be322a",
   "metadata": {
    "tags": []
   },
   "outputs": [],
   "source": [
    "def topic_table(n_top_words, feature_names, nmf):\n",
    "  topics = {}\n",
    "  for i, topic_vec in enumerate(nmf.components_):\n",
    "    topic_descr = ''\n",
    "    for fid in topic_vec.argsort()[-1:-n_top_words-1:-1]:\n",
    "      topic_descr = topic_descr + feature_names[fid] + \" \"\n",
    "    topics[i] = topic_descr\n",
    "  return pd.DataFrame({'Top_Topic_Terms': topics})\n",
    "\n",
    "# Label topics with top 5 terms\n",
    "topic_df = topic_table(5, vectorizer.get_feature_names_out(), nmf_model)\n",
    "\n",
    "# Manually label topics\n",
    "topic_df['Label'] = ['Flavoured Drinks/Juices', 'Tea', 'Coffee', 'Price', 'Taste', 'Pet Food', 'Healthy', 'Chocolate/Sweet Snacks', 'Quality/Delivery', 'Satisfaction']\n",
    "\n",
    "# Getting weights to classify our dataset\n",
    "document_weights = nmf_model.transform(vectorizer.transform(df['cleaned_text']))\n",
    "\n",
    "# Store most representative topic\n",
    "df[\"Topic_idx\"] = document_weights.argmax(axis=1)\n",
    "# Joining the original dataset with labels\n",
    "df = pd.merge(df, topic_df, left_on='Topic_idx', right_index=True, how='left')"
   ]
  },
  {
   "cell_type": "code",
   "execution_count": null,
   "id": "96bdcc73-caea-48a9-a46a-75419ede8308",
   "metadata": {
    "tags": []
   },
   "outputs": [],
   "source": [
    "df.head()"
   ]
  },
  {
   "cell_type": "markdown",
   "id": "8672f2ee-0f14-4654-b9e0-79bbc8299e2e",
   "metadata": {},
   "source": [
    "# Using our NMF Python Class"
   ]
  },
  {
   "cell_type": "code",
   "execution_count": null,
   "id": "c40b12aa-35e2-4466-82fa-1ea7de52c347",
   "metadata": {},
   "outputs": [],
   "source": [
    "model = NMFModel(df)\n",
    "model.fit_transform()"
   ]
  },
  {
   "cell_type": "code",
   "execution_count": null,
   "id": "59668719-ec60-4c95-bbab-95d843f36b9b",
   "metadata": {},
   "outputs": [],
   "source": [
    "# Get the top words for each topic\n",
    "top_words = model.get_topic_terms()"
   ]
  },
  {
   "cell_type": "code",
   "execution_count": null,
   "id": "1c86ee07-5cd8-49ed-bb16-b9217feb4338",
   "metadata": {
    "tags": []
   },
   "outputs": [],
   "source": [
    "# Get the labels for each document\n",
    "labels = model.get_labels()"
   ]
  },
  {
   "cell_type": "code",
   "execution_count": null,
   "id": "db11c438-caeb-4ae4-b54a-c77b496e7a82",
   "metadata": {
    "tags": []
   },
   "outputs": [],
   "source": [
    "labels.head()"
   ]
  }
 ],
 "metadata": {
  "kernelspec": {
   "display_name": "Python 3 (ipykernel)",
   "language": "python",
   "name": "python3"
  },
  "language_info": {
   "codemirror_mode": {
    "name": "ipython",
    "version": 3
   },
   "file_extension": ".py",
   "mimetype": "text/x-python",
   "name": "python",
   "nbconvert_exporter": "python",
   "pygments_lexer": "ipython3",
   "version": "3.9.6"
  }
 },
 "nbformat": 4,
 "nbformat_minor": 5
}
