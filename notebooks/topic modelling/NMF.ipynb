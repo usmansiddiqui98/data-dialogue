{
 "cells": [
  {
   "cell_type": "code",
   "execution_count": null,
   "id": "2aa77495-e287-429c-9140-156c75f6efcf",
   "metadata": {},
   "outputs": [],
   "source": [
    "import pandas as pd\n",
    "import pandas as pd\n",
    "from sklearn.decomposition import NMF\n",
    "from sklearn.feature_extraction.text import TfidfVectorizer"
   ]
  },
  {
   "cell_type": "code",
   "execution_count": null,
   "id": "efd951d1-7328-4f00-aa67-9d05b403415f",
   "metadata": {
    "tags": []
   },
   "outputs": [],
   "source": [
    "df = pd.read_csv('../../data/processed/cleaned_reviews.csv')\n",
    "df.head()"
   ]
  },
  {
   "cell_type": "markdown",
   "id": "97cdc480-656a-437c-a8f1-5c1bc2dbc496",
   "metadata": {},
   "source": [
    "# NMF"
   ]
  },
  {
   "cell_type": "code",
   "execution_count": null,
   "id": "248f918c-9509-4776-b8dc-f3c9e1b181ed",
   "metadata": {
    "tags": []
   },
   "outputs": [],
   "source": [
    "vectorizer = TfidfVectorizer(stop_words='english', \n",
    "max_features= 1000, # keep top 1000 terms \n",
    "max_df = 0.5, \n",
    "smooth_idf=True)\n",
    "\n",
    "X = vectorizer.fit_transform(df['clean_reviews'])\n",
    "\n",
    "X.shape # check shape of the document-term matrix"
   ]
  },
  {
   "cell_type": "code",
   "execution_count": null,
   "id": "0d56538c-c43f-402c-957b-f6b52f18cc85",
   "metadata": {
    "tags": []
   },
   "outputs": [],
   "source": [
    "# Create an NMF model\n",
    "# 10 components will be the topics\n",
    "nmf_model = NMF(n_components=10, random_state=5)\n",
    " \n",
    "# Fit the model to TF-IDF\n",
    "nmf_model.fit(X)\n",
    " \n",
    "# Transform the TF-IDF: nmf_features\n",
    "nmf_features = nmf_model.transform(X)\n",
    "\n",
    "len(nmf_model.components_) "
   ]
  },
  {
   "cell_type": "code",
   "execution_count": null,
   "id": "5beace9d-3731-4693-ae8d-773e8bfca575",
   "metadata": {
    "tags": []
   },
   "outputs": [],
   "source": [
    "# Create a DataFrame: components_df\n",
    "components_df = pd.DataFrame(nmf_model.components_, columns=vectorizer.get_feature_names_out())\n",
    "components_df"
   ]
  },
  {
   "cell_type": "code",
   "execution_count": null,
   "id": "5f73c18d-333b-4323-b3aa-9f8d2bbd59e1",
   "metadata": {
    "tags": []
   },
   "outputs": [],
   "source": [
    "# Get Words of Highest Value for each Topic\n",
    "for topic in range(components_df.shape[0]):\n",
    "    tmp = components_df.iloc[topic]\n",
    "    print(f'For topic {topic+1} the words with the highest value are:')\n",
    "    print(tmp.nlargest(10))\n",
    "    print('\\n')"
   ]
  }
 ],
 "metadata": {
  "kernelspec": {
   "display_name": "Python 3 (ipykernel)",
   "language": "python",
   "name": "python3"
  },
  "language_info": {
   "codemirror_mode": {
    "name": "ipython",
    "version": 3
   },
   "file_extension": ".py",
   "mimetype": "text/x-python",
   "name": "python",
   "nbconvert_exporter": "python",
   "pygments_lexer": "ipython3",
   "version": "3.9.6"
  }
 },
 "nbformat": 4,
 "nbformat_minor": 5
}
