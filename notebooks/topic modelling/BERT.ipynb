{
 "cells": [
  {
   "cell_type": "code",
   "execution_count": 129,
   "metadata": {
    "collapsed": true
   },
   "outputs": [],
   "source": [
    "import pandas as pd\n",
    "from bertopic import BERTopic\n",
    "from sentence_transformers import SentenceTransformer\n",
    "import pickle\n",
    "from scipy.cluster import hierarchy as sch\n",
    "from umap import UMAP\n",
    "from hdbscan import HDBSCAN\n",
    "import numpy as np"
   ]
  },
  {
   "cell_type": "code",
   "execution_count": 130,
   "outputs": [
    {
     "name": "stdout",
     "output_type": "stream",
     "text": [
      "True\n",
      "1\n",
      "0\n",
      "NVIDIA GeForce RTX 2070 SUPER\n"
     ]
    }
   ],
   "source": [
    "import torch\n",
    "print(torch.cuda.is_available())\n",
    "print(torch.cuda.device_count())\n",
    "print(torch.cuda.current_device())\n",
    "print(torch.cuda.get_device_name())\n"
   ],
   "metadata": {
    "collapsed": false
   }
  },
  {
   "cell_type": "code",
   "execution_count": 131,
   "outputs": [
    {
     "data": {
      "text/plain": "  Sentiment     Time                                               Text  \\\n0  positive  18/6/21  This is a very healthy dog food. Good for thei...   \n1  positive   7/7/21  I've been very pleased with the Natural Balanc...   \n2  positive  18/6/21  Before I was educated about feline nutrition, ...   \n3  positive   7/7/21  My holistic vet recommended this, along with a...   \n4  positive   1/7/21  I bought this coffee because its much cheaper ...   \n\n                                        Cleaned Text  Label  \n0  healthy dog food good digestion also good smal...      1  \n1  pleased natural balance dog food dog issue dog...      1  \n2  educate feline nutrition allow cat become addi...      1  \n3  holistic vet recommend along brand try cat pre...      1  \n4  buy coffee much cheap ganocafe organic reishi ...      1  ",
      "text/html": "<div>\n<style scoped>\n    .dataframe tbody tr th:only-of-type {\n        vertical-align: middle;\n    }\n\n    .dataframe tbody tr th {\n        vertical-align: top;\n    }\n\n    .dataframe thead th {\n        text-align: right;\n    }\n</style>\n<table border=\"1\" class=\"dataframe\">\n  <thead>\n    <tr style=\"text-align: right;\">\n      <th></th>\n      <th>Sentiment</th>\n      <th>Time</th>\n      <th>Text</th>\n      <th>Cleaned Text</th>\n      <th>Label</th>\n    </tr>\n  </thead>\n  <tbody>\n    <tr>\n      <th>0</th>\n      <td>positive</td>\n      <td>18/6/21</td>\n      <td>This is a very healthy dog food. Good for thei...</td>\n      <td>healthy dog food good digestion also good smal...</td>\n      <td>1</td>\n    </tr>\n    <tr>\n      <th>1</th>\n      <td>positive</td>\n      <td>7/7/21</td>\n      <td>I've been very pleased with the Natural Balanc...</td>\n      <td>pleased natural balance dog food dog issue dog...</td>\n      <td>1</td>\n    </tr>\n    <tr>\n      <th>2</th>\n      <td>positive</td>\n      <td>18/6/21</td>\n      <td>Before I was educated about feline nutrition, ...</td>\n      <td>educate feline nutrition allow cat become addi...</td>\n      <td>1</td>\n    </tr>\n    <tr>\n      <th>3</th>\n      <td>positive</td>\n      <td>7/7/21</td>\n      <td>My holistic vet recommended this, along with a...</td>\n      <td>holistic vet recommend along brand try cat pre...</td>\n      <td>1</td>\n    </tr>\n    <tr>\n      <th>4</th>\n      <td>positive</td>\n      <td>1/7/21</td>\n      <td>I bought this coffee because its much cheaper ...</td>\n      <td>buy coffee much cheap ganocafe organic reishi ...</td>\n      <td>1</td>\n    </tr>\n  </tbody>\n</table>\n</div>"
     },
     "execution_count": 131,
     "metadata": {},
     "output_type": "execute_result"
    }
   ],
   "source": [
    "df = pd.read_csv(\"../../data/processed/clean_reviews.csv\")\n",
    "df.head()"
   ],
   "metadata": {
    "collapsed": false
   }
  },
  {
   "cell_type": "code",
   "execution_count": 132,
   "outputs": [
    {
     "data": {
      "text/plain": "5444"
     },
     "execution_count": 132,
     "metadata": {},
     "output_type": "execute_result"
    }
   ],
   "source": [
    "len(df)"
   ],
   "metadata": {
    "collapsed": false
   }
  },
  {
   "cell_type": "code",
   "execution_count": 133,
   "outputs": [],
   "source": [
    "reviews = df['Cleaned Text'].tolist()\n",
    "time = pd.to_datetime(df.Time).tolist()"
   ],
   "metadata": {
    "collapsed": false
   }
  },
  {
   "cell_type": "code",
   "execution_count": 134,
   "outputs": [],
   "source": [
    "# Prepare embeddings\n",
    "# sentence_model = SentenceTransformer(\"all-MiniLM-L6-v2\")\n",
    "# sentence_model = SentenceTransformer(\"all-mpnet-base-v2\")\n",
    "# embeddings = sentence_model.encode(reviews, show_progress_bar=True)"
   ],
   "metadata": {
    "collapsed": false
   }
  },
  {
   "cell_type": "code",
   "execution_count": 135,
   "outputs": [],
   "source": [
    "# save embeddings\n",
    "# with open('reviews_all-MiniLM-L6-v2_embedding.pickle', 'wb') as pkl:\n",
    "# with open('reviews_all-mpnet-base-v2_embedding.pickle', 'wb') as pkl:\n",
    "#     pickle.dump(embeddings, pkl)\n"
   ],
   "metadata": {
    "collapsed": false
   }
  },
  {
   "cell_type": "code",
   "execution_count": 136,
   "outputs": [],
   "source": [
    "# load embeddings\n",
    "# with open('reviews_all-MiniLM-L6-v2_embedding.pickle', 'rb') as pkl:\n",
    "with open('reviews_all-mpnet-base-v2_embedding.pickle', 'rb') as pkl:\n",
    "    embeddings = pickle.load(pkl)\n"
   ],
   "metadata": {
    "collapsed": false
   }
  },
  {
   "cell_type": "code",
   "execution_count": 137,
   "outputs": [],
   "source": [
    "# configure UMAP for reproducibility\n",
    "umap_model = UMAP(n_neighbors=50,\n",
    "                  n_components=5,\n",
    "                  min_dist=0.0,\n",
    "                  metric='cosine',\n",
    "                  random_state=42)\n",
    "\n",
    "# configure hdbscan\n",
    "hdbscan_model = HDBSCAN(min_cluster_size=50,\n",
    "                        min_samples=20,\n",
    "                        metric='euclidean',\n",
    "                        prediction_data = True)"
   ],
   "metadata": {
    "collapsed": false
   }
  },
  {
   "cell_type": "code",
   "execution_count": 138,
   "outputs": [],
   "source": [
    "topic_model = BERTopic(language=\"english\",\n",
    "                       min_topic_size=40,\n",
    "                       umap_model=umap_model,\n",
    "                       hdbscan_model=hdbscan_model,\n",
    "                       nr_topics='auto')\n",
    "topics, probs = topic_model.fit_transform(reviews, embeddings)"
   ],
   "metadata": {
    "collapsed": false
   }
  },
  {
   "cell_type": "code",
   "execution_count": 139,
   "outputs": [
    {
     "data": {
      "text/plain": "    Topic  Count                            Name\n0      -1   1867     -1_taste_product_great_like\n1       0    495        0_coffee_cup_taste_roast\n2       1    450       1_sauce_soup_noodle_pasta\n3       2    350         2_tea_green_taste_drink\n4       3    318            3_dog_food_cat_treat\n5       4    290        4_drink_juice_soda_water\n6       5    288          5_candy_gift_taste_box\n7       6    235          6_price_ship_buy_store\n8       7    154       7_gluten_free_pancake_mix\n9       8    113        8_sugar_syrup_stevia_use\n10      9    110     9_chocolate_hot_cocoa_taste\n11     10    109    10_bar_snack_granola_protein\n12     11    104       11_chip_potato_bag_kettle\n13     12    100     12_peanut_butter_nut_almond\n14     13     89     13_cereal_fiber_eat_healthy\n15     14     83      14_baby_formula_food_stool\n16     15     72  15_snack_great_healthy_calorie\n17     16     56       16_protein_milk_shake_mix\n18     17     55        17_salt_table_sea_sodium\n19     18     54       18_popcorn_pop_oil_popper\n20     19     52          19_cake_frost_mix_make",
      "text/html": "<div>\n<style scoped>\n    .dataframe tbody tr th:only-of-type {\n        vertical-align: middle;\n    }\n\n    .dataframe tbody tr th {\n        vertical-align: top;\n    }\n\n    .dataframe thead th {\n        text-align: right;\n    }\n</style>\n<table border=\"1\" class=\"dataframe\">\n  <thead>\n    <tr style=\"text-align: right;\">\n      <th></th>\n      <th>Topic</th>\n      <th>Count</th>\n      <th>Name</th>\n    </tr>\n  </thead>\n  <tbody>\n    <tr>\n      <th>0</th>\n      <td>-1</td>\n      <td>1867</td>\n      <td>-1_taste_product_great_like</td>\n    </tr>\n    <tr>\n      <th>1</th>\n      <td>0</td>\n      <td>495</td>\n      <td>0_coffee_cup_taste_roast</td>\n    </tr>\n    <tr>\n      <th>2</th>\n      <td>1</td>\n      <td>450</td>\n      <td>1_sauce_soup_noodle_pasta</td>\n    </tr>\n    <tr>\n      <th>3</th>\n      <td>2</td>\n      <td>350</td>\n      <td>2_tea_green_taste_drink</td>\n    </tr>\n    <tr>\n      <th>4</th>\n      <td>3</td>\n      <td>318</td>\n      <td>3_dog_food_cat_treat</td>\n    </tr>\n    <tr>\n      <th>5</th>\n      <td>4</td>\n      <td>290</td>\n      <td>4_drink_juice_soda_water</td>\n    </tr>\n    <tr>\n      <th>6</th>\n      <td>5</td>\n      <td>288</td>\n      <td>5_candy_gift_taste_box</td>\n    </tr>\n    <tr>\n      <th>7</th>\n      <td>6</td>\n      <td>235</td>\n      <td>6_price_ship_buy_store</td>\n    </tr>\n    <tr>\n      <th>8</th>\n      <td>7</td>\n      <td>154</td>\n      <td>7_gluten_free_pancake_mix</td>\n    </tr>\n    <tr>\n      <th>9</th>\n      <td>8</td>\n      <td>113</td>\n      <td>8_sugar_syrup_stevia_use</td>\n    </tr>\n    <tr>\n      <th>10</th>\n      <td>9</td>\n      <td>110</td>\n      <td>9_chocolate_hot_cocoa_taste</td>\n    </tr>\n    <tr>\n      <th>11</th>\n      <td>10</td>\n      <td>109</td>\n      <td>10_bar_snack_granola_protein</td>\n    </tr>\n    <tr>\n      <th>12</th>\n      <td>11</td>\n      <td>104</td>\n      <td>11_chip_potato_bag_kettle</td>\n    </tr>\n    <tr>\n      <th>13</th>\n      <td>12</td>\n      <td>100</td>\n      <td>12_peanut_butter_nut_almond</td>\n    </tr>\n    <tr>\n      <th>14</th>\n      <td>13</td>\n      <td>89</td>\n      <td>13_cereal_fiber_eat_healthy</td>\n    </tr>\n    <tr>\n      <th>15</th>\n      <td>14</td>\n      <td>83</td>\n      <td>14_baby_formula_food_stool</td>\n    </tr>\n    <tr>\n      <th>16</th>\n      <td>15</td>\n      <td>72</td>\n      <td>15_snack_great_healthy_calorie</td>\n    </tr>\n    <tr>\n      <th>17</th>\n      <td>16</td>\n      <td>56</td>\n      <td>16_protein_milk_shake_mix</td>\n    </tr>\n    <tr>\n      <th>18</th>\n      <td>17</td>\n      <td>55</td>\n      <td>17_salt_table_sea_sodium</td>\n    </tr>\n    <tr>\n      <th>19</th>\n      <td>18</td>\n      <td>54</td>\n      <td>18_popcorn_pop_oil_popper</td>\n    </tr>\n    <tr>\n      <th>20</th>\n      <td>19</td>\n      <td>52</td>\n      <td>19_cake_frost_mix_make</td>\n    </tr>\n  </tbody>\n</table>\n</div>"
     },
     "execution_count": 139,
     "metadata": {},
     "output_type": "execute_result"
    }
   ],
   "source": [
    "# Get the list of topics\n",
    "topic_model.get_topic_info()"
   ],
   "metadata": {
    "collapsed": false
   }
  },
  {
   "cell_type": "code",
   "execution_count": null,
   "outputs": [],
   "source": [
    "# Visualize intertopic distance\n",
    "topic_model.visualize_topics()"
   ],
   "metadata": {
    "collapsed": false
   }
  },
  {
   "cell_type": "code",
   "execution_count": null,
   "outputs": [],
   "source": [
    "# Visualize top topic keywords\n",
    "topic_model.visualize_barchart(top_n_topics=20)"
   ],
   "metadata": {
    "collapsed": false
   }
  },
  {
   "cell_type": "code",
   "execution_count": null,
   "outputs": [],
   "source": [
    "# Visualize similarity using heatmap\n",
    "topic_model.visualize_heatmap()"
   ],
   "metadata": {
    "collapsed": false
   }
  },
  {
   "cell_type": "code",
   "execution_count": null,
   "outputs": [],
   "source": [
    "# # Hierarchical topics\n",
    "# linkage_function = lambda x: sch.linkage(x, 'single', optimal_ordering=True)\n",
    "# hierarchical_topics = topic_model.hierarchical_topics(reviews, linkage_function=linkage_function)\n",
    "# topic_model.visualize_hierarchy(hierarchical_topics=hierarchical_topics)\n",
    "\n",
    "# Visualize connections between topics using hierachical clustering\n",
    "topic_model.visualize_hierarchy(top_n_topics=20)"
   ],
   "metadata": {
    "collapsed": false
   }
  },
  {
   "cell_type": "code",
   "execution_count": null,
   "outputs": [],
   "source": [
    "topic_model.visualize_documents(df[\"Cleaned Text\"], reduced_embeddings=umap_model.fit_transform(embeddings))"
   ],
   "metadata": {
    "collapsed": false
   }
  },
  {
   "cell_type": "code",
   "execution_count": null,
   "outputs": [],
   "source": [
    "topics_over_time = topic_model.topics_over_time(reviews, time, nr_bins=10)"
   ],
   "metadata": {
    "collapsed": false
   }
  },
  {
   "cell_type": "code",
   "execution_count": null,
   "outputs": [],
   "source": [
    "topic_model.visualize_topics_over_time(topics_over_time, top_n_topics=10, normalize_frequency=True)"
   ],
   "metadata": {
    "collapsed": false
   }
  },
  {
   "cell_type": "code",
   "execution_count": null,
   "outputs": [],
   "source": [
    "topic_model.visualize_topics_over_time(topics_over_time, top_n_topics=10, normalize_frequency=False)"
   ],
   "metadata": {
    "collapsed": false
   }
  },
  {
   "cell_type": "code",
   "execution_count": null,
   "outputs": [],
   "source": [],
   "metadata": {
    "collapsed": false
   }
  }
 ],
 "metadata": {
  "kernelspec": {
   "display_name": "Python 3",
   "language": "python",
   "name": "python3"
  },
  "language_info": {
   "codemirror_mode": {
    "name": "ipython",
    "version": 2
   },
   "file_extension": ".py",
   "mimetype": "text/x-python",
   "name": "python",
   "nbconvert_exporter": "python",
   "pygments_lexer": "ipython2",
   "version": "2.7.6"
  }
 },
 "nbformat": 4,
 "nbformat_minor": 0
}
