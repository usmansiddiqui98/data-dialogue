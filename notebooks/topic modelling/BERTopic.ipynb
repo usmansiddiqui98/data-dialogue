{
 "cells": [
  {
   "cell_type": "markdown",
   "id": "8d7cdb8c-0f54-42e9-a6dd-394a0b58f890",
   "metadata": {},
   "source": [
    "# BERTtopic"
   ]
  },
  {
   "cell_type": "markdown",
   "id": "a5c0f687-d2a9-4d7f-92a7-e5f1c23f48d1",
   "metadata": {
    "jp-MarkdownHeadingCollapsed": true,
    "tags": []
   },
   "source": [
    "## Import libraries and data"
   ]
  },
  {
   "cell_type": "code",
   "execution_count": null,
   "id": "bad06482-322b-48bd-a7cf-c2fb4f87aebe",
   "metadata": {
    "tags": []
   },
   "outputs": [],
   "source": [
    "import pandas as pd\n",
    "import numpy as np\n",
    "from bertopic import BERTopic\n",
    "from sentence_transformers import SentenceTransformer\n",
    "from umap import UMAP\n",
    "from hdbscan import HDBSCAN"
   ]
  },
  {
   "cell_type": "code",
   "execution_count": null,
   "id": "9d5db534-7754-49ad-a74d-5c7c54b0cde7",
   "metadata": {
    "tags": []
   },
   "outputs": [],
   "source": [
    "data = pd.read_csv(\"../../data/processed/clean_reviews.csv\", parse_dates=['Time'])\n",
    "data.columns = [x.lower().replace(\" \", \"_\") for x in data.columns ]\n",
    "data.head()"
   ]
  },
  {
   "cell_type": "markdown",
   "id": "163b8c69-1d6d-413a-8340-8a14f3fe9e33",
   "metadata": {
    "jp-MarkdownHeadingCollapsed": true,
    "tags": []
   },
   "source": [
    "## Prepare model"
   ]
  },
  {
   "cell_type": "markdown",
   "id": "8186efbc-ce95-4e13-b0f4-2f309be91d03",
   "metadata": {
    "tags": []
   },
   "source": [
    "### Prepare embeddings"
   ]
  },
  {
   "cell_type": "code",
   "execution_count": null,
   "id": "6b3f5cca-810d-458b-a658-247d051d7f2b",
   "metadata": {
    "tags": []
   },
   "outputs": [],
   "source": [
    "# Prepare embeddings\n",
    "sentence_model = SentenceTransformer(\"all-MiniLM-L12-v2\")\n",
    "embeddings = sentence_model.encode(data['cleaned_text'], show_progress_bar=True)"
   ]
  },
  {
   "cell_type": "markdown",
   "id": "44749d56-f1b1-49b6-9a5a-01862e2f78c0",
   "metadata": {},
   "source": [
    "### UMAP for dimensionality reduction"
   ]
  },
  {
   "cell_type": "code",
   "execution_count": null,
   "id": "948ec8e4-2955-4609-afc2-a14f770aaaab",
   "metadata": {
    "tags": []
   },
   "outputs": [],
   "source": [
    "\n",
    "umap_model = UMAP(n_neighbors=100, \n",
    "                  n_components=3, \n",
    "                  min_dist=0.0, \n",
    "                  metric='cosine', \n",
    "                  random_state=4263)"
   ]
  },
  {
   "cell_type": "markdown",
   "id": "2c4921ed-c8a7-43a5-89b3-c075e058f201",
   "metadata": {
    "tags": []
   },
   "source": [
    "### HDBSCAN for clustering"
   ]
  },
  {
   "cell_type": "code",
   "execution_count": null,
   "id": "5c0a6236-555d-4df2-9bc4-596a31daa812",
   "metadata": {
    "tags": []
   },
   "outputs": [],
   "source": [
    "\n",
    "hdbscan_model = HDBSCAN(min_cluster_size=50,\n",
    "                        min_samples=20,\n",
    "                        metric='euclidean',\n",
    "                        prediction_data = True)"
   ]
  },
  {
   "cell_type": "markdown",
   "id": "3fe988e2-f229-4e4e-8df5-30dcb10867bd",
   "metadata": {},
   "source": [
    "### Initialize BERTopic"
   ]
  },
  {
   "cell_type": "code",
   "execution_count": null,
   "id": "460ec1ff-1a5e-4c38-8c4b-3c0e65533804",
   "metadata": {
    "tags": []
   },
   "outputs": [],
   "source": [
    "# Initiate BERTopic\n",
    "topic_model = BERTopic(hdbscan_model=hdbscan_model,\n",
    "                       umap_model=umap_model,\n",
    "                       language=\"english\",\n",
    "                       calculate_probabilities=True,\n",
    "                       nr_topics=\"auto\")\n",
    "# Run BERTopic model\n",
    "topics, probabilities = topic_model.fit_transform(data['cleaned_text'], embeddings)"
   ]
  },
  {
   "cell_type": "markdown",
   "id": "7fa434f2-56a7-4895-bdf5-9df91aaed04a",
   "metadata": {
    "jp-MarkdownHeadingCollapsed": true,
    "tags": []
   },
   "source": [
    "## Evaluate model"
   ]
  },
  {
   "cell_type": "code",
   "execution_count": null,
   "id": "9982371c-87ef-48b9-aeee-96fc4d230fda",
   "metadata": {
    "tags": []
   },
   "outputs": [],
   "source": [
    "# Get the list of topics\n",
    "topic_model.get_topic_info()"
   ]
  },
  {
   "cell_type": "code",
   "execution_count": null,
   "id": "bc4c9ea0-d434-403e-b890-81a9943da538",
   "metadata": {
    "tags": []
   },
   "outputs": [],
   "source": [
    "# Get top 10 terms for a topic\n",
    "topic_model.get_topic(1)"
   ]
  },
  {
   "cell_type": "code",
   "execution_count": null,
   "id": "efdf0161-7693-47c0-96fe-48c02d4c14f9",
   "metadata": {
    "tags": []
   },
   "outputs": [],
   "source": [
    "# Visualize top topic keywords\n",
    "topic_model.visualize_barchart(top_n_topics=20)"
   ]
  },
  {
   "cell_type": "code",
   "execution_count": null,
   "id": "4aae8105-72a3-4249-910b-9c288167f5ed",
   "metadata": {
    "tags": []
   },
   "outputs": [],
   "source": [
    "# Visualize term rank decrease\n",
    "topic_model.visualize_term_rank()"
   ]
  },
  {
   "cell_type": "code",
   "execution_count": null,
   "id": "cf408c63-3131-4cd4-96c1-2ee6bb61c13f",
   "metadata": {
    "tags": []
   },
   "outputs": [],
   "source": [
    "# Visualize intertopic distance\n",
    "topic_model.visualize_topics()"
   ]
  },
  {
   "cell_type": "code",
   "execution_count": null,
   "id": "eade48dc-b939-4d53-bfa9-1af7450bde15",
   "metadata": {
    "tags": []
   },
   "outputs": [],
   "source": [
    "# Visualize connections between topics using hierachical clustering\n",
    "topic_model.visualize_hierarchy(top_n_topics=20)"
   ]
  },
  {
   "cell_type": "code",
   "execution_count": null,
   "id": "1d9c57d0-e5ea-4d64-932b-662aeb2ab3e6",
   "metadata": {
    "tags": []
   },
   "outputs": [],
   "source": [
    "# Visualize similarity using heatmap\n",
    "topic_model.visualize_heatmap()"
   ]
  },
  {
   "cell_type": "code",
   "execution_count": null,
   "id": "f556089a-e7b5-4ef8-b363-ada5550912c6",
   "metadata": {
    "tags": []
   },
   "outputs": [],
   "source": [
    "topic_model.visualize_documents(data[\"cleaned_text\"], reduced_embeddings=umap_model.fit_transform(embeddings))"
   ]
  },
  {
   "cell_type": "markdown",
   "id": "eab47511-a115-409d-8bd1-ba0e29e52ffc",
   "metadata": {},
   "source": [
    "### Topics over time"
   ]
  },
  {
   "cell_type": "code",
   "execution_count": null,
   "id": "a80ac8e5-b4c5-4987-8a3d-60532401187f",
   "metadata": {
    "tags": []
   },
   "outputs": [],
   "source": [
    "topics_over_time = topic_model.topics_over_time(data[\"cleaned_text\"], data[\"time\"])\n",
    "topic_model.visualize_topics_over_time(topics_over_time)"
   ]
  },
  {
   "cell_type": "markdown",
   "id": "e2c0f5ec-a178-4548-8c6a-6b6d0a12e844",
   "metadata": {},
   "source": [
    "### Topics by sentiment"
   ]
  },
  {
   "cell_type": "code",
   "execution_count": null,
   "id": "adb5a633-421b-4574-9cc5-262e6d6f35e5",
   "metadata": {
    "tags": []
   },
   "outputs": [],
   "source": [
    "sentiment = [i for i in data[\"label\"]]"
   ]
  },
  {
   "cell_type": "code",
   "execution_count": null,
   "id": "a2d67812-e46c-4539-8f98-b366bd7d5b27",
   "metadata": {
    "tags": []
   },
   "outputs": [],
   "source": [
    "topics_by_sentiment = topic_model.topics_per_class(data[\"cleaned_text\"], classes=sentiment)\n",
    "topic_model.visualize_topics_per_class(topics_by_sentiment)"
   ]
  },
  {
   "cell_type": "code",
   "execution_count": null,
   "id": "c064e54d-9c8d-4511-b4d0-9320a4abab61",
   "metadata": {
    "tags": []
   },
   "outputs": [],
   "source": [
    "# Calculate the topic distributions on a token-level\n",
    "topic_distr, topic_token_distr = topic_model.approximate_distribution(data[\"cleaned_text\"], calculate_tokens=True)\n",
    "\n",
    "# Visualize the token-level distributions\n",
    "df = topic_model.visualize_approximate_distribution(data[\"cleaned_text\"][1], topic_token_distr[1])\n",
    "df"
   ]
  },
  {
   "cell_type": "markdown",
   "id": "dd91004b-8877-4200-999e-c3c0631afe5b",
   "metadata": {
    "jp-MarkdownHeadingCollapsed": true,
    "tags": []
   },
   "source": [
    "## Append topic to dataset"
   ]
  },
  {
   "cell_type": "code",
   "execution_count": null,
   "id": "906712a9-5875-4484-b9a8-756ecb373236",
   "metadata": {
    "tags": []
   },
   "outputs": [],
   "source": [
    "# Get the topic predictions\n",
    "topic_prediction = topic_model.topics_[:]\n",
    "# Save the predictions in the dataframe\n",
    "data['topic_prediction'] = topic_prediction\n",
    "data.head()"
   ]
  }
 ],
 "metadata": {
  "kernelspec": {
   "display_name": "Python 3 (ipykernel)",
   "language": "python",
   "name": "python3"
  },
  "language_info": {
   "codemirror_mode": {
    "name": "ipython",
    "version": 3
   },
   "file_extension": ".py",
   "mimetype": "text/x-python",
   "name": "python",
   "nbconvert_exporter": "python",
   "pygments_lexer": "ipython3",
   "version": "3.10.8"
  }
 },
 "nbformat": 4,
 "nbformat_minor": 5
}
