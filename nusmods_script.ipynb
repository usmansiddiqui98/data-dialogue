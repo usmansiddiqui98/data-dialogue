{
 "cells": [
  {
   "cell_type": "code",
   "execution_count": 4,
   "id": "e4dd13fe-5af3-4347-8437-5ff24eee7662",
   "metadata": {},
   "outputs": [
    {
     "name": "stdout",
     "output_type": "stream",
     "text": [
      "dict_keys(['FIN3701A', 'FIN3702B', 'FIN3703B'])\n"
     ]
    }
   ],
   "source": [
    "import requests\n",
    "import pprint\n",
    "import pickle5 as pickle\n",
    "pp = pprint.PrettyPrinter(indent=4)\n",
    "AY = \"2022-2023\"\n",
    "sem = 2\n",
    "cutoffTime = 1100\n",
    "endTime = 1600\n",
    "\n",
    "x = requests.get(\"https://api.nusmods.com/v2/\" + AY + \"/moduleList.json\")\n",
    "moduleList = x.json()\n",
    "moduleList = [module for module in moduleList if module['moduleCode'].startswith(\"FIN\")]\n",
    "wantedMods = {}\n",
    "count = 0\n",
    "for mod in moduleList:\n",
    "    modCode = mod[\"moduleCode\"]\n",
    "    modNum = \"\".join(char for char in modCode if char.isdigit())\n",
    "    if int(modNum) < 5000 and int(modNum)>=3000:\n",
    "        x = requests.get(\"https://api.nusmods.com/v2/\" + AY + \"/modules/\" + modCode + \".json\")\n",
    "        modInfo = x.json()\n",
    "        for modInfoBySem in modInfo[\"semesterData\"]:\n",
    "            if modInfoBySem[\"semester\"] == sem:\n",
    "                for lesson in modInfoBySem[\"timetable\"]:\n",
    "                    if int(lesson[\"startTime\"]) > cutoffTime - 1 and int(lesson[\"endTime\"])<endTime-1 and lesson['day'] ==\"Thursday\":\n",
    "                        wantedMods[modCode] = modInfoBySem\n",
    "                        count += 1\n",
    "pp.pprint(wantedMods.keys())"
   ]
  },
  {
   "cell_type": "code",
   "execution_count": null,
   "id": "fe446c43-1e85-4413-8b53-a39f5d02dfdc",
   "metadata": {},
   "outputs": [],
   "source": []
  }
 ],
 "metadata": {
  "kernelspec": {
   "display_name": "Python 3 (ipykernel)",
   "language": "python",
   "name": "python3"
  },
  "language_info": {
   "codemirror_mode": {
    "name": "ipython",
    "version": 3
   },
   "file_extension": ".py",
   "mimetype": "text/x-python",
   "name": "python",
   "nbconvert_exporter": "python",
   "pygments_lexer": "ipython3",
   "version": "3.10.8"
  }
 },
 "nbformat": 4,
 "nbformat_minor": 5
}
